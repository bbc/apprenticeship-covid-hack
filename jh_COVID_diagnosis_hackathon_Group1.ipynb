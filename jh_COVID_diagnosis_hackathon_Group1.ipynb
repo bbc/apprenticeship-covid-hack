{
  "nbformat": 4,
  "nbformat_minor": 0,
  "metadata": {
    "colab": {
      "name": "jh_COVID-diagnosis-hackathon_Group1.ipynb",
      "provenance": [],
      "collapsed_sections": [],
      "include_colab_link": true
    },
    "kernelspec": {
      "name": "python3",
      "display_name": "Python 3"
    },
    "language_info": {
      "name": "python"
    },
    "accelerator": "GPU"
  },
  "cells": [
    {
      "cell_type": "markdown",
      "metadata": {
        "id": "view-in-github",
        "colab_type": "text"
      },
      "source": [
        "<a href=\"https://colab.research.google.com/github/bbc/apprenticeship-covid-hack/blob/main/jh_COVID_diagnosis_hackathon_Group1.ipynb\" target=\"_parent\"><img src=\"https://colab.research.google.com/assets/colab-badge.svg\" alt=\"Open In Colab\"/></a>"
      ]
    },
    {
      "cell_type": "markdown",
      "metadata": {
        "id": "GFzda9am9vnj"
      },
      "source": [
        "# Covid-19 diagnosis using symptoms\n",
        "\n",
        "[Prateek Gupta](https://www.pgupta.info) \n",
        "\n",
        "2020-05-20\n",
        "\n",
        "**Abstract:** This notebook is a tutorial on building a typical machine learning classifier. \n",
        "The process of doing so spans steps ranging from data wrangling to model selection. \n",
        "With the help of each of these steps we hope to make the reader familiar with challenges involved in building a machine learning system. \n",
        "\n",
        "# Question\n",
        "\n",
        "In this hackathon, we want to build a machine learning model to predict COVID-19 infections from symptoms.\n",
        "It has several applications, for example, triaging patients to be attended to by a doctor or nurse, recommending self-isolation through contact tracing apps. \n",
        "\n",
        "Zoabi et al. [[1]](https://www.nature.com/articles/s41746-020-00372-6) builds a decision tree classifier using the publicly available data reported by the Israeli Ministry of Health.\n",
        "The paper itself dicsusses the various challenges encountered in deploying such a model. \n",
        "It is encouraged to read the paper and learn the challeges and ways to overcome them. \n",
        "\n",
        "However, in this hackathon, we will use their dataset and make the participant familiar with a typical pipeline of building a machine learning system.\n",
        "\n",
        "[1] [Zoabi, Y., Deri-Rozov, S. & Shomron, N. Machine learning-based prediction of COVID-19 diagnosis based on symptoms. npj Digit. Med. 4, 3 (2021).]((https://www.nature.com/articles/s41746-020-00372-6))\n"
      ]
    },
    {
      "cell_type": "markdown",
      "metadata": {
        "id": "WfQWCQDjAKN0"
      },
      "source": [
        "# Setup the workspace\n",
        "\n",
        "We will clone their Git repository to to use their dataset"
      ]
    },
    {
      "cell_type": "code",
      "metadata": {
        "id": "yguOIEDX-YbD"
      },
      "source": [
        "#!git clone https://github.com/nshomron/covidpred.git"
      ],
      "execution_count": 176,
      "outputs": []
    },
    {
      "cell_type": "code",
      "metadata": {
        "id": "Pu-YhWIK3DHi"
      },
      "source": [
        "#!pip install shap"
      ],
      "execution_count": 177,
      "outputs": []
    },
    {
      "cell_type": "code",
      "metadata": {
        "id": "35jfRmroICGw"
      },
      "source": [
        "import pandas as pd\n",
        "import math\n",
        "import numpy as np\n",
        "\n",
        "from sklearn.preprocessing import OneHotEncoder\n",
        "from sklearn.preprocessing import LabelBinarizer\n",
        "from sklearn.metrics import plot_roc_curve, roc_auc_score, roc_curve\n",
        "\n",
        "from sklearn.tree import DecisionTreeClassifier\n",
        "from sklearn.svm import SVC\n",
        "from sklearn.naive_bayes import GaussianNB\n",
        "from sklearn.linear_model import LogisticRegression\n",
        "from sklearn.ensemble import RandomForestClassifier\n",
        "from sklearn.ensemble import StackingClassifier\n",
        "from sklearn.ensemble import GradientBoostingClassifier\n",
        "from sklearn.neighbors import KNeighborsClassifier\n",
        "from sklearn.neural_network import MLPClassifier\n",
        "from sklearn.model_selection import train_test_split\n",
        "\n",
        "import matplotlib.pyplot as plt\n",
        "from matplotlib.lines import Line2D\n",
        "\n",
        "import xgboost as xgb \n",
        "import shap\n",
        "\n",
        "plt.rcParams[\"figure.figsize\"] = (20, 5)"
      ],
      "execution_count": 178,
      "outputs": []
    },
    {
      "cell_type": "markdown",
      "metadata": {
        "id": "kv6FR_gOAV16"
      },
      "source": [
        "# Data \n",
        "\n",
        "Let's check how the data looks like and how various features are encoded. "
      ]
    },
    {
      "cell_type": "code",
      "metadata": {
        "colab": {
          "base_uri": "https://localhost:8080/"
        },
        "id": "P7tANpd5-tqj",
        "outputId": "8931cdc9-99f1-4bc8-cc73-b47116e4a6fd"
      },
      "source": [
        "df = pd.read_csv('covidpred/data/corona_tested_individuals_ver_006.english.csv.zip')"
      ],
      "execution_count": 179,
      "outputs": [
        {
          "output_type": "stream",
          "name": "stderr",
          "text": [
            "Columns (1,2,3,4,5) have mixed types.Specify dtype option on import or set low_memory=False.\n"
          ]
        }
      ]
    },
    {
      "cell_type": "code",
      "metadata": {
        "colab": {
          "base_uri": "https://localhost:8080/"
        },
        "id": "LXaLQdbBAElY",
        "outputId": "ff0d6352-e7ff-40ce-94db-34c89fed7c32"
      },
      "source": [
        "df.columns"
      ],
      "execution_count": 180,
      "outputs": [
        {
          "output_type": "execute_result",
          "data": {
            "text/plain": [
              "Index(['test_date', 'cough', 'fever', 'sore_throat', 'shortness_of_breath',\n",
              "       'head_ache', 'corona_result', 'age_60_and_above', 'gender',\n",
              "       'test_indication'],\n",
              "      dtype='object')"
            ]
          },
          "metadata": {},
          "execution_count": 180
        }
      ]
    },
    {
      "cell_type": "markdown",
      "metadata": {
        "id": "RWHY4TLAAhpJ"
      },
      "source": [
        "Great! These are the features used in the paper for their prediction task. The authors also list these features in the [README.md of their Github repo](https://github.com/nshomron/covidpred). "
      ]
    },
    {
      "cell_type": "markdown",
      "metadata": {
        "id": "PEtPMd2qGn72"
      },
      "source": [
        "Pandas read columns as string, so we need to convert them to the proper format before we can operate on it."
      ]
    },
    {
      "cell_type": "code",
      "metadata": {
        "id": "Zi7esn5RGdC8"
      },
      "source": [
        "df['test_date'] = pd.to_datetime(df['test_date'])"
      ],
      "execution_count": 181,
      "outputs": []
    },
    {
      "cell_type": "code",
      "metadata": {
        "colab": {
          "base_uri": "https://localhost:8080/"
        },
        "id": "Mdb3D7Y5BdTt",
        "outputId": "e38c588e-e8ba-4c8f-9f71-4ebced0779d5"
      },
      "source": [
        "print(\"Start date:\", min(df['test_date']))\n",
        "print(\"End date:\", max(df['test_date']))\n",
        "\n",
        "n_days = (max(df['test_date']) - min(df['test_date'])).days\n",
        "print(\"# of days: \", n_days)\n",
        "\n",
        "n_obs =  df.shape[0]\n",
        "print(\"# of observations:\", df.shape[0])\n",
        "print(\"# of features:\", df.shape[1])\n",
        "\n",
        "pos_cases = sum(df['corona_result'] == \"positive\")\n",
        "print(\"# of positively diagnosed cases: {0} ({1: 2.2f}%)\".format(pos_cases, 100*pos_cases / n_obs))\n",
        "\n",
        "neg_cases = sum(df['corona_result'] == \"negative\")\n",
        "print(\"# of negatively diagnosed cases: {0} ({1: 2.2f}%)\".format(neg_cases, 100 * neg_cases / n_obs))\n",
        "\n",
        "other_cases = sum(df['corona_result'] == \"other\") # possibly not confirmed\n",
        "print(\"# of other cases (possibly, not confirmed): {0} ({1: 2.2f}%)\".format(other_cases, 100 * other_cases / n_obs))"
      ],
      "execution_count": 182,
      "outputs": [
        {
          "output_type": "stream",
          "name": "stdout",
          "text": [
            "Start date: 2020-03-11 00:00:00\n",
            "End date: 2020-04-30 00:00:00\n",
            "# of days:  50\n",
            "# of observations: 278848\n",
            "# of features: 10\n",
            "# of positively diagnosed cases: 14729 ( 5.28%)\n",
            "# of negatively diagnosed cases: 260227 ( 93.32%)\n",
            "# of other cases (possibly, not confirmed): 3892 ( 1.40%)\n"
          ]
        }
      ]
    },
    {
      "cell_type": "markdown",
      "metadata": {
        "id": "7guFsw8K-Cvy"
      },
      "source": [
        "Since we do not have any information on what happened to \"other\" cases, we will exclude them from our exercise. \n",
        "\n"
      ]
    },
    {
      "cell_type": "code",
      "metadata": {
        "id": "I-2eeGvK-Bxv"
      },
      "source": [
        "df = df[df['corona_result'].isin(['positive', 'negative'])]"
      ],
      "execution_count": 183,
      "outputs": []
    },
    {
      "cell_type": "markdown",
      "metadata": {
        "id": "4hG2lfabKr1e"
      },
      "source": [
        "To build out predictor, we will be splitting our dataset into **training,  validation, and test sets**. \n",
        "A model is trained on the training dataset while the hyperparameters are tuned on the validation dataset. \n",
        "Finally, a test dataset is used to report final model's performance metrics. \n",
        "\n",
        "Since we have a time dependent dataset we will split our training and test dataset based on time. \n",
        "Thus, we find the date before which 60% of observations are present, and use that as our training dataset.\n",
        "We will use next 20% of the dataset as our validation dataset, and finally, the remaining 20% will be used as a test dataset. \n",
        "Thus, we use 60-20-20 split.\n",
        "\n",
        "The authors use 63%-23% training-test split, and a further split of training into train-valid dataset using 80-20% split.\n",
        "There is no prescribed formula on how to do this split. \n",
        "\n"
      ]
    },
    {
      "cell_type": "code",
      "metadata": {
        "id": "s0dEh77THGW6"
      },
      "source": [
        "date_counts = df.groupby(['test_date']).count()['gender'] # take count of any column. They will all be same.\n",
        "date_counts = date_counts.sort_index()\n",
        "cum_counts = date_counts.cumsum()\n",
        "cdf = cum_counts / n_obs\n",
        "\n"
      ],
      "execution_count": 184,
      "outputs": []
    },
    {
      "cell_type": "code",
      "metadata": {
        "colab": {
          "base_uri": "https://localhost:8080/"
        },
        "id": "WvTrB-PsMrOv",
        "outputId": "7df7073b-2fd6-415d-ef7d-1306d5eb4d95"
      },
      "source": [
        "max_training_date = cdf[cdf < 0.60].index.max()\n",
        "training_data = df[df['test_date'] <= max_training_date]\n",
        "\n",
        "min_test_date = cdf[cdf > 0.80].index.min()\n",
        "test_data = df[df['test_date'] >= min_test_date]\n",
        "\n",
        "valid_data = df[(max_training_date < df['test_date']) & (df['test_date'] < min_test_date)]\n",
        "print(\"max_training_date:\",max_training_date)\n",
        "print(\"min_test_date:\",min_test_date)\n",
        "print(\"# of observations in training dataset\", training_data.shape[0])\n",
        "print(\"# of observations in validation dataset\", valid_data.shape[0])\n",
        "print(\"# of observations in test dataset\", test_data.shape[0])"
      ],
      "execution_count": 185,
      "outputs": [
        {
          "output_type": "stream",
          "name": "stdout",
          "text": [
            "max_training_date: 2020-04-15 00:00:00\n",
            "min_test_date: 2020-04-22 00:00:00\n",
            "# of observations in training dataset 160717\n",
            "# of observations in validation dataset 53172\n",
            "# of observations in test dataset 61067\n"
          ]
        }
      ]
    },
    {
      "cell_type": "code",
      "metadata": {
        "colab": {
          "base_uri": "https://localhost:8080/",
          "height": 369
        },
        "id": "o95QciAQ8j5c",
        "outputId": "81a8d543-db00-4035-e687-ba4d8e54cca8"
      },
      "source": [
        "df_daily=df.groupby('test_date').count().reset_index()\n",
        "df_daily.plot(x='test_date', y=['corona_result'],kind=\"line\")\n",
        "plt.show()\n"
      ],
      "execution_count": 186,
      "outputs": [
        {
          "output_type": "display_data",
          "data": {
            "image/png": "[encoded data removed]",
            "text/plain": [
              "<Figure size 1440x360 with 1 Axes>"
            ]
          },
          "metadata": {
            "needs_background": "light"
          }
        }
      ]
    },
    {
      "cell_type": "code",
      "metadata": {
        "colab": {
          "base_uri": "https://localhost:8080/",
          "height": 445
        },
        "id": "T6FWU_ggiyzz",
        "outputId": "4732a658-1f77-4c80-ccf4-78f0c17366a6"
      },
      "source": [
        "\n",
        "\n",
        "age_60_df = df[[\"test_date\", \"age_60_and_above\"]]\n",
        "\n",
        "tempdf = pd.get_dummies(age_60_df[\"age_60_and_above\"])\n",
        "age_60_df = pd.merge(\n",
        "    left=age_60_df,\n",
        "    right=tempdf,\n",
        "    left_index=True,\n",
        "    right_index=True,\n",
        ")\n",
        "age_60_df = age_60_df.drop(columns=\"age_60_and_above\")\n",
        "age_60_dates = age_60_df.groupby('test_date').sum().reset_index()\n",
        "\n",
        "age_60_dates.set_index(\"test_date\").plot.bar()"
      ],
      "execution_count": 187,
      "outputs": [
        {
          "output_type": "execute_result",
          "data": {
            "text/plain": [
              "<matplotlib.axes._subplots.AxesSubplot at 0x7f29b7b817d0>"
            ]
          },
          "metadata": {},
          "execution_count": 187
        },
        {
          "output_type": "display_data",
          "data": {
            "image/png": "[encoded data removed]",
            "text/plain": [
              "<Figure size 1440x360 with 1 Axes>"
            ]
          },
          "metadata": {
            "needs_background": "light"
          }
        }
      ]
    },
    {
      "cell_type": "markdown",
      "metadata": {
        "id": "e5LvF7uAOiyx"
      },
      "source": [
        "### Using a date split has issues with the \"age_60_and_above\" column - No \"yes\" in valid_data or test_data\n",
        "Training data is selected from 15th April to 22nd April - this gives a selection of No, Yes and None\n",
        "\n",
        "BUT: Test data is selected after and including the 22nd April where the 60 and above data is only None\n",
        "\n",
        "AND: Validation data is selected from befor the 15th, again where the data is None\n",
        "\n",
        "Do we ditch the feature OR impute???"
      ]
    },
    {
      "cell_type": "markdown",
      "metadata": {
        "id": "fhA-mJ00Oznx"
      },
      "source": [
        "### Let's roll with a standard train_test_split for now"
      ]
    },
    {
      "cell_type": "code",
      "metadata": {
        "id": "afdq6Sof-21e"
      },
      "source": [
        "def normalise(x):\n",
        "  if type(x) == str:\n",
        "    return int(x) if x != \"None\" else 2\n",
        "  return x"
      ],
      "execution_count": 188,
      "outputs": []
    },
    {
      "cell_type": "code",
      "metadata": {
        "id": "qeoOgJXrO8LH"
      },
      "source": [
        "symptoms = [\"cough\",\"fever\",\"sore_throat\",\"shortness_of_breath\",\"head_ache\"]\n",
        "categorical = [\"age_60_and_above\",\"gender\",\"test_indication\"]\n",
        "\n",
        "#Clean inconsitent datatypes within symptom columns\n",
        "for col in symptoms:\n",
        "  df.loc[:, col] = df[col].apply(normalise)\n",
        "\n",
        "X = df.drop([\"test_date\"],axis=1)\n",
        "y = X[\"corona_result\"]\n",
        "\n",
        "#Split off training data and then spliut the remaining into validation and test\n",
        "training_data, X_rem, y_train, y_rem = train_test_split(X, y, test_size=0.33, random_state=42, stratify=y)\n",
        "valid_data, test_data, y_valid, y_test = train_test_split(X_rem,y_rem, test_size=0.5, random_state=42, stratify=y_rem)\n"
      ],
      "execution_count": 192,
      "outputs": []
    },
    {
      "cell_type": "markdown",
      "metadata": {
        "id": "J-xJrSsa5_Lz"
      },
      "source": [
        "**NOTE:**\n",
        "It is **extremely important** that you do not use the test dataset in the model building phase. \n",
        "While building models, it is required to tune the hyperparameter, adjust assumptions, modify features, etc. \n",
        "This should be done on the validation dataset. \n",
        "After several such iterations on the validation dataset, you will pick a model with the best performace as your final model. \n",
        "\n",
        "A test dataset is used to measure the final model's performance, which is a proxy for how it will perform (or generalize) in real life. \n",
        "Thus, to have a proper measure of model's genearalization, test dataset should not be part of your model building process. "
      ]
    },
    {
      "cell_type": "markdown",
      "metadata": {
        "id": "W86CzZGp_rOd"
      },
      "source": [
        "# Exploratory Data Analysis\n",
        "\n",
        "In this section, we will see the general statistics of features.\n",
        "In doing so, we will encounter inconsistencies in the data and address them accordingly. \n",
        "\n",
        "\n",
        "\n",
        "\n",
        "\n"
      ]
    },
    {
      "cell_type": "code",
      "metadata": {
        "colab": {
          "base_uri": "https://localhost:8080/"
        },
        "id": "jx1mMFLQEMdS",
        "outputId": "fb31a77b-293f-4b15-8fa7-5f65b158a8a8"
      },
      "source": [
        "# We want to predict 'corona_result'. \n",
        "# We will not use \"test_date\" as a feature. \n",
        "# So we narrow down the input features to this list \n",
        "INPUT_FEATURES = ['cough', 'fever', 'sore_throat', 'shortness_of_breath', 'head_ache', 'age_60_and_above', 'gender', 'test_indication']\n",
        "#INPUT_FEATURES = ['cough', 'fever', 'sore_throat', 'shortness_of_breath', 'head_ache', 'gender', 'test_indication']\n",
        "TARGET_COLUMN = 'corona_result'\n",
        "\n",
        "for col in INPUT_FEATURES:\n",
        "  print(\"*\"*25, f\" {col} \", \"*\"*25)\n",
        "  print(training_data[col].value_counts())"
      ],
      "execution_count": 193,
      "outputs": [
        {
          "output_type": "stream",
          "name": "stdout",
          "text": [
            "*************************  cough  *************************\n",
            "0    156362\n",
            "1     27701\n",
            "2       157\n",
            "Name: cough, dtype: int64\n",
            "*************************  fever  *************************\n",
            "0    169732\n",
            "1     14330\n",
            "2       158\n",
            "Name: fever, dtype: int64\n",
            "*************************  sore_throat  *************************\n",
            "0    182950\n",
            "1      1269\n",
            "2         1\n",
            "Name: sore_throat, dtype: int64\n",
            "*************************  shortness_of_breath  *************************\n",
            "0    183164\n",
            "1      1055\n",
            "2         1\n",
            "Name: shortness_of_breath, dtype: int64\n",
            "*************************  head_ache  *************************\n",
            "0    182641\n",
            "1      1578\n",
            "2         1\n",
            "Name: head_ache, dtype: int64\n",
            "*************************  age_60_and_above  *************************\n",
            "None    83971\n",
            "No      83273\n",
            "Yes     16976\n",
            "Name: age_60_and_above, dtype: int64\n",
            "*************************  gender  *************************\n",
            "female    86083\n",
            "male      85281\n",
            "None      12856\n",
            "Name: gender, dtype: int64\n",
            "*************************  test_indication  *************************\n",
            "Other                     160398\n",
            "Abroad                     16759\n",
            "Contact with confirmed      7063\n",
            "Name: test_indication, dtype: int64\n"
          ]
        }
      ]
    },
    {
      "cell_type": "markdown",
      "metadata": {
        "id": "6zw1MML0qSLK"
      },
      "source": [
        "## Group by Target Class and Visualise"
      ]
    },
    {
      "cell_type": "code",
      "metadata": {
        "colab": {
          "base_uri": "https://localhost:8080/",
          "height": 140
        },
        "id": "wDPKVhsWNGXR",
        "outputId": "99e145f9-d6ff-4f7d-d99d-42534c8c9a67"
      },
      "source": [
        "df_features = df.drop(\"test_date\",axis=1).copy()\n",
        "\n",
        "#preprocess symptoms\n",
        "for col in symptoms:\n",
        "    df_features[col].replace('None', 0, inplace=True)\n",
        "    df_features[col] = df_features[col].astype(np.uint8)\n",
        "    #print(\"=\"*40)\n",
        "    #print(df_features[col].value_counts())\n",
        "\n",
        "#preprocess categorical columns\n",
        "for col in categorical:\n",
        "    tempdf = pd.get_dummies(df_features[col], prefix=col)\n",
        "    df_features = pd.merge(\n",
        "        left=df_features,\n",
        "        right=tempdf,\n",
        "        left_index=True,\n",
        "        right_index=True,\n",
        "    )\n",
        "    df_features = df_features.drop(columns=col)\n",
        "df_features = df_features.drop(columns=[\"age_60_and_above_No\",\"age_60_and_above_None\",\n",
        "                                        \"gender_None\",\n",
        "                                        \"test_indication_Abroad\",\n",
        "                                        \"test_indication_Other\"])\n",
        "\n",
        "df_grouped = df_features.drop([\"gender_male\",\"gender_female\"], axis=1).groupby(TARGET_COLUMN).sum()\n",
        "df_grouped"
      ],
      "execution_count": 194,
      "outputs": [
        {
          "output_type": "execute_result",
          "data": {
            "text/html": [
              "<div>\n",
              "<style scoped>\n",
              "    .dataframe tbody tr th:only-of-type {\n",
              "        vertical-align: middle;\n",
              "    }\n",
              "\n",
              "    .dataframe tbody tr th {\n",
              "        vertical-align: top;\n",
              "    }\n",
              "\n",
              "    .dataframe thead th {\n",
              "        text-align: right;\n",
              "    }\n",
              "</style>\n",
              "<table border=\"1\" class=\"dataframe\">\n",
              "  <thead>\n",
              "    <tr style=\"text-align: right;\">\n",
              "      <th></th>\n",
              "      <th>cough</th>\n",
              "      <th>fever</th>\n",
              "      <th>sore_throat</th>\n",
              "      <th>shortness_of_breath</th>\n",
              "      <th>head_ache</th>\n",
              "      <th>age_60_and_above_Yes</th>\n",
              "      <th>test_indication_Contact with confirmed</th>\n",
              "    </tr>\n",
              "    <tr>\n",
              "      <th>corona_result</th>\n",
              "      <th></th>\n",
              "      <th></th>\n",
              "      <th></th>\n",
              "      <th></th>\n",
              "      <th></th>\n",
              "      <th></th>\n",
              "      <th></th>\n",
              "    </tr>\n",
              "  </thead>\n",
              "  <tbody>\n",
              "    <tr>\n",
              "      <th>negative</th>\n",
              "      <td>35425.0</td>\n",
              "      <td>16254.0</td>\n",
              "      <td>366.0</td>\n",
              "      <td>385.0</td>\n",
              "      <td>148.0</td>\n",
              "      <td>23221.0</td>\n",
              "      <td>3160.0</td>\n",
              "    </tr>\n",
              "    <tr>\n",
              "      <th>positive</th>\n",
              "      <td>6650.0</td>\n",
              "      <td>5625.0</td>\n",
              "      <td>1528.0</td>\n",
              "      <td>1166.0</td>\n",
              "      <td>2237.0</td>\n",
              "      <td>2204.0</td>\n",
              "      <td>7318.0</td>\n",
              "    </tr>\n",
              "  </tbody>\n",
              "</table>\n",
              "</div>"
            ],
            "text/plain": [
              "                 cough  ...  test_indication_Contact with confirmed\n",
              "corona_result           ...                                        \n",
              "negative       35425.0  ...                                  3160.0\n",
              "positive        6650.0  ...                                  7318.0\n",
              "\n",
              "[2 rows x 7 columns]"
            ]
          },
          "metadata": {},
          "execution_count": 194
        }
      ]
    },
    {
      "cell_type": "code",
      "metadata": {
        "colab": {
          "base_uri": "https://localhost:8080/",
          "height": 140
        },
        "id": "sNuJSo1zdRdI",
        "outputId": "ee0792b2-1a91-428e-cf2b-70a7af42bdb1"
      },
      "source": [
        "df_gender = df_features[[\"gender_male\",\"gender_female\",TARGET_COLUMN]].groupby(TARGET_COLUMN).sum()\n",
        "df_gender"
      ],
      "execution_count": 195,
      "outputs": [
        {
          "output_type": "execute_result",
          "data": {
            "text/html": [
              "<div>\n",
              "<style scoped>\n",
              "    .dataframe tbody tr th:only-of-type {\n",
              "        vertical-align: middle;\n",
              "    }\n",
              "\n",
              "    .dataframe tbody tr th {\n",
              "        vertical-align: top;\n",
              "    }\n",
              "\n",
              "    .dataframe thead th {\n",
              "        text-align: right;\n",
              "    }\n",
              "</style>\n",
              "<table border=\"1\" class=\"dataframe\">\n",
              "  <thead>\n",
              "    <tr style=\"text-align: right;\">\n",
              "      <th></th>\n",
              "      <th>gender_male</th>\n",
              "      <th>gender_female</th>\n",
              "    </tr>\n",
              "    <tr>\n",
              "      <th>corona_result</th>\n",
              "      <th></th>\n",
              "      <th></th>\n",
              "    </tr>\n",
              "  </thead>\n",
              "  <tbody>\n",
              "    <tr>\n",
              "      <th>negative</th>\n",
              "      <td>119851.0</td>\n",
              "      <td>122500.0</td>\n",
              "    </tr>\n",
              "    <tr>\n",
              "      <th>positive</th>\n",
              "      <td>7519.0</td>\n",
              "      <td>6041.0</td>\n",
              "    </tr>\n",
              "  </tbody>\n",
              "</table>\n",
              "</div>"
            ],
            "text/plain": [
              "               gender_male  gender_female\n",
              "corona_result                            \n",
              "negative          119851.0       122500.0\n",
              "positive            7519.0         6041.0"
            ]
          },
          "metadata": {},
          "execution_count": 195
        }
      ]
    },
    {
      "cell_type": "markdown",
      "metadata": {
        "id": "sr2mxqAvhXq7"
      },
      "source": [
        "## Visualisation: Features Grouped by Target Class"
      ]
    },
    {
      "cell_type": "code",
      "metadata": {
        "colab": {
          "base_uri": "https://localhost:8080/",
          "height": 443
        },
        "id": "FXfkj6fIQzGD",
        "outputId": "16550acd-131e-47be-f796-afbb5af1b46a"
      },
      "source": [
        "\n",
        "colour_palette = [\"#E8F086\",\"#6FDE6E\",\"#FF4242\",\"#A691AE\",\"#235FA4\", \"#848FA2\", \"#0A284B\"]\n",
        "pos = list(range(len(df_grouped['cough'])))\n",
        "\n",
        "#def plotBarChart(df, )\n",
        "width = 0.12\n",
        "\n",
        "fig, ax = plt.subplots(figsize=(12,7))\n",
        "\n",
        "count=0\n",
        "for col in df_grouped.columns:\n",
        "  plt.bar([p + width*count for p in pos], df_grouped[col], width, alpha=0.9, color=colour_palette[count])\n",
        "  count=count+1\n",
        "\n",
        "\n",
        "# Setting the y axis label\n",
        "ax.set_ylabel('Count')\n",
        "\n",
        "# Setting the chart's title\n",
        "ax.set_title('Features Grouped by Covid Test Results')\n",
        "\n",
        "# Setting the position of the x ticks\n",
        "ax.set_xticks([0.36,1.36])\n",
        "\n",
        "# Setting the labels for the x ticks\n",
        "ax.set_xticklabels(['negative','positive'])\n",
        "\n",
        "# Setting the x-axis and y-axis limits\n",
        "plt.xlim(min(pos)-width, max(pos)+width*len(df_grouped.columns))\n",
        "plt.ylim([0, 40000] )\n",
        "\n",
        "# Adding the legend and showing the plot\n",
        "plt.legend(df_grouped.columns, loc='upper right')\n",
        "plt.grid()\n",
        "plt.show()"
      ],
      "execution_count": 196,
      "outputs": [
        {
          "output_type": "display_data",
          "data": {
            "image/png": "[encoded data removed]",
            "text/plain": [
              "<Figure size 864x504 with 1 Axes>"
            ]
          },
          "metadata": {
            "needs_background": "light"
          }
        }
      ]
    },
    {
      "cell_type": "markdown",
      "metadata": {
        "id": "KaonfMLLjW9z"
      },
      "source": [
        "Notes:\n",
        "*   Low recording of some less physically obvious symptoms for those recording a negative result. This could indicate a bias.\n",
        "*   Cough and fever seem to good indicators\n",
        "*   Contact with a confirmed case also strong\n",
        "\n",
        "\n",
        "\n",
        "\n",
        "\n"
      ]
    },
    {
      "cell_type": "markdown",
      "metadata": {
        "id": "0cjlvoj9hizy"
      },
      "source": [
        "### Gender Grouped by Target Class"
      ]
    },
    {
      "cell_type": "code",
      "metadata": {
        "colab": {
          "base_uri": "https://localhost:8080/",
          "height": 460
        },
        "id": "Pin4Kx-fd0UI",
        "outputId": "7b4fbd3e-9bc2-4f4b-fb7a-73e27d95d4f8"
      },
      "source": [
        "\n",
        "colour_palette = [\"#FFC857\",\"#A997DF\"]\n",
        "pos = list(range(len(df_gender['gender_female'])))\n",
        "print(len(pos), pos)\n",
        "width = 0.4\n",
        "\n",
        "fig, ax = plt.subplots(figsize=(12,7))\n",
        "\n",
        "count=0\n",
        "for col in df_gender.columns:\n",
        "  plt.bar([p + width*count for p in pos], \n",
        "          df_gender[col], width, alpha=0.9,color=colour_palette[count])\n",
        "  count=count+1\n",
        "\n",
        "\n",
        "# Setting the y axis label\n",
        "ax.set_ylabel('Count')\n",
        "\n",
        "# Setting the chart's title\n",
        "ax.set_title('Gender Grouped by Covid test Results')\n",
        "\n",
        "# Setting the position of the x ticks\n",
        "ax.set_xticks([0.2,1.2])\n",
        "\n",
        "# Setting the labels for the x ticks\n",
        "ax.set_xticklabels(['negative','positive'])\n",
        "\n",
        "# Setting the x-axis and y-axis limits\n",
        "plt.xlim(min(pos)-width, max(pos)+width*len(df_gender.columns))\n",
        "plt.ylim([0, 140000] )\n",
        "\n",
        "# Adding the legend and showing the plot\n",
        "plt.legend(df_gender.columns, loc='upper right')\n",
        "plt.grid()\n",
        "plt.show()"
      ],
      "execution_count": 197,
      "outputs": [
        {
          "output_type": "stream",
          "name": "stdout",
          "text": [
            "2 [0, 1]\n"
          ]
        },
        {
          "output_type": "display_data",
          "data": {
            "image/png": "[encoded data removed]",
            "text/plain": [
              "<Figure size 864x504 with 1 Axes>"
            ]
          },
          "metadata": {
            "needs_background": "light"
          }
        }
      ]
    },
    {
      "cell_type": "markdown",
      "metadata": {
        "id": "q-Lw7AnFkSqz"
      },
      "source": [
        "Notes:\n",
        "*   There are more positive cases for males in spite of more females in the cohort\n",
        "\n",
        "\n"
      ]
    },
    {
      "cell_type": "markdown",
      "metadata": {
        "id": "P-bVRyzjR-dU"
      },
      "source": [
        "Here are the questions to guide you through the process of exploring data \n",
        "\n",
        "1.   Think about possible biases and limitations of this dataset\n",
        "2.   What is the format of feature values? Are there any inconsistencies? If so, how would you make them cosistent?\n",
        "3.   What is the statistics of these feature values? How many symptoms are reported or not?\n",
        "4.   Which symptoms have a reporting bias, i.e., likely to be reported when the patient is COVID positive? \n",
        "5.   How will the symptoms with reporting bias affect the model’s performance?\n",
        "6.   Visualization: Draw the bar graph of features grouped by the target class? \n",
        "7.   How does the bar graph of the symptoms with reporting bias looks like?\n",
        "8.   Determine if we have a class imbalance in the dataset? If so, what do you reckon will be the downstream challenges in evaluating the model? How will you overcome those challenges?\n",
        "9.   What does \"None\" value mean for feature? Should we include these features?"
      ]
    },
    {
      "cell_type": "markdown",
      "metadata": {
        "id": "IQRohLR0R8wd"
      },
      "source": [
        "\n",
        "**GOOD PRACTICE**: To make your plots accessible to everyone, it is always a good idea to use colorblind-friendly palette for your plots. Check out [this](https://medium.com/cafe-pixo/inclusive-color-palettes-for-the-web-bbfe8cf2410e) for such a palette."
      ]
    },
    {
      "cell_type": "markdown",
      "metadata": {
        "id": "GLRMrojV__Se"
      },
      "source": [
        "# Feature Engineering\n",
        "\n",
        "In this section, we will transform the features that models can operate upon. Note that this transformation doesn't have to be unique. \n",
        "It is very much dependent on the type of model you are building. \n",
        "\n",
        "Here is the list of questions to guide your feature engineering task \n",
        "\n",
        "1.   How will you represent the features in numerical format that can be accessible by model? \n",
        "2.   Are there any redundancies in your feature representation?\n",
        "3.   How will you represent targets in a format accessible to the model?\n",
        "\n",
        "Check out [`sklearn`'s preprocessing library](https://scikit-learn.org/stable/modules/preprocessing.html) for easy-to-use functions to do this. "
      ]
    },
    {
      "cell_type": "code",
      "metadata": {
        "colab": {
          "base_uri": "https://localhost:8080/"
        },
        "id": "ttD6cg_47VNH",
        "outputId": "56de0616-d95d-44ed-a42f-44041d1808b6"
      },
      "source": [
        "def preprocess(data, encoder, lb):\n",
        "  \"\"\"\n",
        "  Transforms `data` into format required for model building\n",
        "\n",
        "  Args:\n",
        "    data (pd.DataFrame): dataframe with columns `INPUT_FEAUTURES` and `TARGET_COLUMN`\n",
        "    encoder (sklearn.preprocessing.OneHotEncoder): A fitted OneHotEncoder to be used to transform `INPUT_FEATURES`\n",
        "    lb (sklearn.preprocessing.LabelBinarizer): A fitted LabelBinarizer to be used to transform `TARGET_COLUMN`\n",
        "  \n",
        "  Returns:\n",
        "    model_input (np.array): each row is an observation, columns are one-hot encoded features of `INPUT_FEATURES`\n",
        "    model_target (np.array): 1D array with 1 where `TARGET_COLUMN` is \"positive\" and 0 otherwise.\n",
        "  \"\"\"\n",
        "\n",
        "  x = encoder.transform(data[INPUT_FEATURES]).todense()\n",
        "  y = lb.transform(data[TARGET_COLUMN]).flatten() \n",
        "\n",
        "  return x, y\n",
        "\n",
        "lb = LabelBinarizer()\n",
        "lb.fit(training_data['corona_result'])\n",
        "\n",
        "\n",
        "encoder = OneHotEncoder()\n",
        "encoder.fit(training_data[INPUT_FEATURES]) \n"
      ],
      "execution_count": 200,
      "outputs": [
        {
          "output_type": "execute_result",
          "data": {
            "text/plain": [
              "OneHotEncoder(categories='auto', drop=None, dtype=<class 'numpy.float64'>,\n",
              "              handle_unknown='error', sparse=True)"
            ]
          },
          "metadata": {},
          "execution_count": 200
        }
      ]
    },
    {
      "cell_type": "markdown",
      "metadata": {
        "id": "5N6PYvo8NUuE"
      },
      "source": [
        "# Model building\n",
        "\n",
        "In this section, we will build various classifiers using `sklearn`. You do not have to restrict yourself to `sklearn`. Please feel free to use any other library.\n",
        "\n",
        "**TRY:**  Try various classifiers that you have learned so far.\n",
        "Here is the list of models to try :\n",
        "\n",
        "*  Logistic Regssion: [User Guide](https://scikit-learn.org/stable/modules/linear_model.html#logistic-regression). [API](https://scikit-learn.org/stable/modules/generated/sklearn.linear_model.LogisticRegression.html).\n",
        "*   Decision Trees: [User Guide](https://scikit-learn.org/stable/modules/tree.html#classification). [API](https://scikit-learn.org/stable/modules/generated/sklearn.tree.DecisionTreeClassifier.html#sklearn.tree.DecisionTreeClassifier). You can head down in the User Guide to [other Tree algorithms](https://scikit-learn.org/stable/modules/tree.html#tree-algorithms-id3-c4-5-c5-0-and-cart) if you fancy. \n",
        "*   Categorical Naive Bayes.[User Guide](https://scikit-learn.org/stable/modules/naive_bayes.html#categorical-naive-bayes). [API](https://scikit-learn.org/stable/modules/generated/sklearn.naive_bayes.CategoricalNB.html#sklearn.naive_bayes.CategoricalNB)\n",
        "*   Linear Discriminant Analysis. [User Guide](https://scikit-learn.org/stable/modules/lda_qda.html#). [API](https://scikit-learn.org/stable/modules/generated/sklearn.discriminant_analysis.LinearDiscriminantAnalysis.html#sklearn.discriminant_analysis.LinearDiscriminantAnalysis)\n",
        "*   Quadratic Discriminant Analysis. [User Guide](https://scikit-learn.org/stable/modules/lda_qda.html#). [API](https://scikit-learn.org/stable/modules/generated/sklearn.discriminant_analysis.QuadraticDiscriminantAnalysis.html#sklearn.discriminant_analysis.QuadraticDiscriminantAnalysis)\n",
        "*   Support Vector Machines. [User Guide](https://scikit-learn.org/stable/modules/svm.html#classification). [API](https://scikit-learn.org/stable/modules/generated/sklearn.svm.SVC.html#sklearn.svm.SVC)\n",
        "*   Nearest neighbors classification. [User Guide](https://scikit-learn.org/stable/modules/neighbors.html#nearest-neighbors-classification). [API](https://scikit-learn.org/stable/modules/generated/sklearn.neighbors.KNeighborsClassifier.html#sklearn.neighbors.KNeighborsClassifier)\n",
        "*   Neural networks - Multi-layer Perceptron (MLP). [User Guide](https://scikit-learn.org/stable/modules/neural_networks_supervised.html#multi-layer-perceptron). [API](https://scikit-learn.org/stable/modules/generated/sklearn.neural_network.MLPClassifier.html#sklearn.neural_network.MLPClassifier)\n",
        "\n"
      ]
    },
    {
      "cell_type": "code",
      "metadata": {
        "colab": {
          "base_uri": "https://localhost:8080/"
        },
        "id": "umfoXDDa-aOY",
        "outputId": "185004d8-b05b-4da8-85e0-5386ba315cc7"
      },
      "source": [
        "X_train, Y_train = preprocess(training_data, encoder, lb)\n",
        "model = clf = MLPClassifier(solver='adam', alpha=1e-5, hidden_layer_sizes=(3, 2), random_state=1, warm_start=False, max_iter=100)\n",
        "model.fit(X_train, Y_train)"
      ],
      "execution_count": 201,
      "outputs": [
        {
          "output_type": "execute_result",
          "data": {
            "text/plain": [
              "MLPClassifier(activation='relu', alpha=1e-05, batch_size='auto', beta_1=0.9,\n",
              "              beta_2=0.999, early_stopping=False, epsilon=1e-08,\n",
              "              hidden_layer_sizes=(3, 2), learning_rate='constant',\n",
              "              learning_rate_init=0.001, max_fun=15000, max_iter=100,\n",
              "              momentum=0.9, n_iter_no_change=10, nesterovs_momentum=True,\n",
              "              power_t=0.5, random_state=1, shuffle=True, solver='adam',\n",
              "              tol=0.0001, validation_fraction=0.1, verbose=False,\n",
              "              warm_start=False)"
            ]
          },
          "metadata": {},
          "execution_count": 201
        }
      ]
    },
    {
      "cell_type": "markdown",
      "metadata": {
        "id": "bZSS0TyANfG1"
      },
      "source": [
        "# Evaluate Model\n",
        "\n",
        "In this section, we will evaluate our model's performance on the validation dataset. \n",
        "\n",
        "Here are the list of questions to think about while deciding how to evaluate your model - \n",
        "*   Is accuracy the right metric to evaluate the model? Are inaccuracies correctly penalized in the accuracy metric?\n",
        "*  Would you think that the cost of false negative is more than the false positive? Is it dependent on the application?\n",
        "*  Which metric will minimize false negatives and false positives?\n",
        "*   Which dataset should you chose to evaluate the model? Validation or Test?\n",
        "What other metric is relevant in our context?  \n",
        "\n",
        "For benchmarking everyone’s results we will stick to ROC AUC score as a metric. \n",
        "There are standard functions to compute these scores in `sklearn`, so we will use them. \n",
        "Specifically, we will be using [`roc_auc_score`](https://scikit-learn.org/stable/modules/generated/sklearn.metrics.roc_auc_score.html#sklearn.metrics.roc_auc_score) and [`plot_roc_curve`](https://scikit-learn.org/stable/modules/generated/sklearn.metrics.plot_roc_curve.html).\n"
      ]
    },
    {
      "cell_type": "code",
      "metadata": {
        "id": "lwgrVR3kdJlD"
      },
      "source": [
        "def plot_ROC(model, X, Y):\n",
        "  # plot\n",
        "  fig, ax = plt.subplots(nrows=1, ncols=1, figsize=(5,5), dpi=100)\n",
        "  plot_roc_curve(model, X, Y, ax =ax, color=\"#2E4052\")\n",
        "\n",
        "  # formatting \n",
        "  ax.plot(np.arange(0,1, 0.01), np.arange(0, 1, 0.01), color=\"#2E4052\", linestyle=\"-.\") # reference line\n",
        "  ax.set_xlim(0, 1)\n",
        "  ax.set_ylim(0, 1)\n",
        "  _ = ax.set_title(\"Receiver Operating Characteristics\", fontsize=15)"
      ],
      "execution_count": 202,
      "outputs": []
    },
    {
      "cell_type": "code",
      "metadata": {
        "id": "5TGfy0kYV7pM"
      },
      "source": [
        "def evaluate(model, X, Y):\n",
        "  \"\"\"\n",
        "  Returns the AUC-ROC for `model` as evaluated on (X, Y)\n",
        "\n",
        "  Args:\n",
        "    model (): Any model that has a function predict_proba and returns probability for each row in `X`.\n",
        "    X (np.array): Input to the model containing feature values\n",
        "    Y (np.array): 1D array containing true class i.e. 0 or 1\n",
        "  \n",
        "  Returns:\n",
        "    (float): AUC ROC for the model\n",
        "  \"\"\"\n",
        "  y_pred = model.predict_proba(X)[:, 1]\n",
        "  return roc_auc_score(Y, y_pred)\n",
        "\n",
        "  \n",
        "  # For example - \n",
        "  # y_score = model.predict_proba(X) # (n_samples, n_clases) with each value being the probability of being in that class\n",
        "  # return roc_auc_score(y_true=Y, y_score=y_score[:, 1])"
      ],
      "execution_count": 203,
      "outputs": []
    },
    {
      "cell_type": "markdown",
      "metadata": {
        "id": "6n0jr-EekESj"
      },
      "source": [
        "# Hyperparameter Search\n",
        "\n",
        "In this section we will be searching for the best parameters to build our models. \n",
        "This is where we will use our validation dataset. \n",
        "\n",
        "\n"
      ]
    },
    {
      "cell_type": "code",
      "metadata": {
        "colab": {
          "base_uri": "https://localhost:8080/",
          "height": 364
        },
        "id": "TcDA3V97E0ga",
        "outputId": "92a20456-8086-4d3f-a144-46474dd03a96"
      },
      "source": [
        "# from sklearn.model_selection import GridSearchCV\n",
        "\n",
        "parameter_space = {\n",
        "    'hidden_layer_sizes': [(6,3, 2), (8,4,2)],\n",
        "    'activation': ['tanh', 'relu'],\n",
        "    'solver': ['adam'],\n",
        "    'alpha': [0.0001],\n",
        "    'learning_rate': ['constant'],\n",
        "    'random_state':[42]\n",
        "}\n",
        "\n",
        "clf = GridSearchCV(model, parameter_space, n_jobs=-1, cv=5)\n",
        "clf.fit(X_train, Y_train)\n",
        "\n",
        "# Best parameter set\n",
        "print('Best parameters found:\\n', clf.best_params_)\n",
        "\n",
        "# All results\n",
        "means = clf.cv_results_['mean_test_score']\n",
        "stds = clf.cv_results_['std_test_score']\n",
        "for mean, std, params in zip(means, stds, clf.cv_results_['params']):\n",
        "    print(\"%0.3f (+/-%0.03f) for %r\" % (mean, std * 2, params))"
      ],
      "execution_count": 204,
      "outputs": [
        {
          "output_type": "error",
          "ename": "KeyboardInterrupt",
          "evalue": "ignored",
          "traceback": [
            "\u001b[0;31m---------------------------------------------------------------------------\u001b[0m",
            "\u001b[0;31mKeyboardInterrupt\u001b[0m                         Traceback (most recent call last)",
            "\u001b[0;32m<ipython-input-204-5802de081485>\u001b[0m in \u001b[0;36m<module>\u001b[0;34m()\u001b[0m\n\u001b[1;32m     11\u001b[0m \u001b[0;34m\u001b[0m\u001b[0m\n\u001b[1;32m     12\u001b[0m \u001b[0mclf\u001b[0m \u001b[0;34m=\u001b[0m \u001b[0mGridSearchCV\u001b[0m\u001b[0;34m(\u001b[0m\u001b[0mmodel\u001b[0m\u001b[0;34m,\u001b[0m \u001b[0mparameter_space\u001b[0m\u001b[0;34m,\u001b[0m \u001b[0mn_jobs\u001b[0m\u001b[0;34m=\u001b[0m\u001b[0;34m-\u001b[0m\u001b[0;36m1\u001b[0m\u001b[0;34m,\u001b[0m \u001b[0mcv\u001b[0m\u001b[0;34m=\u001b[0m\u001b[0;36m5\u001b[0m\u001b[0;34m)\u001b[0m\u001b[0;34m\u001b[0m\u001b[0;34m\u001b[0m\u001b[0m\n\u001b[0;32m---> 13\u001b[0;31m \u001b[0mclf\u001b[0m\u001b[0;34m.\u001b[0m\u001b[0mfit\u001b[0m\u001b[0;34m(\u001b[0m\u001b[0mX_train\u001b[0m\u001b[0;34m,\u001b[0m \u001b[0mY_train\u001b[0m\u001b[0;34m)\u001b[0m\u001b[0;34m\u001b[0m\u001b[0;34m\u001b[0m\u001b[0m\n\u001b[0m\u001b[1;32m     14\u001b[0m \u001b[0;34m\u001b[0m\u001b[0m\n\u001b[1;32m     15\u001b[0m \u001b[0;31m# Best parameter set\u001b[0m\u001b[0;34m\u001b[0m\u001b[0;34m\u001b[0m\u001b[0;34m\u001b[0m\u001b[0m\n",
            "\u001b[0;32m/usr/local/lib/python3.7/dist-packages/sklearn/model_selection/_search.py\u001b[0m in \u001b[0;36mfit\u001b[0;34m(self, X, y, groups, **fit_params)\u001b[0m\n\u001b[1;32m    708\u001b[0m                 \u001b[0;32mreturn\u001b[0m \u001b[0mresults\u001b[0m\u001b[0;34m\u001b[0m\u001b[0;34m\u001b[0m\u001b[0m\n\u001b[1;32m    709\u001b[0m \u001b[0;34m\u001b[0m\u001b[0m\n\u001b[0;32m--> 710\u001b[0;31m             \u001b[0mself\u001b[0m\u001b[0;34m.\u001b[0m\u001b[0m_run_search\u001b[0m\u001b[0;34m(\u001b[0m\u001b[0mevaluate_candidates\u001b[0m\u001b[0;34m)\u001b[0m\u001b[0;34m\u001b[0m\u001b[0;34m\u001b[0m\u001b[0m\n\u001b[0m\u001b[1;32m    711\u001b[0m \u001b[0;34m\u001b[0m\u001b[0m\n\u001b[1;32m    712\u001b[0m         \u001b[0;31m# For multi-metric evaluation, store the best_index_, best_params_ and\u001b[0m\u001b[0;34m\u001b[0m\u001b[0;34m\u001b[0m\u001b[0;34m\u001b[0m\u001b[0m\n",
            "\u001b[0;32m/usr/local/lib/python3.7/dist-packages/sklearn/model_selection/_search.py\u001b[0m in \u001b[0;36m_run_search\u001b[0;34m(self, evaluate_candidates)\u001b[0m\n\u001b[1;32m   1149\u001b[0m     \u001b[0;32mdef\u001b[0m \u001b[0m_run_search\u001b[0m\u001b[0;34m(\u001b[0m\u001b[0mself\u001b[0m\u001b[0;34m,\u001b[0m \u001b[0mevaluate_candidates\u001b[0m\u001b[0;34m)\u001b[0m\u001b[0;34m:\u001b[0m\u001b[0;34m\u001b[0m\u001b[0;34m\u001b[0m\u001b[0m\n\u001b[1;32m   1150\u001b[0m         \u001b[0;34m\"\"\"Search all candidates in param_grid\"\"\"\u001b[0m\u001b[0;34m\u001b[0m\u001b[0;34m\u001b[0m\u001b[0m\n\u001b[0;32m-> 1151\u001b[0;31m         \u001b[0mevaluate_candidates\u001b[0m\u001b[0;34m(\u001b[0m\u001b[0mParameterGrid\u001b[0m\u001b[0;34m(\u001b[0m\u001b[0mself\u001b[0m\u001b[0;34m.\u001b[0m\u001b[0mparam_grid\u001b[0m\u001b[0;34m)\u001b[0m\u001b[0;34m)\u001b[0m\u001b[0;34m\u001b[0m\u001b[0;34m\u001b[0m\u001b[0m\n\u001b[0m\u001b[1;32m   1152\u001b[0m \u001b[0;34m\u001b[0m\u001b[0m\n\u001b[1;32m   1153\u001b[0m \u001b[0;34m\u001b[0m\u001b[0m\n",
            "\u001b[0;32m/usr/local/lib/python3.7/dist-packages/sklearn/model_selection/_search.py\u001b[0m in \u001b[0;36mevaluate_candidates\u001b[0;34m(candidate_params)\u001b[0m\n\u001b[1;32m    687\u001b[0m                                \u001b[0;32mfor\u001b[0m \u001b[0mparameters\u001b[0m\u001b[0;34m,\u001b[0m \u001b[0;34m(\u001b[0m\u001b[0mtrain\u001b[0m\u001b[0;34m,\u001b[0m \u001b[0mtest\u001b[0m\u001b[0;34m)\u001b[0m\u001b[0;34m\u001b[0m\u001b[0;34m\u001b[0m\u001b[0m\n\u001b[1;32m    688\u001b[0m                                in product(candidate_params,\n\u001b[0;32m--> 689\u001b[0;31m                                           cv.split(X, y, groups)))\n\u001b[0m\u001b[1;32m    690\u001b[0m \u001b[0;34m\u001b[0m\u001b[0m\n\u001b[1;32m    691\u001b[0m                 \u001b[0;32mif\u001b[0m \u001b[0mlen\u001b[0m\u001b[0;34m(\u001b[0m\u001b[0mout\u001b[0m\u001b[0;34m)\u001b[0m \u001b[0;34m<\u001b[0m \u001b[0;36m1\u001b[0m\u001b[0;34m:\u001b[0m\u001b[0;34m\u001b[0m\u001b[0;34m\u001b[0m\u001b[0m\n",
            "\u001b[0;32m/usr/local/lib/python3.7/dist-packages/joblib/parallel.py\u001b[0m in \u001b[0;36m__call__\u001b[0;34m(self, iterable)\u001b[0m\n\u001b[1;32m   1052\u001b[0m \u001b[0;34m\u001b[0m\u001b[0m\n\u001b[1;32m   1053\u001b[0m             \u001b[0;32mwith\u001b[0m \u001b[0mself\u001b[0m\u001b[0;34m.\u001b[0m\u001b[0m_backend\u001b[0m\u001b[0;34m.\u001b[0m\u001b[0mretrieval_context\u001b[0m\u001b[0;34m(\u001b[0m\u001b[0;34m)\u001b[0m\u001b[0;34m:\u001b[0m\u001b[0;34m\u001b[0m\u001b[0;34m\u001b[0m\u001b[0m\n\u001b[0;32m-> 1054\u001b[0;31m                 \u001b[0mself\u001b[0m\u001b[0;34m.\u001b[0m\u001b[0mretrieve\u001b[0m\u001b[0;34m(\u001b[0m\u001b[0;34m)\u001b[0m\u001b[0;34m\u001b[0m\u001b[0;34m\u001b[0m\u001b[0m\n\u001b[0m\u001b[1;32m   1055\u001b[0m             \u001b[0;31m# Make sure that we get a last message telling us we are done\u001b[0m\u001b[0;34m\u001b[0m\u001b[0;34m\u001b[0m\u001b[0;34m\u001b[0m\u001b[0m\n\u001b[1;32m   1056\u001b[0m             \u001b[0melapsed_time\u001b[0m \u001b[0;34m=\u001b[0m \u001b[0mtime\u001b[0m\u001b[0;34m.\u001b[0m\u001b[0mtime\u001b[0m\u001b[0;34m(\u001b[0m\u001b[0;34m)\u001b[0m \u001b[0;34m-\u001b[0m \u001b[0mself\u001b[0m\u001b[0;34m.\u001b[0m\u001b[0m_start_time\u001b[0m\u001b[0;34m\u001b[0m\u001b[0;34m\u001b[0m\u001b[0m\n",
            "\u001b[0;32m/usr/local/lib/python3.7/dist-packages/joblib/parallel.py\u001b[0m in \u001b[0;36mretrieve\u001b[0;34m(self)\u001b[0m\n\u001b[1;32m    931\u001b[0m             \u001b[0;32mtry\u001b[0m\u001b[0;34m:\u001b[0m\u001b[0;34m\u001b[0m\u001b[0;34m\u001b[0m\u001b[0m\n\u001b[1;32m    932\u001b[0m                 \u001b[0;32mif\u001b[0m \u001b[0mgetattr\u001b[0m\u001b[0;34m(\u001b[0m\u001b[0mself\u001b[0m\u001b[0;34m.\u001b[0m\u001b[0m_backend\u001b[0m\u001b[0;34m,\u001b[0m \u001b[0;34m'supports_timeout'\u001b[0m\u001b[0;34m,\u001b[0m \u001b[0;32mFalse\u001b[0m\u001b[0;34m)\u001b[0m\u001b[0;34m:\u001b[0m\u001b[0;34m\u001b[0m\u001b[0;34m\u001b[0m\u001b[0m\n\u001b[0;32m--> 933\u001b[0;31m                     \u001b[0mself\u001b[0m\u001b[0;34m.\u001b[0m\u001b[0m_output\u001b[0m\u001b[0;34m.\u001b[0m\u001b[0mextend\u001b[0m\u001b[0;34m(\u001b[0m\u001b[0mjob\u001b[0m\u001b[0;34m.\u001b[0m\u001b[0mget\u001b[0m\u001b[0;34m(\u001b[0m\u001b[0mtimeout\u001b[0m\u001b[0;34m=\u001b[0m\u001b[0mself\u001b[0m\u001b[0;34m.\u001b[0m\u001b[0mtimeout\u001b[0m\u001b[0;34m)\u001b[0m\u001b[0;34m)\u001b[0m\u001b[0;34m\u001b[0m\u001b[0;34m\u001b[0m\u001b[0m\n\u001b[0m\u001b[1;32m    934\u001b[0m                 \u001b[0;32melse\u001b[0m\u001b[0;34m:\u001b[0m\u001b[0;34m\u001b[0m\u001b[0;34m\u001b[0m\u001b[0m\n\u001b[1;32m    935\u001b[0m                     \u001b[0mself\u001b[0m\u001b[0;34m.\u001b[0m\u001b[0m_output\u001b[0m\u001b[0;34m.\u001b[0m\u001b[0mextend\u001b[0m\u001b[0;34m(\u001b[0m\u001b[0mjob\u001b[0m\u001b[0;34m.\u001b[0m\u001b[0mget\u001b[0m\u001b[0;34m(\u001b[0m\u001b[0;34m)\u001b[0m\u001b[0;34m)\u001b[0m\u001b[0;34m\u001b[0m\u001b[0;34m\u001b[0m\u001b[0m\n",
            "\u001b[0;32m/usr/local/lib/python3.7/dist-packages/joblib/_parallel_backends.py\u001b[0m in \u001b[0;36mwrap_future_result\u001b[0;34m(future, timeout)\u001b[0m\n\u001b[1;32m    540\u001b[0m         AsyncResults.get from multiprocessing.\"\"\"\n\u001b[1;32m    541\u001b[0m         \u001b[0;32mtry\u001b[0m\u001b[0;34m:\u001b[0m\u001b[0;34m\u001b[0m\u001b[0;34m\u001b[0m\u001b[0m\n\u001b[0;32m--> 542\u001b[0;31m             \u001b[0;32mreturn\u001b[0m \u001b[0mfuture\u001b[0m\u001b[0;34m.\u001b[0m\u001b[0mresult\u001b[0m\u001b[0;34m(\u001b[0m\u001b[0mtimeout\u001b[0m\u001b[0;34m=\u001b[0m\u001b[0mtimeout\u001b[0m\u001b[0;34m)\u001b[0m\u001b[0;34m\u001b[0m\u001b[0;34m\u001b[0m\u001b[0m\n\u001b[0m\u001b[1;32m    543\u001b[0m         \u001b[0;32mexcept\u001b[0m \u001b[0mCfTimeoutError\u001b[0m \u001b[0;32mas\u001b[0m \u001b[0me\u001b[0m\u001b[0;34m:\u001b[0m\u001b[0;34m\u001b[0m\u001b[0;34m\u001b[0m\u001b[0m\n\u001b[1;32m    544\u001b[0m             \u001b[0;32mraise\u001b[0m \u001b[0mTimeoutError\u001b[0m \u001b[0;32mfrom\u001b[0m \u001b[0me\u001b[0m\u001b[0;34m\u001b[0m\u001b[0;34m\u001b[0m\u001b[0m\n",
            "\u001b[0;32m/usr/lib/python3.7/concurrent/futures/_base.py\u001b[0m in \u001b[0;36mresult\u001b[0;34m(self, timeout)\u001b[0m\n\u001b[1;32m    428\u001b[0m                 \u001b[0;32mreturn\u001b[0m \u001b[0mself\u001b[0m\u001b[0;34m.\u001b[0m\u001b[0m__get_result\u001b[0m\u001b[0;34m(\u001b[0m\u001b[0;34m)\u001b[0m\u001b[0;34m\u001b[0m\u001b[0;34m\u001b[0m\u001b[0m\n\u001b[1;32m    429\u001b[0m \u001b[0;34m\u001b[0m\u001b[0m\n\u001b[0;32m--> 430\u001b[0;31m             \u001b[0mself\u001b[0m\u001b[0;34m.\u001b[0m\u001b[0m_condition\u001b[0m\u001b[0;34m.\u001b[0m\u001b[0mwait\u001b[0m\u001b[0;34m(\u001b[0m\u001b[0mtimeout\u001b[0m\u001b[0;34m)\u001b[0m\u001b[0;34m\u001b[0m\u001b[0;34m\u001b[0m\u001b[0m\n\u001b[0m\u001b[1;32m    431\u001b[0m \u001b[0;34m\u001b[0m\u001b[0m\n\u001b[1;32m    432\u001b[0m             \u001b[0;32mif\u001b[0m \u001b[0mself\u001b[0m\u001b[0;34m.\u001b[0m\u001b[0m_state\u001b[0m \u001b[0;32min\u001b[0m \u001b[0;34m[\u001b[0m\u001b[0mCANCELLED\u001b[0m\u001b[0;34m,\u001b[0m \u001b[0mCANCELLED_AND_NOTIFIED\u001b[0m\u001b[0;34m]\u001b[0m\u001b[0;34m:\u001b[0m\u001b[0;34m\u001b[0m\u001b[0;34m\u001b[0m\u001b[0m\n",
            "\u001b[0;32m/usr/lib/python3.7/threading.py\u001b[0m in \u001b[0;36mwait\u001b[0;34m(self, timeout)\u001b[0m\n\u001b[1;32m    294\u001b[0m         \u001b[0;32mtry\u001b[0m\u001b[0;34m:\u001b[0m    \u001b[0;31m# restore state no matter what (e.g., KeyboardInterrupt)\u001b[0m\u001b[0;34m\u001b[0m\u001b[0;34m\u001b[0m\u001b[0m\n\u001b[1;32m    295\u001b[0m             \u001b[0;32mif\u001b[0m \u001b[0mtimeout\u001b[0m \u001b[0;32mis\u001b[0m \u001b[0;32mNone\u001b[0m\u001b[0;34m:\u001b[0m\u001b[0;34m\u001b[0m\u001b[0;34m\u001b[0m\u001b[0m\n\u001b[0;32m--> 296\u001b[0;31m                 \u001b[0mwaiter\u001b[0m\u001b[0;34m.\u001b[0m\u001b[0macquire\u001b[0m\u001b[0;34m(\u001b[0m\u001b[0;34m)\u001b[0m\u001b[0;34m\u001b[0m\u001b[0;34m\u001b[0m\u001b[0m\n\u001b[0m\u001b[1;32m    297\u001b[0m                 \u001b[0mgotit\u001b[0m \u001b[0;34m=\u001b[0m \u001b[0;32mTrue\u001b[0m\u001b[0;34m\u001b[0m\u001b[0;34m\u001b[0m\u001b[0m\n\u001b[1;32m    298\u001b[0m             \u001b[0;32melse\u001b[0m\u001b[0;34m:\u001b[0m\u001b[0;34m\u001b[0m\u001b[0;34m\u001b[0m\u001b[0m\n",
            "\u001b[0;31mKeyboardInterrupt\u001b[0m: "
          ]
        }
      ]
    },
    {
      "cell_type": "code",
      "metadata": {
        "colab": {
          "base_uri": "https://localhost:8080/"
        },
        "id": "ycM078q5Yfon",
        "outputId": "601fcb37-0994-4074-d584-39ed37631f78"
      },
      "source": [
        "# model = clf = MLPClassifier(solver='adam', alpha=0.0001, hidden_layer_sizes=(6, 3, 2), random_state=42,\n",
        "#                             learning_rate='constant', activation='tanh', warm_start=True, max_iter=100)\n",
        "model = clf = MLPClassifier(solver='adam', alpha=0.0001, hidden_layer_sizes=(9, 6, 3), random_state=42,\n",
        "                            learning_rate='adaptive', activation='relu', warm_start=False, max_iter=100)\n",
        "model.fit(X_train, Y_train)"
      ],
      "execution_count": 205,
      "outputs": [
        {
          "output_type": "execute_result",
          "data": {
            "text/plain": [
              "MLPClassifier(activation='relu', alpha=0.0001, batch_size='auto', beta_1=0.9,\n",
              "              beta_2=0.999, early_stopping=False, epsilon=1e-08,\n",
              "              hidden_layer_sizes=(9, 6, 3), learning_rate='adaptive',\n",
              "              learning_rate_init=0.001, max_fun=15000, max_iter=100,\n",
              "              momentum=0.9, n_iter_no_change=10, nesterovs_momentum=True,\n",
              "              power_t=0.5, random_state=42, shuffle=True, solver='adam',\n",
              "              tol=0.0001, validation_fraction=0.1, verbose=False,\n",
              "              warm_start=False)"
            ]
          },
          "metadata": {},
          "execution_count": 205
        }
      ]
    },
    {
      "cell_type": "code",
      "metadata": {
        "colab": {
          "base_uri": "https://localhost:8080/",
          "height": 647
        },
        "id": "Ln0DAKLbBOKn",
        "outputId": "251de9c9-fd18-493a-df95-3355a67e51c8"
      },
      "source": [
        "X_valid, Y_valid = preprocess(valid_data, encoder, lb)\n",
        "y_score = model.predict_proba(X_valid) # (n_samples, n_classes) with each value being the probability of being in that class\n",
        "\n",
        "print(\"MODEL:\",model)\n",
        "print(\"AUC ROC score for the model:\", evaluate(model, X_valid, Y_valid), \"\\n\")\n",
        "\n",
        "plot_ROC(model, X_valid, Y_valid)"
      ],
      "execution_count": 206,
      "outputs": [
        {
          "output_type": "stream",
          "name": "stdout",
          "text": [
            "MODEL: MLPClassifier(activation='relu', alpha=0.0001, batch_size='auto', beta_1=0.9,\n",
            "              beta_2=0.999, early_stopping=False, epsilon=1e-08,\n",
            "              hidden_layer_sizes=(9, 6, 3), learning_rate='adaptive',\n",
            "              learning_rate_init=0.001, max_fun=15000, max_iter=100,\n",
            "              momentum=0.9, n_iter_no_change=10, nesterovs_momentum=True,\n",
            "              power_t=0.5, random_state=42, shuffle=True, solver='adam',\n",
            "              tol=0.0001, validation_fraction=0.1, verbose=False,\n",
            "              warm_start=False)\n",
            "AUC ROC score for the model: 0.9117825637356989 \n",
            "\n"
          ]
        },
        {
          "output_type": "display_data",
          "data": {
            "image/png": "[encoded data removed]",
            "text/plain": [
              "<Figure size 500x500 with 1 Axes>"
            ]
          },
          "metadata": {
            "needs_background": "light"
          }
        }
      ]
    },
    {
      "cell_type": "markdown",
      "metadata": {
        "id": "uqSd5Bo3chPT"
      },
      "source": [
        "Hyperparameter search can become messy if you have lots of paramters. \n",
        "A brute force method to do such a search will be to do a grid search to fit tons of models. \n",
        "Thus, a smarter way to do hyperparameter search has been the subject of research. \n",
        "\n",
        "**TRY:** If interested, read [here](https://scikit-learn.org/stable/modules/grid_search.html) for more details and incorporate some of those ideas in the model building process. "
      ]
    },
    {
      "cell_type": "markdown",
      "metadata": {
        "id": "UkB6mMuSkkmN"
      },
      "source": [
        "# Report your results\n",
        "\n",
        "**NOTE:** You should use the test dataset only when you are done with hyperparameter search on your model. \n",
        "This is because the test dataset is not involved in the model building process, thereby making sure that the performance evaluation on the test dataset measures how well the proposed model is able to generalize."
      ]
    },
    {
      "cell_type": "code",
      "metadata": {
        "id": "pxqeBPIMko9Z",
        "colab": {
          "base_uri": "https://localhost:8080/",
          "height": 498
        },
        "outputId": "86c29384-dde3-4722-cb12-e52b5caa3261"
      },
      "source": [
        "best_model = model\n",
        "\n",
        "X_test, Y_test = preprocess(test_data, encoder, lb)\n",
        "auc_score = evaluate(best_model, X_test, Y_test)\n",
        "print(f\"AUC-ROC on the test dataset:{auc_score}\")\n",
        "plot_ROC(best_model, X_test, Y_test)"
      ],
      "execution_count": 207,
      "outputs": [
        {
          "output_type": "stream",
          "name": "stdout",
          "text": [
            "AUC-ROC on the test dataset:0.9059294461705432\n"
          ]
        },
        {
          "output_type": "display_data",
          "data": {
            "image/png": "[encoded data removed]",
            "text/plain": [
              "<Figure size 500x500 with 1 Axes>"
            ]
          },
          "metadata": {
            "needs_background": "light"
          }
        }
      ]
    },
    {
      "cell_type": "markdown",
      "metadata": {
        "id": "CmnEnKthyBGz"
      },
      "source": [
        "Is this the end?\n",
        "\n",
        "What do you need to do to make the model practically applicable? How would you use this model in the real life?"
      ]
    },
    {
      "cell_type": "markdown",
      "metadata": {
        "id": "f5sO-B1-BnFz"
      },
      "source": [
        "# Collaborate with Ensemble \n",
        "\n",
        "You can combine various models to form an ensemble model. \n",
        "There are various ways to combine these models. \n",
        "All of them serve a particular purpose (e.g. reducing variance, increasing accuracy. etc.). \n",
        "\n",
        "The simplest example of an ensemble is to combine the constituent models via voting. This can be done in two ways:\n",
        "*  soft voting - likelihood of the input belonging to a class is the mean of the likelihood predicted by the constituent models, \n",
        "*  hard-voting - likelihood of the input belonging to a class is determined by frequency of the constutuent models predicting that class for the input.\n",
        "\n",
        "Thus, if you are working in a team, let each member try out different models. At the end, combine your models and make an ensemble model. \n",
        "\n",
        "Here is the [User Guide](https://scikit-learn.org/stable/modules/ensemble.html#voting-classifier) and [API](https://scikit-learn.org/stable/modules/generated/sklearn.ensemble.VotingClassifier.html#sklearn.ensemble.VotingClassifier) for making such an ensemble model."
      ]
    },
    {
      "cell_type": "markdown",
      "metadata": {
        "id": "awguX_CZs17n"
      },
      "source": [
        "# Extras: Class imbalance\n",
        "\n",
        "**TRY:** \n",
        " Why not try resampling techniques to optimize for ROC AUC?\n",
        "\n",
        "\n",
        "\n"
      ]
    },
    {
      "cell_type": "markdown",
      "metadata": {
        "id": "jRQOtp3sNoKq"
      },
      "source": [
        "# Extras: Dimensionality Reduction\n",
        "\n",
        "**TRY:** You can try dimensionality reduction from 16 dimensions to just 2 dimensions and visualize 2D plot with just two categories - \"positive\" and \"negative\". \n",
        "To do this, try various dimension reduction techniques, for example, [LDA](https://scikit-learn.org/stable/modules/lda_qda.html#mathematical-formulation-of-lda-dimensionality-reduction), [PCA](https://scikit-learn.org/stable/modules/generated/sklearn.decomposition.PCA.html#sklearn.decomposition.PCA), [t-SNE](https://scikit-learn.org/stable/modules/generated/sklearn.manifold.TSNE.html). \n"
      ]
    },
    {
      "cell_type": "markdown",
      "metadata": {
        "id": "o-B7PKHpewgz"
      },
      "source": [
        "# Poster template \n",
        "\n",
        "It is often the most difficult task to communicate the project's finding concisely in 1 minute or in a 1 slide. \n",
        "Therefore, our suggestion will be to touch upon the following points in your poster -  \n",
        "\n",
        "1. Briefly define the problem\n",
        "2. Briefly describe the dataset \n",
        "3. What did you learn about various models/techniques/etc.? e.g. \n",
        "4. What's the auc score of your final model did you get?\n",
        "\n",
        "If you want to learn what matters in building such posters, check out this great [YouTube video](https://www.youtube.com/watch?v=1RwJbhkCA58).\n",
        "Specifically, we should try and avoid posters with a lot of stuff to avoid cognitive overload. \n",
        "The templates suggested in the video can be found [here](https://osf.io/ef53g/). \n",
        "Note these are for academic papers, however, you can follow a similar ideology to concizsely display your work. "
      ]
    },
    {
      "cell_type": "code",
      "metadata": {
        "id": "uoHSOPKX2s-w"
      },
      "source": [
        ""
      ],
      "execution_count": null,
      "outputs": []
    }
  ]
}