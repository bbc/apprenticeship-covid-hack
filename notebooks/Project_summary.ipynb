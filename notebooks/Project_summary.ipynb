{
  "nbformat": 4,
  "nbformat_minor": 0,
  "metadata": {
    "colab": {
      "name": "Untitled0.ipynb",
      "provenance": [],
      "authorship_tag": "ABX9TyMLqJ94xkQhyvwZeWtDEN1l",
      "include_colab_link": true
    },
    "kernelspec": {
      "name": "python3",
      "display_name": "Python 3"
    },
    "language_info": {
      "name": "python"
    }
  },
  "cells": [
    {
      "cell_type": "markdown",
      "metadata": {
        "id": "view-in-github",
        "colab_type": "text"
      },
      "source": [
        "<a href=\"https://colab.research.google.com/github/bbc/apprenticeship-covid-hack/blob/main/notebooks/Project_summary.ipynb\" target=\"_parent\"><img src=\"https://colab.research.google.com/assets/colab-badge.svg\" alt=\"Open In Colab\"/></a>"
      ]
    },
    {
      "cell_type": "markdown",
      "metadata": {
        "id": "pd1GFhuhAn2L"
      },
      "source": [
        "#**Apprenticeship COVID-19 Hack days**\n",
        "##**Data exploration - biases & limitations:**\n",
        "**Potential issues:**\n",
        "\n",
        "• All tests were performed based on the presence and severity of clinical symptoms – an issue with the study in itself – not applicable to asymptomatic patients but still generalisable for those presenting symptoms.\n",
        "\n",
        "• All tests performed based on the risk of complications if infected – not sure if this means only looking at those more at risk - could be a biased sample if so, relationship between symptoms and positive result might be different in different demographic/risk groups\n",
        "\n",
        "• All the symptoms were self-reported – inconsistency. Individual differences in symptom reporting. What one person might define as a headache, sore throat etc might be different to another person.\n",
        "\n",
        "• Symptom reporting was more comprehensive among those who tested positive for COVID-19\n",
        "\n",
        "• Potential for an underestimation and underreporting of symptoms among those who tested negative.\n",
        "\n",
        "• Missing data - for patients labelled as having had contact with a person confirmed to have COVID-19, additional information such as the duration and location (indoors/outdoors) of the contact was not available.\n",
        "\n",
        "• Some symptoms e.g. lack of smell and taste, were identified as being very predictive of a COVID-19 infection by previous studies but were not recorded in this dataset\n",
        "\n",
        "• A negative value for a symptom might mean that the symptom was not reported, not that they didn’t have it\n",
        "\n",
        "• Biased features - (headache 96.2%, sore throat 92.3% and shortness of breath 92.4%) and symptoms with balanced reporting (cough 27.4% and fever 45.9%).\n",
        "\n",
        "**Proposed solutions:**\n",
        "\n",
        "*Missing values:*\n",
        "\n",
        "*   Check model performance when considering values as unreported or missing vs performance when considering them as negative\n",
        "\n",
        "\n",
        "*Biased features:*\n",
        "\n",
        "*   Try training and testing the model while filtering out symptoms of high bias in advance \n",
        "\n",
        "\n",
        "##**Data exploration - feature values:**\n",
        "*   Numerical features often are a mix of strings and ints - need to do conversions\n",
        "*   'None' values are also often strings - need to convert to actual NULL values\n",
        "*   Categorical variables need to be encoded via e.g. OneHotEncoder\n",
        "\n",
        "\n",
        "##**Data exploration - visualisation:**\n",
        "\n",
        "##**Data exploration - class imbalances:**\n",
        "Analysis:\n",
        "\n",
        "*   Most classes are imbalanced except for \"gender\"\n",
        "*   Data to be stratified in train/validation split\n",
        "\n",
        "\n",
        "    \n",
        "    \n",
        "\n",
        "\n",
        "##**Data exploration - missing values:**\n",
        "\n",
        "*   Most None values result in a negative test (86-97% are negative)\n",
        "*   High number of none values for the following: “age_60_and_above” and possibly “gender”.\n",
        "*   It is essential to keep the None value for “age_60_and_above” as it has the highest count. \n",
        "\n",
        "\n",
        "    \n",
        "    \n"
      ]
    },
    {
      "cell_type": "code",
      "metadata": {
        "id": "4exf5p_qAmRp"
      },
      "source": [
        ""
      ],
      "execution_count": null,
      "outputs": []
    }
  ]
}