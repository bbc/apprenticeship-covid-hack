{
  "nbformat": 4,
  "nbformat_minor": 0,
  "metadata": {
    "colab": {
      "name": "EM COVID-diagnosis-hackathon.ipynb",
      "provenance": [],
      "collapsed_sections": [],
      "include_colab_link": true
    },
    "kernelspec": {
      "name": "python3",
      "display_name": "Python 3"
    },
    "language_info": {
      "name": "python"
    }
  },
  "cells": [
    {
      "cell_type": "markdown",
      "metadata": {
        "id": "view-in-github",
        "colab_type": "text"
      },
      "source": [
        "<a href=\"https://colab.research.google.com/github/bbc/apprenticeship-covid-hack/blob/main/notebooks/EM_COVID_diagnosis_hackathon.ipynb\" target=\"_parent\"><img src=\"https://colab.research.google.com/assets/colab-badge.svg\" alt=\"Open In Colab\"/></a>"
      ]
    },
    {
      "cell_type": "markdown",
      "metadata": {
        "id": "GFzda9am9vnj"
      },
      "source": [
        "# Covid-19 diagnosis using symptoms\n",
        "\n",
        "[Prateek Gupta](https://www.pgupta.info) \n",
        "\n",
        "2020-05-20\n",
        "\n",
        "**Abstract:** This notebook is a tutorial on building a typical machine learning classifier. \n",
        "The process of doing so spans steps ranging from data wrangling to model selection. \n",
        "With the help of each of these steps we hope to make the reader familiar with challenges involved in building a machine learning system. \n",
        "\n",
        "# Question\n",
        "\n",
        "In this hackathon, we want to build a machine learning model to predict COVID-19 infections from symptoms.\n",
        "It has several applications, for example, triaging patients to be attended to by a doctor or nurse, recommending self-isolation through contact tracing apps. \n",
        "\n",
        "Zoabi et al. [[1]](https://www.nature.com/articles/s41746-020-00372-6) builds a decision tree classifier using the publicly available data reported by the Israeli Ministry of Health.\n",
        "The paper itself dicsusses the various challenges encountered in deploying such a model. \n",
        "It is encouraged to read the paper and learn the challeges and ways to overcome them. \n",
        "\n",
        "However, in this hackathon, we will use their dataset and make the participant familiar with a typical pipeline of building a machine learning system.\n",
        "\n",
        "[1] [Zoabi, Y., Deri-Rozov, S. & Shomron, N. Machine learning-based prediction of COVID-19 diagnosis based on symptoms. npj Digit. Med. 4, 3 (2021).]((https://www.nature.com/articles/s41746-020-00372-6))\n"
      ]
    },
    {
      "cell_type": "markdown",
      "metadata": {
        "id": "WfQWCQDjAKN0"
      },
      "source": [
        "# Setup the workspace\n",
        "\n",
        "We will clone their Git repository to to use their dataset"
      ]
    },
    {
      "cell_type": "code",
      "metadata": {
        "colab": {
          "base_uri": "https://localhost:8080/"
        },
        "id": "yguOIEDX-YbD",
        "outputId": "06b779f3-834f-43c6-a977-a691991c8c8f"
      },
      "source": [
        "!git clone https://github.com/nshomron/covidpred.git"
      ],
      "execution_count": 4,
      "outputs": [
        {
          "output_type": "stream",
          "name": "stdout",
          "text": [
            "Cloning into 'covidpred'...\n",
            "remote: Enumerating objects: 35, done.\u001b[K\n",
            "remote: Counting objects: 100% (35/35), done.\u001b[K\n",
            "remote: Compressing objects: 100% (32/32), done.\u001b[K\n",
            "remote: Total 35 (delta 16), reused 10 (delta 3), pack-reused 0\u001b[K\n",
            "Unpacking objects: 100% (35/35), done.\n"
          ]
        }
      ]
    },
    {
      "cell_type": "code",
      "metadata": {
        "id": "35jfRmroICGw"
      },
      "source": [
        "import pandas as pd\n",
        "import math\n",
        "import numpy as np\n",
        "\n",
        "from sklearn.preprocessing import OneHotEncoder\n",
        "from sklearn.preprocessing import LabelBinarizer\n",
        "from sklearn.linear_model import LogisticRegression\n",
        "from sklearn.metrics import plot_roc_curve, roc_auc_score, roc_curve\n",
        "\n",
        "import matplotlib.pyplot as plt\n",
        "from matplotlib.lines import Line2D"
      ],
      "execution_count": 121,
      "outputs": []
    },
    {
      "cell_type": "markdown",
      "metadata": {
        "id": "kv6FR_gOAV16"
      },
      "source": [
        "# Data \n",
        "\n",
        "Let's check how the data looks like and how various features are encoded. "
      ]
    },
    {
      "cell_type": "code",
      "metadata": {
        "colab": {
          "base_uri": "https://localhost:8080/"
        },
        "id": "P7tANpd5-tqj",
        "outputId": "658f4c03-0eb4-46eb-e3a1-3d1355297d8b"
      },
      "source": [
        "df = pd.read_csv('covidpred/data/corona_tested_individuals_ver_006.english.csv.zip')"
      ],
      "execution_count": 188,
      "outputs": [
        {
          "output_type": "stream",
          "name": "stderr",
          "text": [
            "/usr/local/lib/python3.7/dist-packages/IPython/core/interactiveshell.py:2718: DtypeWarning: Columns (1,2,3,4,5) have mixed types.Specify dtype option on import or set low_memory=False.\n",
            "  interactivity=interactivity, compiler=compiler, result=result)\n"
          ]
        }
      ]
    },
    {
      "cell_type": "code",
      "metadata": {
        "colab": {
          "base_uri": "https://localhost:8080/"
        },
        "id": "LXaLQdbBAElY",
        "outputId": "4597cc7c-af6c-474d-83bb-ca3a19fa69b6"
      },
      "source": [
        "df.columns"
      ],
      "execution_count": 7,
      "outputs": [
        {
          "output_type": "execute_result",
          "data": {
            "text/plain": [
              "Index(['test_date', 'cough', 'fever', 'sore_throat', 'shortness_of_breath',\n",
              "       'head_ache', 'corona_result', 'age_60_and_above', 'gender',\n",
              "       'test_indication'],\n",
              "      dtype='object')"
            ]
          },
          "metadata": {},
          "execution_count": 7
        }
      ]
    },
    {
      "cell_type": "markdown",
      "metadata": {
        "id": "RWHY4TLAAhpJ"
      },
      "source": [
        "Great! These are the features used in the paper for their prediction task. The authors also list these features in the [README.md of their Github repo](https://github.com/nshomron/covidpred). "
      ]
    },
    {
      "cell_type": "markdown",
      "metadata": {
        "id": "PEtPMd2qGn72"
      },
      "source": [
        "Pandas read columns as string, so we need to convert them to the proper format before we can operate on it."
      ]
    },
    {
      "cell_type": "code",
      "metadata": {
        "id": "Zi7esn5RGdC8"
      },
      "source": [
        "df['test_date'] = pd.to_datetime(df['test_date'])"
      ],
      "execution_count": 189,
      "outputs": []
    },
    {
      "cell_type": "code",
      "metadata": {
        "colab": {
          "base_uri": "https://localhost:8080/"
        },
        "id": "Mdb3D7Y5BdTt",
        "outputId": "aebb5d7b-2951-4b57-b03f-ed758b674a64"
      },
      "source": [
        "print(\"Start date:\", min(df['test_date']))\n",
        "print(\"End date:\", max(df['test_date']))\n",
        "\n",
        "n_days = (max(df['test_date']) - min(df['test_date'])).days\n",
        "print(\"# of days: \", n_days)\n",
        "\n",
        "n_obs =  df.shape[0]\n",
        "print(\"# of observations:\", df.shape[0])\n",
        "print(\"# of features:\", df.shape[1])\n",
        "\n",
        "pos_cases = sum(df['corona_result'] == \"positive\")\n",
        "print(\"# of positively diagnosed cases: {0} ({1: 2.2f}%)\".format(pos_cases, 100*pos_cases / n_obs))\n",
        "\n",
        "neg_cases = sum(df['corona_result'] == \"negative\")\n",
        "print(\"# of negatively diagnosed cases: {0} ({1: 2.2f}%)\".format(neg_cases, 100 * neg_cases / n_obs))\n",
        "\n",
        "other_cases = sum(df['corona_result'] == \"other\") # possibly not confirmed\n",
        "print(\"# of other cases (possibly, not confirmed): {0} ({1: 2.2f}%)\".format(other_cases, 100 * other_cases / n_obs))"
      ],
      "execution_count": 190,
      "outputs": [
        {
          "output_type": "stream",
          "name": "stdout",
          "text": [
            "Start date: 2020-03-11 00:00:00\n",
            "End date: 2020-04-30 00:00:00\n",
            "# of days:  50\n",
            "# of observations: 278848\n",
            "# of features: 10\n",
            "# of positively diagnosed cases: 14729 ( 5.28%)\n",
            "# of negatively diagnosed cases: 260227 ( 93.32%)\n",
            "# of other cases (possibly, not confirmed): 3892 ( 1.40%)\n"
          ]
        }
      ]
    },
    {
      "cell_type": "markdown",
      "metadata": {
        "id": "7guFsw8K-Cvy"
      },
      "source": [
        "Since we do not have any information on what happened to \"other\" cases, we will exclude them from our exercise. \n",
        "\n"
      ]
    },
    {
      "cell_type": "code",
      "metadata": {
        "id": "I-2eeGvK-Bxv"
      },
      "source": [
        "df = df[df['corona_result'].isin(['positive', 'negative'])]"
      ],
      "execution_count": 191,
      "outputs": []
    },
    {
      "cell_type": "markdown",
      "metadata": {
        "id": "4hG2lfabKr1e"
      },
      "source": [
        "To build out predictor, we will be splitting our dataset into **training,  validation, and test sets**. \n",
        "A model is trained on the training dataset while the hyperparameters are tuned on the validation dataset. \n",
        "Finally, a test dataset is used to report final model's performance metrics. \n",
        "\n",
        "Since we have a time dependent dataset we will split our training and test dataset based on time. \n",
        "Thus, we find the date before which 60% of observations are present, and use that as our training dataset.\n",
        "We will use next 20% of the dataset as our validation dataset, and finally, the remaining 20% will be used as a test dataset. \n",
        "Thus, we use 60-20-20 split.\n",
        "\n",
        "The authors use 63%-23% training-test split, and a further split of training into train-valid dataset using 80-20% split.\n",
        "There is no prescribed formula on how to do this split. \n",
        "\n"
      ]
    },
    {
      "cell_type": "code",
      "metadata": {
        "id": "s0dEh77THGW6"
      },
      "source": [
        "date_counts = df.groupby(['test_date']).count()['gender'] # take count of any column. They will all be same.\n",
        "date_counts = date_counts.sort_index()\n",
        "cum_counts = date_counts.cumsum()\n",
        "cdf = cum_counts / n_obs\n"
      ],
      "execution_count": 192,
      "outputs": []
    },
    {
      "cell_type": "code",
      "metadata": {
        "colab": {
          "base_uri": "https://localhost:8080/"
        },
        "id": "WvTrB-PsMrOv",
        "outputId": "e37d6993-d93d-421e-e9b9-56143ac710b7"
      },
      "source": [
        "max_training_date = cdf[cdf < 0.60].index.max()\n",
        "training_data_original = df[df['test_date'] <= max_training_date]\n",
        "\n",
        "min_test_date = cdf[cdf > 0.80].index.min()\n",
        "test_data_original = df[df['test_date'] >= min_test_date]\n",
        "\n",
        "valid_data_original = df[(max_training_date < df['test_date']) & (df['test_date'] < min_test_date)]\n",
        "\n",
        "print(\"# of observations in training dataset\", training_data_original.shape[0])\n",
        "print(\"# of observations in validation dataset\", valid_data_original.shape[0])\n",
        "print(\"# of observations in test dataset\", test_data_original.shape[0])"
      ],
      "execution_count": 196,
      "outputs": [
        {
          "output_type": "stream",
          "name": "stdout",
          "text": [
            "# of observations in training dataset 160717\n",
            "# of observations in validation dataset 53172\n",
            "# of observations in test dataset 61067\n"
          ]
        }
      ]
    },
    {
      "cell_type": "code",
      "metadata": {
        "id": "nuc1nZ8eQK2q"
      },
      "source": [
        "# Data Cleaning\n",
        "def normalise(x):\n",
        "  if type(x) == str:\n",
        "    return int(x) if x != \"None\" else 2\n",
        "  return x\n",
        "\n",
        "symptoms = [\"cough\",\"fever\",\"sore_throat\",\"shortness_of_breath\",\"head_ache\"]\n",
        "categorical = [\"age_60_and_above\",\"gender\",\"test_indication\"]\n",
        "\n",
        "#Clean inconsitent datatypes within symptom columns\n",
        "for col in symptoms:\n",
        "  df.loc[:, col] = df[col].apply(normalise)\n",
        "\n",
        "X = df.drop(\"test_date\",axis=1)\n",
        "y = X[\"corona_result\"]\n",
        "\n",
        "#New split off training data and then split the remaining into validation and test\n",
        "training_data, X_rem, y_train, y_rem = train_test_split(X, y, test_size=0.33, random_state=42, stratify=y)\n",
        "valid_data, test_data, y_valid, y_test = train_test_split(X_rem, y_rem, test_size=0.5, random_state=42, stratify=y_rem)\n"
      ],
      "execution_count": 197,
      "outputs": []
    },
    {
      "cell_type": "markdown",
      "metadata": {
        "id": "J-xJrSsa5_Lz"
      },
      "source": [
        "**NOTE:**\n",
        "It is **extremely important** that you do not use the test dataset in the model building phase. \n",
        "While building models, it is required to tune the hyperparameter, adjust assumptions, modify features, etc. \n",
        "This should be done on the validation dataset. \n",
        "After several such iterations on the validation dataset, you will pick a model with the best performace as your final model. \n",
        "\n",
        "A test dataset is used to measure the final model's performance, which is a proxy for how it will perform (or generalize) in real life. \n",
        "Thus, to have a proper measure of model's genearalization, test dataset should not be part of your model building process. "
      ]
    },
    {
      "cell_type": "markdown",
      "metadata": {
        "id": "W86CzZGp_rOd"
      },
      "source": [
        "# Exploratory Data Analysis\n",
        "\n",
        "In this section, we will see the general statistics of features.\n",
        "In doing so, we will encounter inconsistencies in the data and address them accordingly. \n",
        "\n",
        "\n",
        "\n",
        "\n",
        "\n"
      ]
    },
    {
      "cell_type": "code",
      "metadata": {
        "colab": {
          "base_uri": "https://localhost:8080/"
        },
        "id": "jx1mMFLQEMdS",
        "outputId": "b3317e81-cdb2-4d6c-c0aa-046d6f4c89e5"
      },
      "source": [
        "# We want to predict 'corona_result'. \n",
        "# We will not use \"test_date\" as a feature. \n",
        "# So we narrow down the input features to this list \n",
        "INPUT_FEATURES = ['cough', 'fever', 'sore_throat', 'shortness_of_breath', 'head_ache', 'age_60_and_above', 'gender', 'test_indication']\n",
        "TARGET_COLUMN = 'corona_result'\n",
        "\n",
        "for col in INPUT_FEATURES:\n",
        "  print(\"*\"*25, f\" {col} \", \"*\"*25)\n",
        "  print(training_data_original[col].value_counts())\n",
        "\n",
        "for col in INPUT_FEATURES:\n",
        "  print(\"*\"*25, f\" {col} \", \"*\"*25)\n",
        "  print(training_data[col].value_counts())"
      ],
      "execution_count": 199,
      "outputs": [
        {
          "output_type": "stream",
          "name": "stdout",
          "text": [
            "*************************  cough  *************************\n",
            "0    131741\n",
            "1     28724\n",
            "2       252\n",
            "Name: cough, dtype: int64\n",
            "*************************  fever  *************************\n",
            "0    145642\n",
            "1     14823\n",
            "2       252\n",
            "Name: fever, dtype: int64\n",
            "*************************  sore_throat  *************************\n",
            "0    158847\n",
            "1      1869\n",
            "2         1\n",
            "Name: sore_throat, dtype: int64\n",
            "*************************  shortness_of_breath  *************************\n",
            "0    159185\n",
            "1      1531\n",
            "2         1\n",
            "Name: shortness_of_breath, dtype: int64\n",
            "*************************  head_ache  *************************\n",
            "0    158358\n",
            "1      2358\n",
            "2         1\n",
            "Name: head_ache, dtype: int64\n",
            "*************************  age_60_and_above  *************************\n",
            "No      123867\n",
            "Yes      25425\n",
            "None     11425\n",
            "Name: age_60_and_above, dtype: int64\n",
            "*************************  gender  *************************\n",
            "male      72598\n",
            "female    70950\n",
            "None      17169\n",
            "Name: gender, dtype: int64\n",
            "*************************  test_indication  *************************\n",
            "Other                     135059\n",
            "Abroad                     17162\n",
            "Contact with confirmed      8496\n",
            "Name: test_indication, dtype: int64\n",
            "*************************  cough  *************************\n",
            "0    156362\n",
            "1     27701\n",
            "2       157\n",
            "Name: cough, dtype: int64\n",
            "*************************  fever  *************************\n",
            "0    169732\n",
            "1     14330\n",
            "2       158\n",
            "Name: fever, dtype: int64\n",
            "*************************  sore_throat  *************************\n",
            "0    182950\n",
            "1      1269\n",
            "2         1\n",
            "Name: sore_throat, dtype: int64\n",
            "*************************  shortness_of_breath  *************************\n",
            "0    183164\n",
            "1      1055\n",
            "2         1\n",
            "Name: shortness_of_breath, dtype: int64\n",
            "*************************  head_ache  *************************\n",
            "0    182641\n",
            "1      1578\n",
            "2         1\n",
            "Name: head_ache, dtype: int64\n",
            "*************************  age_60_and_above  *************************\n",
            "None    83971\n",
            "No      83273\n",
            "Yes     16976\n",
            "Name: age_60_and_above, dtype: int64\n",
            "*************************  gender  *************************\n",
            "female    86083\n",
            "male      85281\n",
            "None      12856\n",
            "Name: gender, dtype: int64\n",
            "*************************  test_indication  *************************\n",
            "Other                     160398\n",
            "Abroad                     16759\n",
            "Contact with confirmed      7063\n",
            "Name: test_indication, dtype: int64\n"
          ]
        }
      ]
    },
    {
      "cell_type": "code",
      "metadata": {
        "colab": {
          "base_uri": "https://localhost:8080/"
        },
        "id": "MIExwVBbQbqR",
        "outputId": "c87be8b9-6d08-49bc-b53b-bc77d83cc006"
      },
      "source": [
        "# EM\n",
        "# training_data_original = training_data\n",
        "# training_data_original.info()\n",
        "# all objects overall, from above looks like a mix of categorical and integer."
      ],
      "execution_count": 128,
      "outputs": [
        {
          "output_type": "stream",
          "name": "stdout",
          "text": [
            "<class 'pandas.core.frame.DataFrame'>\n",
            "Int64Index: 163189 entries, 115659 to 278847\n",
            "Data columns (total 10 columns):\n",
            " #   Column               Non-Null Count   Dtype         \n",
            "---  ------               --------------   -----         \n",
            " 0   test_date            163189 non-null  datetime64[ns]\n",
            " 1   cough                163189 non-null  object        \n",
            " 2   fever                163189 non-null  object        \n",
            " 3   sore_throat          163189 non-null  object        \n",
            " 4   shortness_of_breath  163189 non-null  object        \n",
            " 5   head_ache            163189 non-null  object        \n",
            " 6   corona_result        163189 non-null  object        \n",
            " 7   age_60_and_above     163189 non-null  object        \n",
            " 8   gender               163189 non-null  object        \n",
            " 9   test_indication      163189 non-null  object        \n",
            "dtypes: datetime64[ns](1), object(9)\n",
            "memory usage: 13.7+ MB\n"
          ]
        }
      ]
    },
    {
      "cell_type": "markdown",
      "metadata": {
        "id": "P-bVRyzjR-dU"
      },
      "source": [
        "Here are the questions to guide you through the process of exploring data \n",
        "\n",
        "1.   Think about possible biases and limitations of this dataset\n",
        "2.   What is the format of feature values? Are there any inconsistencies? If so, how would you make them cosistent?\n",
        "3.   What is the statistics of these feature values? How many symptoms are reported or not?\n",
        "4.   Which symptoms have a reporting bias, i.e., likely to be reported when the patient is COVID positive? \n",
        "5.   How will the symptoms with reporting bias affect the model’s performance?\n",
        "6.   Visualization: Draw the bar graph of features grouped by the target class? \n",
        "7.   How does the bar graph of the symptoms with reporting bias looks like?\n",
        "8.   Determine if we have a class imbalance in the dataset? If so, what do you reckon will be the downstream challenges in evaluating the model? How will you overcome those challenges?\n",
        "9.   What does \"None\" value mean for feature? Should we include these features?"
      ]
    },
    {
      "cell_type": "markdown",
      "metadata": {
        "id": "mjvHg7waARBe"
      },
      "source": [
        "**Format of feature values**<br>\n",
        "Integer columns - some seem to be a mix of character and integer, we should make them all integer (1/0). <br>\n",
        "Character columns - age 60 and above (yes/no) can be transformed as dummy variables. <br>\n",
        "\n"
      ]
    },
    {
      "cell_type": "code",
      "metadata": {
        "colab": {
          "base_uri": "https://localhost:8080/"
        },
        "id": "lY88Gy6SM4J0",
        "outputId": "fc4992c0-0e27-42cc-f166-5fb218e2b28b"
      },
      "source": [
        "# For symptom aka integer columns - drop 'None' observations, convert column to integer\n",
        "# integers = [\"cough\", \"fever\", \"sore_throat\", \"shortness_of_breath\", \"head_ache\"]\n",
        "\n",
        "\n",
        "# for col in integers:\n",
        "#     training_data = training_data[training_data[col] != \"None\"]\n",
        "#     training_data[col] = training_data[col].astype(int)\n",
        "#     print(training_data[col].value_counts())\n",
        "\n",
        "# print(\"Original obs = 160717, number of observations now removed data:\", training_data.shape)\n",
        "\n",
        "# training_data.info()\n",
        "# # sorted the integer columns"
      ],
      "execution_count": 66,
      "outputs": [
        {
          "output_type": "stream",
          "name": "stderr",
          "text": [
            "/usr/local/lib/python3.7/dist-packages/ipykernel_launcher.py:7: SettingWithCopyWarning: \n",
            "A value is trying to be set on a copy of a slice from a DataFrame.\n",
            "Try using .loc[row_indexer,col_indexer] = value instead\n",
            "\n",
            "See the caveats in the documentation: https://pandas.pydata.org/pandas-docs/stable/user_guide/indexing.html#returning-a-view-versus-a-copy\n",
            "  import sys\n"
          ]
        },
        {
          "output_type": "stream",
          "name": "stdout",
          "text": [
            "0    131741\n",
            "1     28724\n",
            "Name: cough, dtype: int64\n",
            "0    145641\n",
            "1     14822\n",
            "Name: fever, dtype: int64\n",
            "0    158598\n",
            "1      1865\n",
            "Name: sore_throat, dtype: int64\n",
            "0    158935\n",
            "1      1528\n",
            "Name: shortness_of_breath, dtype: int64\n",
            "0    158111\n",
            "1      2352\n",
            "Name: head_ache, dtype: int64\n",
            "Original obs = 160717, number of observations now removed data: (160463, 10)\n",
            "<class 'pandas.core.frame.DataFrame'>\n",
            "Int64Index: 160463 entries, 115659 to 278847\n",
            "Data columns (total 10 columns):\n",
            " #   Column               Non-Null Count   Dtype         \n",
            "---  ------               --------------   -----         \n",
            " 0   test_date            160463 non-null  datetime64[ns]\n",
            " 1   cough                160463 non-null  int64         \n",
            " 2   fever                160463 non-null  int64         \n",
            " 3   sore_throat          160463 non-null  int64         \n",
            " 4   shortness_of_breath  160463 non-null  int64         \n",
            " 5   head_ache            160463 non-null  int64         \n",
            " 6   corona_result        160463 non-null  object        \n",
            " 7   age_60_and_above     160463 non-null  object        \n",
            " 8   gender               160463 non-null  object        \n",
            " 9   test_indication      160463 non-null  object        \n",
            "dtypes: datetime64[ns](1), int64(5), object(4)\n",
            "memory usage: 13.5+ MB\n"
          ]
        }
      ]
    },
    {
      "cell_type": "code",
      "metadata": {
        "colab": {
          "base_uri": "https://localhost:8080/"
        },
        "id": "5gUKQQanO-2R",
        "outputId": "3ae506ad-6a50-400e-f1e7-6d6b9e43a149"
      },
      "source": [
        "# Categorical columns - we need to decide if we are removing None or not from age and gender\n",
        "# Other than that we can one hot encode the categoricals\n",
        "# categorical = ['age_60_and_above', 'gender', 'test_indication', 'corona_result']\n",
        "\n",
        "# for col in categorical:\n",
        "#     #training_data = training_data[training_data[col] != \"None\"] # we don't know if we want to remove None from these yet.\n",
        "#     training_data[col] = training_data[col].astype('str')\n",
        "#     print(training_data[col].value_counts())\n",
        "\n",
        "# training_data.info()\n"
      ],
      "execution_count": 153,
      "outputs": [
        {
          "output_type": "stream",
          "name": "stdout",
          "text": [
            "No      125703\n",
            "Yes      25825\n",
            "None     11661\n",
            "Name: age_60_and_above, dtype: int64\n",
            "male      73577\n",
            "female    71932\n",
            "None      17680\n",
            "Name: gender, dtype: int64\n",
            "Other                     137171\n",
            "Abroad                     17386\n",
            "Contact with confirmed      8632\n",
            "Name: test_indication, dtype: int64\n",
            "negative    148686\n",
            "positive     12031\n",
            "other         2472\n",
            "Name: corona_result, dtype: int64\n",
            "<class 'pandas.core.frame.DataFrame'>\n",
            "Int64Index: 53848 entries, 61811 to 115658\n",
            "Data columns (total 10 columns):\n",
            " #   Column               Non-Null Count  Dtype         \n",
            "---  ------               --------------  -----         \n",
            " 0   test_date            53848 non-null  datetime64[ns]\n",
            " 1   cough                53848 non-null  object        \n",
            " 2   fever                53848 non-null  object        \n",
            " 3   sore_throat          53848 non-null  object        \n",
            " 4   shortness_of_breath  53848 non-null  object        \n",
            " 5   head_ache            53848 non-null  object        \n",
            " 6   corona_result        53848 non-null  object        \n",
            " 7   age_60_and_above     53848 non-null  object        \n",
            " 8   gender               53848 non-null  object        \n",
            " 9   test_indication      53848 non-null  object        \n",
            "dtypes: datetime64[ns](1), object(9)\n",
            "memory usage: 4.5+ MB\n"
          ]
        },
        {
          "output_type": "stream",
          "name": "stderr",
          "text": [
            "/usr/local/lib/python3.7/dist-packages/ipykernel_launcher.py:7: SettingWithCopyWarning: \n",
            "A value is trying to be set on a copy of a slice from a DataFrame.\n",
            "Try using .loc[row_indexer,col_indexer] = value instead\n",
            "\n",
            "See the caveats in the documentation: https://pandas.pydata.org/pandas-docs/stable/user_guide/indexing.html#returning-a-view-versus-a-copy\n",
            "  import sys\n"
          ]
        }
      ]
    },
    {
      "cell_type": "code",
      "metadata": {
        "id": "sM1hKLTJiG2H"
      },
      "source": [
        ""
      ],
      "execution_count": null,
      "outputs": []
    },
    {
      "cell_type": "markdown",
      "metadata": {
        "id": "IQRohLR0R8wd"
      },
      "source": [
        "\n",
        "**GOOD PRACTICE**: To make your plots accessible to everyone, it is always a good idea to use colorblind-friendly palette for your plots. Check out [this](https://medium.com/cafe-pixo/inclusive-color-palettes-for-the-web-bbfe8cf2410e) for such a palette."
      ]
    },
    {
      "cell_type": "markdown",
      "metadata": {
        "id": "GLRMrojV__Se"
      },
      "source": [
        "# Feature Engineering\n",
        "\n",
        "In this section, we will transform the features that models can operate upon. Note that this transformation doesn't have to be unique. \n",
        "It is very much dependent on the type of model you are building. \n",
        "\n",
        "Here is the list of questions to guide your feature engineering task \n",
        "\n",
        "1.   How will you represent the features in numerical format that can be accessible by model? \n",
        "2.   Are there any redundancies in your feature representation?\n",
        "3.   How will you represent targets in a format accessible to the model?\n",
        "\n",
        "Check out [`sklearn`'s preprocessing library](https://scikit-learn.org/stable/modules/preprocessing.html) for easy-to-use functions to do this. "
      ]
    },
    {
      "cell_type": "code",
      "metadata": {
        "id": "cGLQMUmWWKch",
        "colab": {
          "base_uri": "https://localhost:8080/"
        },
        "outputId": "297cb730-bd6f-4f3c-e715-754c48934bfd"
      },
      "source": [
        "def preprocess(data, encoder, lb):\n",
        "  \"\"\"\n",
        "  Transforms `data` into format required for model building\n",
        "\n",
        "  Args:\n",
        "    data (pd.DataFrame): dataframe with columns `INPUT_FEAUTURES` and `TARGET_COLUMN`\n",
        "    encoder (sklearn.preprocessing.OneHotEncoder): A fitted OneHotEncoder to be used to transform `INPUT_FEATURES`\n",
        "    lb (sklearn.preprocessing.LabelBinarizer): A fitted LabelBinarizer to be used to transform `TARGET_COLUMN`\n",
        "  \n",
        "  Returns:\n",
        "    model_input (np.array): each row is an observation, columns are one-hot encoded features of `INPUT_FEATURES`\n",
        "    model_target (np.array): 1D array with 1 where `TARGET_COLUMN` is \"positive\" and 0 otherwise.\n",
        "  \"\"\"\n",
        "\n",
        "  x = encoder.transform(data[INPUT_FEATURES]).todense()\n",
        "  y = lb.transform(data[TARGET_COLUMN]).flatten() \n",
        "\n",
        "  return x, y\n",
        "\n",
        "lb = LabelBinarizer()\n",
        "lb.fit(training_data['corona_result'])\n",
        "\n",
        "\n",
        "encoder = OneHotEncoder()\n",
        "encoder.fit(training_data[INPUT_FEATURES])"
      ],
      "execution_count": 200,
      "outputs": [
        {
          "output_type": "execute_result",
          "data": {
            "text/plain": [
              "OneHotEncoder(categories='auto', drop=None, dtype=<class 'numpy.float64'>,\n",
              "              handle_unknown='error', sparse=True)"
            ]
          },
          "metadata": {},
          "execution_count": 200
        }
      ]
    },
    {
      "cell_type": "code",
      "metadata": {
        "id": "07-cYyXa7Kb1"
      },
      "source": [
        "# def preprocess_hack(data):\n",
        "#   df_features = data.drop('test_date',axis=1).copy()\n",
        "#   symptoms = ['cough','fever','sore_throat','shortness_of_breath','head_ache']\n",
        "#   categorical = ['age_60_and_above','gender','test_indication','corona_result']\n",
        "#   #preprocess symptoms - replace None with 0 and cast column as integer\n",
        "#   for col in symptoms:\n",
        "#       df_features[col].replace('None', 2, inplace=True) # 2\n",
        "#       df_features[col] = df_features[col].astype(np.uint8)\n",
        "#   #preprocess categorical columns - OneHotEncode using get_dummies\n",
        "#   for col in categorical:\n",
        "#       tempdf = pd.get_dummies(df_features[col], prefix=col)\n",
        "#       df_features = pd.merge(\n",
        "#           left=df_features,\n",
        "#           right=tempdf,\n",
        "#           left_index=True,\n",
        "#           right_index=True,\n",
        "#       )\n",
        "#       df_features = df_features.drop(columns=col)\n",
        "#   df_features = df_features.drop(columns=['age_60_and_above_No','age_60_and_above_None',\n",
        "#                                           'gender_None','gender_female',\n",
        "#                                           'corona_result_negative',\n",
        "#                                           'test_indication_Abroad',\n",
        "#                                           'test_indication_Other'])\n",
        "#   return df_features\n",
        "\n",
        "# X = preprocess_hack(df)\n",
        "# y = X['corona_result_positive']\n",
        "# X = X.drop('corona_result_positive',axis=1)\n",
        "\n",
        "\n",
        "#value/uniques in test/valid"
      ],
      "execution_count": 160,
      "outputs": []
    },
    {
      "cell_type": "code",
      "metadata": {
        "id": "41F1O8nMQdKs"
      },
      "source": [
        "# from sklearn.model_selection import train_test_split\n",
        "# from sklearn.metrics import roc_auc_score\n",
        "# X_train, X_test, y_train, y_test = train_test_split(X, y, test_size=0.33, random_state=42, stratify=y)"
      ],
      "execution_count": 161,
      "outputs": []
    },
    {
      "cell_type": "code",
      "metadata": {
        "colab": {
          "base_uri": "https://localhost:8080/",
          "height": 224
        },
        "id": "XAs9fHZZAUxZ",
        "outputId": "0a9a3bf9-d063-4bba-9acd-f8d35831d100"
      },
      "source": [
        ""
      ],
      "execution_count": 146,
      "outputs": [
        {
          "output_type": "execute_result",
          "data": {
            "text/html": [
              "<div>\n",
              "<style scoped>\n",
              "    .dataframe tbody tr th:only-of-type {\n",
              "        vertical-align: middle;\n",
              "    }\n",
              "\n",
              "    .dataframe tbody tr th {\n",
              "        vertical-align: top;\n",
              "    }\n",
              "\n",
              "    .dataframe thead th {\n",
              "        text-align: right;\n",
              "    }\n",
              "</style>\n",
              "<table border=\"1\" class=\"dataframe\">\n",
              "  <thead>\n",
              "    <tr style=\"text-align: right;\">\n",
              "      <th></th>\n",
              "      <th>test_date</th>\n",
              "      <th>cough</th>\n",
              "      <th>fever</th>\n",
              "      <th>sore_throat</th>\n",
              "      <th>shortness_of_breath</th>\n",
              "      <th>head_ache</th>\n",
              "      <th>corona_result</th>\n",
              "      <th>age_60_and_above</th>\n",
              "      <th>gender</th>\n",
              "      <th>test_indication</th>\n",
              "    </tr>\n",
              "  </thead>\n",
              "  <tbody>\n",
              "    <tr>\n",
              "      <th>61811</th>\n",
              "      <td>2020-04-21</td>\n",
              "      <td>0</td>\n",
              "      <td>0</td>\n",
              "      <td>0</td>\n",
              "      <td>0</td>\n",
              "      <td>0</td>\n",
              "      <td>negative</td>\n",
              "      <td>None</td>\n",
              "      <td>male</td>\n",
              "      <td>Other</td>\n",
              "    </tr>\n",
              "    <tr>\n",
              "      <th>61812</th>\n",
              "      <td>2020-04-21</td>\n",
              "      <td>0</td>\n",
              "      <td>0</td>\n",
              "      <td>0</td>\n",
              "      <td>0</td>\n",
              "      <td>0</td>\n",
              "      <td>negative</td>\n",
              "      <td>None</td>\n",
              "      <td>female</td>\n",
              "      <td>Other</td>\n",
              "    </tr>\n",
              "    <tr>\n",
              "      <th>61813</th>\n",
              "      <td>2020-04-21</td>\n",
              "      <td>0</td>\n",
              "      <td>0</td>\n",
              "      <td>0</td>\n",
              "      <td>0</td>\n",
              "      <td>0</td>\n",
              "      <td>negative</td>\n",
              "      <td>None</td>\n",
              "      <td>female</td>\n",
              "      <td>Other</td>\n",
              "    </tr>\n",
              "    <tr>\n",
              "      <th>61814</th>\n",
              "      <td>2020-04-21</td>\n",
              "      <td>0</td>\n",
              "      <td>0</td>\n",
              "      <td>0</td>\n",
              "      <td>0</td>\n",
              "      <td>0</td>\n",
              "      <td>negative</td>\n",
              "      <td>None</td>\n",
              "      <td>female</td>\n",
              "      <td>Other</td>\n",
              "    </tr>\n",
              "    <tr>\n",
              "      <th>61815</th>\n",
              "      <td>2020-04-21</td>\n",
              "      <td>0</td>\n",
              "      <td>0</td>\n",
              "      <td>0</td>\n",
              "      <td>0</td>\n",
              "      <td>0</td>\n",
              "      <td>negative</td>\n",
              "      <td>None</td>\n",
              "      <td>female</td>\n",
              "      <td>Other</td>\n",
              "    </tr>\n",
              "  </tbody>\n",
              "</table>\n",
              "</div>"
            ],
            "text/plain": [
              "       test_date cough fever  ... age_60_and_above  gender test_indication\n",
              "61811 2020-04-21     0     0  ...             None    male           Other\n",
              "61812 2020-04-21     0     0  ...             None  female           Other\n",
              "61813 2020-04-21     0     0  ...             None  female           Other\n",
              "61814 2020-04-21     0     0  ...             None  female           Other\n",
              "61815 2020-04-21     0     0  ...             None  female           Other\n",
              "\n",
              "[5 rows x 10 columns]"
            ]
          },
          "metadata": {},
          "execution_count": 146
        }
      ]
    },
    {
      "cell_type": "markdown",
      "metadata": {
        "id": "5N6PYvo8NUuE"
      },
      "source": [
        "# Model building\n",
        "\n",
        "In this section, we will build various classifiers using `sklearn`. You do not have to restrict yourself to `sklearn`. Please feel free to use any other library.\n",
        "\n",
        "**TRY:**  Try various classifiers that you have learned so far.\n",
        "Here is the list of models to try :\n",
        "\n",
        "*  Logistic Regssion: [User Guide](https://scikit-learn.org/stable/modules/linear_model.html#logistic-regression). [API](https://scikit-learn.org/stable/modules/generated/sklearn.linear_model.LogisticRegression.html).\n",
        "*   Decision Trees: [User Guide](https://scikit-learn.org/stable/modules/tree.html#classification). [API](https://scikit-learn.org/stable/modules/generated/sklearn.tree.DecisionTreeClassifier.html#sklearn.tree.DecisionTreeClassifier). You can head down in the User Guide to [other Tree algorithms](https://scikit-learn.org/stable/modules/tree.html#tree-algorithms-id3-c4-5-c5-0-and-cart) if you fancy. \n",
        "*   Categorical Naive Bayes.[User Guide](https://scikit-learn.org/stable/modules/naive_bayes.html#categorical-naive-bayes). [API](https://scikit-learn.org/stable/modules/generated/sklearn.naive_bayes.CategoricalNB.html#sklearn.naive_bayes.CategoricalNB)\n",
        "*   Linear Discriminant Analysis. [User Guide](https://scikit-learn.org/stable/modules/lda_qda.html#). [API](https://scikit-learn.org/stable/modules/generated/sklearn.discriminant_analysis.LinearDiscriminantAnalysis.html#sklearn.discriminant_analysis.LinearDiscriminantAnalysis)\n",
        "*   Quadratic Discriminant Analysis. [User Guide](https://scikit-learn.org/stable/modules/lda_qda.html#). [API](https://scikit-learn.org/stable/modules/generated/sklearn.discriminant_analysis.QuadraticDiscriminantAnalysis.html#sklearn.discriminant_analysis.QuadraticDiscriminantAnalysis)\n",
        "*   Support Vector Machines. [User Guide](https://scikit-learn.org/stable/modules/svm.html#classification). [API](https://scikit-learn.org/stable/modules/generated/sklearn.svm.SVC.html#sklearn.svm.SVC)\n",
        "*   Nearest neighbors classification. [User Guide](https://scikit-learn.org/stable/modules/neighbors.html#nearest-neighbors-classification). [API](https://scikit-learn.org/stable/modules/generated/sklearn.neighbors.KNeighborsClassifier.html#sklearn.neighbors.KNeighborsClassifier)\n",
        "*   Neural networks - Multi-layer Perceptron (MLP). [User Guide](https://scikit-learn.org/stable/modules/neural_networks_supervised.html#multi-layer-perceptron). [API](https://scikit-learn.org/stable/modules/generated/sklearn.neural_network.MLPClassifier.html#sklearn.neural_network.MLPClassifier)\n",
        "\n"
      ]
    },
    {
      "cell_type": "code",
      "metadata": {
        "id": "G-SrolsD3vLu"
      },
      "source": [
        "# Logistic Regression\n",
        "from sklearn.metrics import classification_report\n",
        "X_train, Y_train = preprocess(training_data, encoder, lb)\n",
        "X_val, Y_val= preprocess(valid_data, encoder, lb)\n",
        "\n",
        "model = LogisticRegression(max_iter=200) # had to increase max iterations as it was failing to converge.\n",
        "model.fit(X_train, Y_train)\n",
        "y_pred = model.predict(X_val)\n"
      ],
      "execution_count": 270,
      "outputs": []
    },
    {
      "cell_type": "code",
      "metadata": {
        "colab": {
          "base_uri": "https://localhost:8080/"
        },
        "id": "EDPFpYP3ujCh",
        "outputId": "afc83488-208a-473e-848d-6ce8f68a6480"
      },
      "source": [
        "print(classification_report(Y_val, y_pred))"
      ],
      "execution_count": 271,
      "outputs": [
        {
          "output_type": "stream",
          "name": "stdout",
          "text": [
            "              precision    recall  f1-score   support\n",
            "\n",
            "           0       0.97      0.99      0.98     42937\n",
            "           1       0.74      0.53      0.62      2431\n",
            "\n",
            "    accuracy                           0.96     45368\n",
            "   macro avg       0.86      0.76      0.80     45368\n",
            "weighted avg       0.96      0.96      0.96     45368\n",
            "\n"
          ]
        }
      ]
    },
    {
      "cell_type": "markdown",
      "metadata": {
        "id": "MJqfnwaXsj0H"
      },
      "source": [
        "NAIVE BAYES CLASSIFIERS\n",
        "Generative classifier:\n",
        "Naive Bayes tries to model probability a point belongs to class   if it has value \n",
        "Allows us to sample a value   for class   using the underlying probability distribution -\n",
        "\"generate data\"\n",
        "Strong assumption of independence between features"
      ]
    },
    {
      "cell_type": "code",
      "metadata": {
        "colab": {
          "base_uri": "https://localhost:8080/"
        },
        "id": "pxbsNgnX-7HJ",
        "outputId": "96fd11c8-cee2-4d7a-aa6b-b93a9890b7a6"
      },
      "source": [
        "# Categorical Naive Bayes\n",
        "from sklearn.naive_bayes import CategoricalNB\n",
        "from sklearn import metrics\n",
        "cnb = CategoricalNB()\n",
        "cnb.fit(X_train, Y_train)\n",
        "y_pred_cnb = cnb.predict(X_val)\n",
        "metrics.accuracy_score(Y_val, y_pred_cnb)"
      ],
      "execution_count": 226,
      "outputs": [
        {
          "output_type": "execute_result",
          "data": {
            "text/plain": [
              "CategoricalNB(alpha=1.0, class_prior=None, fit_prior=True)"
            ]
          },
          "metadata": {},
          "execution_count": 226
        }
      ]
    },
    {
      "cell_type": "code",
      "metadata": {
        "colab": {
          "base_uri": "https://localhost:8080/"
        },
        "id": "yZ5rPpfDraqb",
        "outputId": "e097ce5f-20ee-4e4d-b25d-9eb491ea7e72"
      },
      "source": [
        "# KNN\n",
        "from sklearn.neighbors import KNeighborsClassifier\n",
        "knn = KNeighborsClassifier(n_neighbors=5)\n",
        "knn.fit(X_train, Y_train)\n",
        "y_pred_knn = knn.predict(X_val)\n",
        "metrics.accuracy_score(Y_val, y_pred_knn)"
      ],
      "execution_count": 272,
      "outputs": [
        {
          "output_type": "execute_result",
          "data": {
            "text/plain": [
              "0.9641818021512961"
            ]
          },
          "metadata": {},
          "execution_count": 272
        }
      ]
    },
    {
      "cell_type": "code",
      "metadata": {
        "id": "Apa5jpyg01ti"
      },
      "source": [
        ""
      ],
      "execution_count": null,
      "outputs": []
    },
    {
      "cell_type": "code",
      "metadata": {
        "id": "nu6Zw5knjp_2"
      },
      "source": [
        "# Function to evaluate a model and get ROC curve\n",
        "def evaluate(model, X, Y):\n",
        "  \"\"\"\n",
        "  Returns the AUC-ROC for `model` as evaluated on (X, Y)\n",
        "\n",
        "  Args:\n",
        "    model (): Any model that has a function predict_proba and returns probability for each row in `X`.\n",
        "    X (np.array): Input to the model containing feature values\n",
        "    Y (np.array): 1D array containing true class i.e. 0 or 1\n",
        "  \n",
        "  Returns:\n",
        "    (float): AUC ROC for the model\n",
        "  \"\"\"\n",
        "  y_score = model.predict_proba(X) # (n_samples, n_clases) with each value being the probability of being in that class\n",
        "  return roc_auc_score(y_true=Y, y_score=y_score[:, 1])\n",
        "  "
      ],
      "execution_count": 266,
      "outputs": []
    },
    {
      "cell_type": "code",
      "metadata": {
        "id": "L1B1lZPklRMu"
      },
      "source": [
        "def roc_plot(model, X, Y):\n",
        "  # plot\n",
        "  fig, ax = plt.subplots(nrows=1, ncols=1, figsize=(5,5), dpi=100)\n",
        "  plot_roc_curve(model, X, Y, ax=ax, color=\"#2E4052\")\n",
        "\n",
        "  # formatting \n",
        "  ax.plot(np.arange(0,1, 0.01), np.arange(0, 1, 0.01), color=\"#2E4052\", linestyle=\"-.\") # reference line\n",
        "  ax.set_xlim(0, 1)\n",
        "  ax.set_ylim(0, 1)\n",
        "  _ = ax.set_title(\"Receiver Operating Characteristics\", fontsize=15)\n",
        "  return plot_roc_curve(model, X, Y, ax=ax, color=\"#2E4052\")"
      ],
      "execution_count": 238,
      "outputs": []
    },
    {
      "cell_type": "code",
      "metadata": {
        "colab": {
          "base_uri": "https://localhost:8080/",
          "height": 516
        },
        "id": "H7aHjL3dnRRi",
        "outputId": "8f4a13a2-db25-446f-8691-1e7f72a897d6"
      },
      "source": [
        "print(\"Logistic Regression:\", evaluate(model, X_val, Y_val))\n",
        "roc_plot(model, X_val, Y_val)"
      ],
      "execution_count": 273,
      "outputs": [
        {
          "output_type": "stream",
          "name": "stdout",
          "text": [
            "Logistic Regression: 0.898364427570008\n"
          ]
        },
        {
          "output_type": "execute_result",
          "data": {
            "text/plain": [
              "<sklearn.metrics._plot.roc_curve.RocCurveDisplay at 0x7fc3adf46790>"
            ]
          },
          "metadata": {},
          "execution_count": 273
        },
        {
          "output_type": "display_data",
          "data": {
            "image/png": "[encoded data removed]",
            "text/plain": [
              "<Figure size 500x500 with 1 Axes>"
            ]
          },
          "metadata": {
            "needs_background": "light"
          }
        }
      ]
    },
    {
      "cell_type": "code",
      "metadata": {
        "colab": {
          "base_uri": "https://localhost:8080/",
          "height": 516
        },
        "id": "AdnYAg6ymtoT",
        "outputId": "c489ccf1-c09b-44d7-bf63-06b27e14786e"
      },
      "source": [
        "print(\"Naive Bayes:\", evaluate(cnb, X_val, Y_val))\n",
        "roc_plot(cnb, X_val, Y_val)\n"
      ],
      "execution_count": 242,
      "outputs": [
        {
          "output_type": "stream",
          "name": "stdout",
          "text": [
            "Naive Bayes: 0.888909542088139\n"
          ]
        },
        {
          "output_type": "execute_result",
          "data": {
            "text/plain": [
              "<sklearn.metrics._plot.roc_curve.RocCurveDisplay at 0x7fc3ae1b8e90>"
            ]
          },
          "metadata": {},
          "execution_count": 242
        },
        {
          "output_type": "display_data",
          "data": {
            "image/png": "[encoded data removed]",
            "text/plain": [
              "<Figure size 500x500 with 1 Axes>"
            ]
          },
          "metadata": {
            "needs_background": "light"
          }
        }
      ]
    },
    {
      "cell_type": "code",
      "metadata": {
        "colab": {
          "base_uri": "https://localhost:8080/"
        },
        "id": "1asF9wGS08AS",
        "outputId": "5f7d61b9-90d4-47a2-f897-f40c55a2f616"
      },
      "source": [
        "print(\"KNN:\", evaluate(knn, X_val, Y_val))"
      ],
      "execution_count": 275,
      "outputs": [
        {
          "output_type": "stream",
          "name": "stdout",
          "text": [
            "KNN: 0.8621077256417132\n"
          ]
        }
      ]
    },
    {
      "cell_type": "markdown",
      "metadata": {
        "id": "bZSS0TyANfG1"
      },
      "source": [
        "# Evaluate Model\n",
        "\n",
        "In this section, we will evaluate our model's performance on the validation dataset. \n",
        "\n",
        "Here are the list of questions to think about while deciding how to evaluate your model - \n",
        "*   Is accuracy the right metric to evaluate the model? Are inaccuracies correctly penalized in the accuracy metric?\n",
        "*  Would you think that the cost of false negative is more than the false positive? Is it dependent on the application?\n",
        "*  Which metric will minimize false negatives and false positives?\n",
        "*   Which dataset should you chose to evaluate the model? Validation or Test?\n",
        "What other metric is relevant in our context?  \n",
        "\n",
        "For benchmarking everyone’s results we will stick to ROC AUC score as a metric. \n",
        "There are standard functions to compute these scores in `sklearn`, so we will use them. \n",
        "Specifically, we will be using [`roc_auc_score`](https://scikit-learn.org/stable/modules/generated/sklearn.metrics.roc_auc_score.html#sklearn.metrics.roc_auc_score) and [`plot_roc_curve`](https://scikit-learn.org/stable/modules/generated/sklearn.metrics.plot_roc_curve.html).\n"
      ]
    },
    {
      "cell_type": "markdown",
      "metadata": {
        "id": "6n0jr-EekESj"
      },
      "source": [
        "# Hyperparameter Search\n",
        "\n",
        "In this section we will be searching for the best parameters to build our models. \n",
        "This is where we will use our validation dataset. \n",
        "\n",
        "\n"
      ]
    },
    {
      "cell_type": "markdown",
      "metadata": {
        "id": "uqSd5Bo3chPT"
      },
      "source": [
        "Hyperparameter search can become messy if you have lots of paramters. \n",
        "A brute force method to do such a search will be to do a grid search to fit tons of models. \n",
        "Thus, a smarter way to do hyperparameter search has been the subject of research. \n",
        "\n",
        "**TRY:** If interested, read [here](https://scikit-learn.org/stable/modules/grid_search.html) for more details and incorporate some of those ideas in the model building process. "
      ]
    },
    {
      "cell_type": "code",
      "metadata": {
        "colab": {
          "base_uri": "https://localhost:8080/",
          "height": 232
        },
        "id": "QwZeCAyEqcAr",
        "outputId": "3d09a8f6-fef6-4d18-e70b-847dae735b5a"
      },
      "source": [
        "param_grid = [\n",
        "    {'classifier' : [LogisticRegression()],\n",
        "     'classifier__penalty' : ['l1', 'l2'],\n",
        "    'classifier__C' : np.logspace(-4, 4, 20)}\n",
        "]\n",
        "\n",
        "# Create grid search object\n",
        "\n",
        "clf = GridSearchCV(model, param_grid = param_grid, cv = 5, verbose=True, n_jobs=-1)\n",
        "\n",
        "# Fit on data\n",
        "\n",
        "best_lr = clf.fit(X_train, y_train)\n",
        "best.lr.predict(X_val)"
      ],
      "execution_count": 247,
      "outputs": [
        {
          "output_type": "error",
          "ename": "TypeError",
          "evalue": "ignored",
          "traceback": [
            "\u001b[0;31m---------------------------------------------------------------------------\u001b[0m",
            "\u001b[0;31mTypeError\u001b[0m                                 Traceback (most recent call last)",
            "\u001b[0;32m<ipython-input-247-cfce6943681d>\u001b[0m in \u001b[0;36m<module>\u001b[0;34m()\u001b[0m\n\u001b[1;32m      1\u001b[0m \u001b[0;32mfrom\u001b[0m \u001b[0msklearn\u001b[0m\u001b[0;34m.\u001b[0m\u001b[0mmodel_selection\u001b[0m \u001b[0;32mimport\u001b[0m \u001b[0mKFold\u001b[0m\u001b[0;34m,\u001b[0m \u001b[0mcross_val_score\u001b[0m\u001b[0;34m\u001b[0m\u001b[0;34m\u001b[0m\u001b[0m\n\u001b[0;32m----> 2\u001b[0;31m \u001b[0mk_fold\u001b[0m \u001b[0;34m=\u001b[0m \u001b[0mKFold\u001b[0m\u001b[0;34m(\u001b[0m\u001b[0mlen\u001b[0m\u001b[0;34m(\u001b[0m\u001b[0mY_train\u001b[0m\u001b[0;34m)\u001b[0m\u001b[0;34m,\u001b[0m \u001b[0mn_folds\u001b[0m\u001b[0;34m=\u001b[0m\u001b[0;36m10\u001b[0m\u001b[0;34m,\u001b[0m \u001b[0mshuffle\u001b[0m\u001b[0;34m=\u001b[0m\u001b[0;32mTrue\u001b[0m\u001b[0;34m,\u001b[0m \u001b[0mrandom_state\u001b[0m\u001b[0;34m=\u001b[0m\u001b[0;36m0\u001b[0m\u001b[0;34m)\u001b[0m\u001b[0;34m\u001b[0m\u001b[0;34m\u001b[0m\u001b[0m\n\u001b[0m\u001b[1;32m      3\u001b[0m \u001b[0mcnb\u001b[0m \u001b[0;34m=\u001b[0m \u001b[0mCategoricalNB\u001b[0m\u001b[0;34m(\u001b[0m\u001b[0;34m)\u001b[0m\u001b[0;34m\u001b[0m\u001b[0;34m\u001b[0m\u001b[0m\n\u001b[1;32m      4\u001b[0m \u001b[0mcnb\u001b[0m\u001b[0;34m.\u001b[0m\u001b[0mfit\u001b[0m\u001b[0;34m(\u001b[0m\u001b[0mX_train\u001b[0m\u001b[0;34m,\u001b[0m \u001b[0mY_train\u001b[0m\u001b[0;34m)\u001b[0m\u001b[0;34m\u001b[0m\u001b[0;34m\u001b[0m\u001b[0m\n\u001b[1;32m      5\u001b[0m \u001b[0mcross_val_score\u001b[0m\u001b[0;34m(\u001b[0m\u001b[0mcnb\u001b[0m\u001b[0;34m,\u001b[0m \u001b[0mX_train\u001b[0m\u001b[0;34m,\u001b[0m \u001b[0mY_train\u001b[0m\u001b[0;34m,\u001b[0m \u001b[0mcv\u001b[0m\u001b[0;34m=\u001b[0m\u001b[0mk_fold\u001b[0m\u001b[0;34m,\u001b[0m \u001b[0mn_jobs\u001b[0m\u001b[0;34m=\u001b[0m\u001b[0;36m1\u001b[0m\u001b[0;34m)\u001b[0m\u001b[0;34m\u001b[0m\u001b[0;34m\u001b[0m\u001b[0m\n",
            "\u001b[0;31mTypeError\u001b[0m: __init__() got an unexpected keyword argument 'n_folds'"
          ]
        }
      ]
    },
    {
      "cell_type": "markdown",
      "metadata": {
        "id": "UkB6mMuSkkmN"
      },
      "source": [
        "# Report your results\n",
        "\n",
        "**NOTE:** You should use the test dataset only when you are done with hyperparameter search on your model. \n",
        "This is because the test dataset is not involved in the model building process, thereby making sure that the performance evaluation on the test dataset measures how well the proposed model is able to generalize."
      ]
    },
    {
      "cell_type": "code",
      "metadata": {
        "id": "pxqeBPIMko9Z",
        "colab": {
          "base_uri": "https://localhost:8080/"
        },
        "outputId": "b36d385f-50bf-4abe-c447-27861025a9f0"
      },
      "source": [
        "X_test, Y_test = preprocess(test_data, encoder, lb)\n",
        "auc_score = evaluate(best_model, X_test, Y_test)\n",
        "print(f\"AUC-ROC on the test dataset:{auc_score}\")\n"
      ],
      "execution_count": null,
      "outputs": [
        {
          "output_type": "stream",
          "text": [
            "AUC-ROC on the test dataset:0.8114507841261618\n"
          ],
          "name": "stdout"
        }
      ]
    },
    {
      "cell_type": "markdown",
      "metadata": {
        "id": "CmnEnKthyBGz"
      },
      "source": [
        "Is this the end?\n",
        "\n",
        "What do you need to do to make the model practically applicable? How would you use this model in the real life?"
      ]
    },
    {
      "cell_type": "markdown",
      "metadata": {
        "id": "f5sO-B1-BnFz"
      },
      "source": [
        "# Collaborate with Ensemble \n",
        "\n",
        "You can combine various models to form an ensemble model. \n",
        "There are various ways to combine these models. \n",
        "All of them serve a particular purpose (e.g. reducing variance, increasing accuracy. etc.). \n",
        "\n",
        "The simplest example of an ensemble is to combine the constituent models via voting. This can be done in two ways:\n",
        "*  soft voting - likelihood of the input belonging to a class is the mean of the likelihood predicted by the constituent models, \n",
        "*  hard-voting - likelihood of the input belonging to a class is determined by frequency of the constutuent models predicting that class for the input.\n",
        "\n",
        "Thus, if you are working in a team, let each member try out different models. At the end, combine your models and make an ensemble model. \n",
        "\n",
        "Here is the [User Guide](https://scikit-learn.org/stable/modules/ensemble.html#voting-classifier) and [API](https://scikit-learn.org/stable/modules/generated/sklearn.ensemble.VotingClassifier.html#sklearn.ensemble.VotingClassifier) for making such an ensemble model."
      ]
    },
    {
      "cell_type": "markdown",
      "metadata": {
        "id": "awguX_CZs17n"
      },
      "source": [
        "# Extras: Class imbalance\n",
        "\n",
        "**TRY:** \n",
        " Why not try resampling techniques to optimize for ROC AUC?\n",
        "\n",
        "\n",
        "\n"
      ]
    },
    {
      "cell_type": "markdown",
      "metadata": {
        "id": "jRQOtp3sNoKq"
      },
      "source": [
        "# Extras: Dimensionality Reduction\n",
        "\n",
        "**TRY:** You can try dimensionality reduction from 16 dimensions to just 2 dimensions and visualize 2D plot with just two categories - \"positive\" and \"negative\". \n",
        "To do this, try various dimension reduction techniques, for example, [LDA](https://scikit-learn.org/stable/modules/lda_qda.html#mathematical-formulation-of-lda-dimensionality-reduction), [PCA](https://scikit-learn.org/stable/modules/generated/sklearn.decomposition.PCA.html#sklearn.decomposition.PCA), [t-SNE](https://scikit-learn.org/stable/modules/generated/sklearn.manifold.TSNE.html). \n"
      ]
    },
    {
      "cell_type": "markdown",
      "metadata": {
        "id": "o-B7PKHpewgz"
      },
      "source": [
        "# Poster template \n",
        "\n",
        "It is often the most difficult task to communicate the project's finding concisely in 1 minute or in a 1 slide. \n",
        "Therefore, our suggestion will be to touch upon the following points in your poster -  \n",
        "\n",
        "1. Briefly define the problem\n",
        "2. Briefly describe the dataset \n",
        "3. What did you learn about various models/techniques/etc.? e.g. \n",
        "4. What's the auc score of your final model did you get?\n",
        "\n",
        "If you want to learn what matters in building such posters, check out this great [YouTube video](https://www.youtube.com/watch?v=1RwJbhkCA58).\n",
        "Specifically, we should try and avoid posters with a lot of stuff to avoid cognitive overload. \n",
        "The templates suggested in the video can be found [here](https://osf.io/ef53g/). \n",
        "Note these are for academic papers, however, you can follow a similar ideology to concizsely display your work. "
      ]
    }
  ]
}