{
  "nbformat": 4,
  "nbformat_minor": 0,
  "metadata": {
    "colab": {
      "name": "EM COVID-diagnosis-hackathon.ipynb",
      "provenance": [],
      "collapsed_sections": [],
      "include_colab_link": true
    },
    "kernelspec": {
      "name": "python3",
      "display_name": "Python 3"
    },
    "language_info": {
      "name": "python"
    }
  },
  "cells": [
    {
      "cell_type": "markdown",
      "metadata": {
        "id": "view-in-github",
        "colab_type": "text"
      },
      "source": [
        "<a href=\"https://colab.research.google.com/github/bbc/apprenticeship-covid-hack/blob/main/notebooks/EM_COVID_diagnosis_hackathon.ipynb\" target=\"_parent\"><img src=\"https://colab.research.google.com/assets/colab-badge.svg\" alt=\"Open In Colab\"/></a>"
      ]
    },
    {
      "cell_type": "markdown",
      "metadata": {
        "id": "GFzda9am9vnj"
      },
      "source": [
        "# Covid-19 diagnosis using symptoms\n",
        "\n",
        "[Prateek Gupta](https://www.pgupta.info) \n",
        "\n",
        "2020-05-20\n",
        "\n",
        "**Abstract:** This notebook is a tutorial on building a typical machine learning classifier. \n",
        "The process of doing so spans steps ranging from data wrangling to model selection. \n",
        "With the help of each of these steps we hope to make the reader familiar with challenges involved in building a machine learning system. \n",
        "\n",
        "# Question\n",
        "\n",
        "In this hackathon, we want to build a machine learning model to predict COVID-19 infections from symptoms.\n",
        "It has several applications, for example, triaging patients to be attended to by a doctor or nurse, recommending self-isolation through contact tracing apps. \n",
        "\n",
        "Zoabi et al. [[1]](https://www.nature.com/articles/s41746-020-00372-6) builds a decision tree classifier using the publicly available data reported by the Israeli Ministry of Health.\n",
        "The paper itself dicsusses the various challenges encountered in deploying such a model. \n",
        "It is encouraged to read the paper and learn the challeges and ways to overcome them. \n",
        "\n",
        "However, in this hackathon, we will use their dataset and make the participant familiar with a typical pipeline of building a machine learning system.\n",
        "\n",
        "[1] [Zoabi, Y., Deri-Rozov, S. & Shomron, N. Machine learning-based prediction of COVID-19 diagnosis based on symptoms. npj Digit. Med. 4, 3 (2021).]((https://www.nature.com/articles/s41746-020-00372-6))\n"
      ]
    },
    {
      "cell_type": "markdown",
      "metadata": {
        "id": "WfQWCQDjAKN0"
      },
      "source": [
        "# Setup the workspace\n",
        "\n",
        "We will clone their Git repository to to use their dataset"
      ]
    },
    {
      "cell_type": "code",
      "metadata": {
        "colab": {
          "base_uri": "https://localhost:8080/"
        },
        "id": "yguOIEDX-YbD",
        "outputId": "c5ef2a41-efac-4cf7-c41e-71b9aa17ee33"
      },
      "source": [
        "!git clone https://github.com/nshomron/covidpred.git"
      ],
      "execution_count": null,
      "outputs": [
        {
          "output_type": "stream",
          "name": "stdout",
          "text": [
            "fatal: destination path 'covidpred' already exists and is not an empty directory.\n"
          ]
        }
      ]
    },
    {
      "cell_type": "code",
      "metadata": {
        "id": "35jfRmroICGw"
      },
      "source": [
        "import pandas as pd\n",
        "import math\n",
        "import numpy as np\n",
        "\n",
        "from sklearn.preprocessing import OneHotEncoder\n",
        "from sklearn.preprocessing import LabelBinarizer\n",
        "from sklearn.linear_model import LogisticRegression\n",
        "from sklearn.metrics import plot_roc_curve, roc_auc_score, roc_curve\n",
        "from sklearn.model_selection import train_test_split\n",
        "\n",
        "import matplotlib.pyplot as plt\n",
        "from matplotlib.lines import Line2D"
      ],
      "execution_count": null,
      "outputs": []
    },
    {
      "cell_type": "markdown",
      "metadata": {
        "id": "kv6FR_gOAV16"
      },
      "source": [
        "# Data \n",
        "\n",
        "Let's check how the data looks like and how various features are encoded. "
      ]
    },
    {
      "cell_type": "code",
      "metadata": {
        "colab": {
          "base_uri": "https://localhost:8080/"
        },
        "id": "P7tANpd5-tqj",
        "outputId": "f81ab556-241d-4112-e5ca-150245e8e340"
      },
      "source": [
        "df = pd.read_csv('covidpred/data/corona_tested_individuals_ver_006.english.csv.zip')"
      ],
      "execution_count": null,
      "outputs": [
        {
          "output_type": "stream",
          "name": "stderr",
          "text": [
            "/usr/local/lib/python3.7/dist-packages/IPython/core/interactiveshell.py:2718: DtypeWarning: Columns (1,2,3,4,5) have mixed types.Specify dtype option on import or set low_memory=False.\n",
            "  interactivity=interactivity, compiler=compiler, result=result)\n"
          ]
        }
      ]
    },
    {
      "cell_type": "code",
      "metadata": {
        "colab": {
          "base_uri": "https://localhost:8080/"
        },
        "id": "LXaLQdbBAElY",
        "outputId": "2633b21a-45ad-4a23-da29-d14f12b07aa9"
      },
      "source": [
        "df.columns"
      ],
      "execution_count": null,
      "outputs": [
        {
          "output_type": "execute_result",
          "data": {
            "text/plain": [
              "Index(['test_date', 'cough', 'fever', 'sore_throat', 'shortness_of_breath',\n",
              "       'head_ache', 'corona_result', 'age_60_and_above', 'gender',\n",
              "       'test_indication'],\n",
              "      dtype='object')"
            ]
          },
          "metadata": {},
          "execution_count": 64
        }
      ]
    },
    {
      "cell_type": "code",
      "metadata": {
        "id": "NO32KbQ-lZoq"
      },
      "source": [
        "# Run this on the raw dataframe returned by pd.read_csv, include params for train/test split ratio (default: 80:20 split trainvalid/test & train/valid)\n",
        "def select_and_split_data(df, trainvalid_size=0.8):\n",
        "  df['test_date'] = pd.to_datetime(df['test_date'])\n",
        "  df = df[df['corona_result'].isin(['positive', 'negative'])]\n",
        "  df = df[df['test_date'] >= '2020-3-22']\n",
        "\n",
        "\n",
        "  date_counts = df.groupby(['test_date']).count()['gender'] # take count of any column. They will all be same.\n",
        "  date_counts = date_counts.sort_index()\n",
        "  n_obs = df.shape[0]\n",
        "  cum_counts = date_counts.cumsum()\n",
        "  cdf = cum_counts / n_obs\n",
        "\n",
        "  max_training_date = cdf[cdf < trainvalid_size*trainvalid_size].index.max()\n",
        "  training_data = df[df['test_date'] <= max_training_date]\n",
        "\n",
        "  min_test_date = cdf[cdf > trainvalid_size].index.min()\n",
        "  test_data = df[df['test_date'] >= min_test_date]\n",
        "\n",
        "  valid_data = df[(max_training_date < df['test_date']) & (df['test_date'] < min_test_date)]\n",
        "\n",
        "  return training_data, valid_data, test_data\n",
        "\n",
        "  "
      ],
      "execution_count": null,
      "outputs": []
    },
    {
      "cell_type": "code",
      "metadata": {
        "colab": {
          "base_uri": "https://localhost:8080/",
          "height": 164
        },
        "id": "Li3lBBtQmQDx",
        "outputId": "8c91aa78-31e9-4112-f69e-1c6df4dd7024"
      },
      "source": [
        " training_data.head()"
      ],
      "execution_count": null,
      "outputs": [
        {
          "output_type": "error",
          "ename": "NameError",
          "evalue": "ignored",
          "traceback": [
            "\u001b[0;31m---------------------------------------------------------------------------\u001b[0m",
            "\u001b[0;31mNameError\u001b[0m                                 Traceback (most recent call last)",
            "\u001b[0;32m<ipython-input-16-2f2b00aeba50>\u001b[0m in \u001b[0;36m<module>\u001b[0;34m()\u001b[0m\n\u001b[0;32m----> 1\u001b[0;31m \u001b[0mtraining_data\u001b[0m\u001b[0;34m.\u001b[0m\u001b[0mhead\u001b[0m\u001b[0;34m(\u001b[0m\u001b[0;34m)\u001b[0m\u001b[0;34m\u001b[0m\u001b[0;34m\u001b[0m\u001b[0m\n\u001b[0m",
            "\u001b[0;31mNameError\u001b[0m: name 'training_data' is not defined"
          ]
        }
      ]
    },
    {
      "cell_type": "markdown",
      "metadata": {
        "id": "RWHY4TLAAhpJ"
      },
      "source": [
        "Great! These are the features used in the paper for their prediction task. The authors also list these features in the [README.md of their Github repo](https://github.com/nshomron/covidpred). "
      ]
    },
    {
      "cell_type": "markdown",
      "metadata": {
        "id": "PEtPMd2qGn72"
      },
      "source": [
        "Pandas read columns as string, so we need to convert them to the proper format before we can operate on it."
      ]
    },
    {
      "cell_type": "code",
      "metadata": {
        "id": "Zi7esn5RGdC8"
      },
      "source": [
        "df['test_date'] = pd.to_datetime(df['test_date'])"
      ],
      "execution_count": null,
      "outputs": []
    },
    {
      "cell_type": "code",
      "metadata": {
        "colab": {
          "base_uri": "https://localhost:8080/"
        },
        "id": "Mdb3D7Y5BdTt",
        "outputId": "0c0f1d30-c34d-4aac-8454-807131d88fdd"
      },
      "source": [
        "print(\"Start date:\", min(df['test_date']))\n",
        "print(\"End date:\", max(df['test_date']))\n",
        "\n",
        "n_days = (max(df['test_date']) - min(df['test_date'])).days\n",
        "print(\"# of days: \", n_days)\n",
        "\n",
        "n_obs =  df.shape[0]\n",
        "print(\"# of observations:\", df.shape[0])\n",
        "print(\"# of features:\", df.shape[1])\n",
        "\n",
        "pos_cases = sum(df['corona_result'] == \"positive\")\n",
        "print(\"# of positively diagnosed cases: {0} ({1: 2.2f}%)\".format(pos_cases, 100*pos_cases / n_obs))\n",
        "\n",
        "neg_cases = sum(df['corona_result'] == \"negative\")\n",
        "print(\"# of negatively diagnosed cases: {0} ({1: 2.2f}%)\".format(neg_cases, 100 * neg_cases / n_obs))\n",
        "\n",
        "other_cases = sum(df['corona_result'] == \"other\") # possibly not confirmed\n",
        "print(\"# of other cases (possibly, not confirmed): {0} ({1: 2.2f}%)\".format(other_cases, 100 * other_cases / n_obs))"
      ],
      "execution_count": null,
      "outputs": [
        {
          "output_type": "stream",
          "name": "stdout",
          "text": [
            "Start date: 2020-03-22 00:00:00\n",
            "End date: 2020-04-30 00:00:00\n",
            "# of days:  39\n",
            "# of observations: 261497\n",
            "# of features: 10\n",
            "# of positively diagnosed cases: 13676 ( 5.23%)\n",
            "# of negatively diagnosed cases: 247821 ( 94.77%)\n",
            "# of other cases (possibly, not confirmed): 0 ( 0.00%)\n"
          ]
        }
      ]
    },
    {
      "cell_type": "markdown",
      "metadata": {
        "id": "7guFsw8K-Cvy"
      },
      "source": [
        "Since we do not have any information on what happened to \"other\" cases, we will exclude them from our exercise. \n",
        "\n"
      ]
    },
    {
      "cell_type": "code",
      "metadata": {
        "id": "I-2eeGvK-Bxv"
      },
      "source": [
        "df = df[df['corona_result'].isin(['positive', 'negative'])]"
      ],
      "execution_count": null,
      "outputs": []
    },
    {
      "cell_type": "markdown",
      "metadata": {
        "id": "6ZpqlXpOATeB"
      },
      "source": [
        ""
      ]
    },
    {
      "cell_type": "markdown",
      "metadata": {
        "id": "4hG2lfabKr1e"
      },
      "source": [
        "To build out predictor, we will be splitting our dataset into **training,  validation, and test sets**. \n",
        "A model is trained on the training dataset while the hyperparameters are tuned on the validation dataset. \n",
        "Finally, a test dataset is used to report final model's performance metrics. \n",
        "\n",
        "Since we have a time dependent dataset we will split our training and test dataset based on time. \n",
        "Thus, we find the date before which 60% of observations are present, and use that as our training dataset.\n",
        "We will use next 20% of the dataset as our validation dataset, and finally, the remaining 20% will be used as a test dataset. \n",
        "Thus, we use 60-20-20 split.\n",
        "\n",
        "The authors use 63%-23% training-test split, and a further split of training into train-valid dataset using 80-20% split.\n",
        "There is no prescribed formula on how to do this split. \n",
        "\n"
      ]
    },
    {
      "cell_type": "code",
      "metadata": {
        "id": "s0dEh77THGW6"
      },
      "source": [
        "date_counts = df.groupby(['test_date']).count()['gender'] # take count of any column. They will all be same.\n",
        "date_counts = date_counts.sort_index()\n",
        "cum_counts = date_counts.cumsum()\n",
        "cdf = cum_counts / n_obs\n"
      ],
      "execution_count": null,
      "outputs": []
    },
    {
      "cell_type": "code",
      "metadata": {
        "colab": {
          "base_uri": "https://localhost:8080/",
          "height": 324
        },
        "id": "gQPq4I_ITz6K",
        "outputId": "8938d46d-7649-479d-8323-a513b1f1e689"
      },
      "source": [
        "# Remove age\n",
        "df = df.drop(['age_60_and_above'], axis=1)"
      ],
      "execution_count": null,
      "outputs": [
        {
          "output_type": "error",
          "ename": "KeyError",
          "evalue": "ignored",
          "traceback": [
            "\u001b[0;31m---------------------------------------------------------------------------\u001b[0m",
            "\u001b[0;31mKeyError\u001b[0m                                  Traceback (most recent call last)",
            "\u001b[0;32m<ipython-input-13-17ab92459c53>\u001b[0m in \u001b[0;36m<module>\u001b[0;34m()\u001b[0m\n\u001b[1;32m      1\u001b[0m \u001b[0;31m# Remove age\u001b[0m\u001b[0;34m\u001b[0m\u001b[0;34m\u001b[0m\u001b[0;34m\u001b[0m\u001b[0m\n\u001b[0;32m----> 2\u001b[0;31m \u001b[0mdf\u001b[0m \u001b[0;34m=\u001b[0m \u001b[0mdf\u001b[0m\u001b[0;34m.\u001b[0m\u001b[0mdrop\u001b[0m\u001b[0;34m(\u001b[0m\u001b[0;34m[\u001b[0m\u001b[0;34m'age_60_and_above'\u001b[0m\u001b[0;34m]\u001b[0m\u001b[0;34m,\u001b[0m \u001b[0maxis\u001b[0m\u001b[0;34m=\u001b[0m\u001b[0;36m1\u001b[0m\u001b[0;34m)\u001b[0m\u001b[0;34m\u001b[0m\u001b[0;34m\u001b[0m\u001b[0m\n\u001b[0m",
            "\u001b[0;32m/usr/local/lib/python3.7/dist-packages/pandas/core/frame.py\u001b[0m in \u001b[0;36mdrop\u001b[0;34m(self, labels, axis, index, columns, level, inplace, errors)\u001b[0m\n\u001b[1;32m   4172\u001b[0m             \u001b[0mlevel\u001b[0m\u001b[0;34m=\u001b[0m\u001b[0mlevel\u001b[0m\u001b[0;34m,\u001b[0m\u001b[0;34m\u001b[0m\u001b[0;34m\u001b[0m\u001b[0m\n\u001b[1;32m   4173\u001b[0m             \u001b[0minplace\u001b[0m\u001b[0;34m=\u001b[0m\u001b[0minplace\u001b[0m\u001b[0;34m,\u001b[0m\u001b[0;34m\u001b[0m\u001b[0;34m\u001b[0m\u001b[0m\n\u001b[0;32m-> 4174\u001b[0;31m             \u001b[0merrors\u001b[0m\u001b[0;34m=\u001b[0m\u001b[0merrors\u001b[0m\u001b[0;34m,\u001b[0m\u001b[0;34m\u001b[0m\u001b[0;34m\u001b[0m\u001b[0m\n\u001b[0m\u001b[1;32m   4175\u001b[0m         )\n\u001b[1;32m   4176\u001b[0m \u001b[0;34m\u001b[0m\u001b[0m\n",
            "\u001b[0;32m/usr/local/lib/python3.7/dist-packages/pandas/core/generic.py\u001b[0m in \u001b[0;36mdrop\u001b[0;34m(self, labels, axis, index, columns, level, inplace, errors)\u001b[0m\n\u001b[1;32m   3887\u001b[0m         \u001b[0;32mfor\u001b[0m \u001b[0maxis\u001b[0m\u001b[0;34m,\u001b[0m \u001b[0mlabels\u001b[0m \u001b[0;32min\u001b[0m \u001b[0maxes\u001b[0m\u001b[0;34m.\u001b[0m\u001b[0mitems\u001b[0m\u001b[0;34m(\u001b[0m\u001b[0;34m)\u001b[0m\u001b[0;34m:\u001b[0m\u001b[0;34m\u001b[0m\u001b[0;34m\u001b[0m\u001b[0m\n\u001b[1;32m   3888\u001b[0m             \u001b[0;32mif\u001b[0m \u001b[0mlabels\u001b[0m \u001b[0;32mis\u001b[0m \u001b[0;32mnot\u001b[0m \u001b[0;32mNone\u001b[0m\u001b[0;34m:\u001b[0m\u001b[0;34m\u001b[0m\u001b[0;34m\u001b[0m\u001b[0m\n\u001b[0;32m-> 3889\u001b[0;31m                 \u001b[0mobj\u001b[0m \u001b[0;34m=\u001b[0m \u001b[0mobj\u001b[0m\u001b[0;34m.\u001b[0m\u001b[0m_drop_axis\u001b[0m\u001b[0;34m(\u001b[0m\u001b[0mlabels\u001b[0m\u001b[0;34m,\u001b[0m \u001b[0maxis\u001b[0m\u001b[0;34m,\u001b[0m \u001b[0mlevel\u001b[0m\u001b[0;34m=\u001b[0m\u001b[0mlevel\u001b[0m\u001b[0;34m,\u001b[0m \u001b[0merrors\u001b[0m\u001b[0;34m=\u001b[0m\u001b[0merrors\u001b[0m\u001b[0;34m)\u001b[0m\u001b[0;34m\u001b[0m\u001b[0;34m\u001b[0m\u001b[0m\n\u001b[0m\u001b[1;32m   3890\u001b[0m \u001b[0;34m\u001b[0m\u001b[0m\n\u001b[1;32m   3891\u001b[0m         \u001b[0;32mif\u001b[0m \u001b[0minplace\u001b[0m\u001b[0;34m:\u001b[0m\u001b[0;34m\u001b[0m\u001b[0;34m\u001b[0m\u001b[0m\n",
            "\u001b[0;32m/usr/local/lib/python3.7/dist-packages/pandas/core/generic.py\u001b[0m in \u001b[0;36m_drop_axis\u001b[0;34m(self, labels, axis, level, errors)\u001b[0m\n\u001b[1;32m   3921\u001b[0m                 \u001b[0mnew_axis\u001b[0m \u001b[0;34m=\u001b[0m \u001b[0maxis\u001b[0m\u001b[0;34m.\u001b[0m\u001b[0mdrop\u001b[0m\u001b[0;34m(\u001b[0m\u001b[0mlabels\u001b[0m\u001b[0;34m,\u001b[0m \u001b[0mlevel\u001b[0m\u001b[0;34m=\u001b[0m\u001b[0mlevel\u001b[0m\u001b[0;34m,\u001b[0m \u001b[0merrors\u001b[0m\u001b[0;34m=\u001b[0m\u001b[0merrors\u001b[0m\u001b[0;34m)\u001b[0m\u001b[0;34m\u001b[0m\u001b[0;34m\u001b[0m\u001b[0m\n\u001b[1;32m   3922\u001b[0m             \u001b[0;32melse\u001b[0m\u001b[0;34m:\u001b[0m\u001b[0;34m\u001b[0m\u001b[0;34m\u001b[0m\u001b[0m\n\u001b[0;32m-> 3923\u001b[0;31m                 \u001b[0mnew_axis\u001b[0m \u001b[0;34m=\u001b[0m \u001b[0maxis\u001b[0m\u001b[0;34m.\u001b[0m\u001b[0mdrop\u001b[0m\u001b[0;34m(\u001b[0m\u001b[0mlabels\u001b[0m\u001b[0;34m,\u001b[0m \u001b[0merrors\u001b[0m\u001b[0;34m=\u001b[0m\u001b[0merrors\u001b[0m\u001b[0;34m)\u001b[0m\u001b[0;34m\u001b[0m\u001b[0;34m\u001b[0m\u001b[0m\n\u001b[0m\u001b[1;32m   3924\u001b[0m             \u001b[0mresult\u001b[0m \u001b[0;34m=\u001b[0m \u001b[0mself\u001b[0m\u001b[0;34m.\u001b[0m\u001b[0mreindex\u001b[0m\u001b[0;34m(\u001b[0m\u001b[0;34m**\u001b[0m\u001b[0;34m{\u001b[0m\u001b[0maxis_name\u001b[0m\u001b[0;34m:\u001b[0m \u001b[0mnew_axis\u001b[0m\u001b[0;34m}\u001b[0m\u001b[0;34m)\u001b[0m\u001b[0;34m\u001b[0m\u001b[0;34m\u001b[0m\u001b[0m\n\u001b[1;32m   3925\u001b[0m \u001b[0;34m\u001b[0m\u001b[0m\n",
            "\u001b[0;32m/usr/local/lib/python3.7/dist-packages/pandas/core/indexes/base.py\u001b[0m in \u001b[0;36mdrop\u001b[0;34m(self, labels, errors)\u001b[0m\n\u001b[1;32m   5285\u001b[0m         \u001b[0;32mif\u001b[0m \u001b[0mmask\u001b[0m\u001b[0;34m.\u001b[0m\u001b[0many\u001b[0m\u001b[0;34m(\u001b[0m\u001b[0;34m)\u001b[0m\u001b[0;34m:\u001b[0m\u001b[0;34m\u001b[0m\u001b[0;34m\u001b[0m\u001b[0m\n\u001b[1;32m   5286\u001b[0m             \u001b[0;32mif\u001b[0m \u001b[0merrors\u001b[0m \u001b[0;34m!=\u001b[0m \u001b[0;34m\"ignore\"\u001b[0m\u001b[0;34m:\u001b[0m\u001b[0;34m\u001b[0m\u001b[0;34m\u001b[0m\u001b[0m\n\u001b[0;32m-> 5287\u001b[0;31m                 \u001b[0;32mraise\u001b[0m \u001b[0mKeyError\u001b[0m\u001b[0;34m(\u001b[0m\u001b[0;34mf\"{labels[mask]} not found in axis\"\u001b[0m\u001b[0;34m)\u001b[0m\u001b[0;34m\u001b[0m\u001b[0;34m\u001b[0m\u001b[0m\n\u001b[0m\u001b[1;32m   5288\u001b[0m             \u001b[0mindexer\u001b[0m \u001b[0;34m=\u001b[0m \u001b[0mindexer\u001b[0m\u001b[0;34m[\u001b[0m\u001b[0;34m~\u001b[0m\u001b[0mmask\u001b[0m\u001b[0;34m]\u001b[0m\u001b[0;34m\u001b[0m\u001b[0;34m\u001b[0m\u001b[0m\n\u001b[1;32m   5289\u001b[0m         \u001b[0;32mreturn\u001b[0m \u001b[0mself\u001b[0m\u001b[0;34m.\u001b[0m\u001b[0mdelete\u001b[0m\u001b[0;34m(\u001b[0m\u001b[0mindexer\u001b[0m\u001b[0;34m)\u001b[0m\u001b[0;34m\u001b[0m\u001b[0;34m\u001b[0m\u001b[0m\n",
            "\u001b[0;31mKeyError\u001b[0m: \"['age_60_and_above'] not found in axis\""
          ]
        }
      ]
    },
    {
      "cell_type": "code",
      "metadata": {
        "colab": {
          "base_uri": "https://localhost:8080/",
          "height": 204
        },
        "id": "O2lNr85Zl26a",
        "outputId": "8cb88d29-46cf-41ae-a123-0e1dbb62654e"
      },
      "source": [
        "df.head()"
      ],
      "execution_count": null,
      "outputs": [
        {
          "output_type": "execute_result",
          "data": {
            "text/html": [
              "<div>\n",
              "<style scoped>\n",
              "    .dataframe tbody tr th:only-of-type {\n",
              "        vertical-align: middle;\n",
              "    }\n",
              "\n",
              "    .dataframe tbody tr th {\n",
              "        vertical-align: top;\n",
              "    }\n",
              "\n",
              "    .dataframe thead th {\n",
              "        text-align: right;\n",
              "    }\n",
              "</style>\n",
              "<table border=\"1\" class=\"dataframe\">\n",
              "  <thead>\n",
              "    <tr style=\"text-align: right;\">\n",
              "      <th></th>\n",
              "      <th>test_date</th>\n",
              "      <th>cough</th>\n",
              "      <th>fever</th>\n",
              "      <th>sore_throat</th>\n",
              "      <th>shortness_of_breath</th>\n",
              "      <th>head_ache</th>\n",
              "      <th>corona_result</th>\n",
              "      <th>gender</th>\n",
              "      <th>test_indication</th>\n",
              "    </tr>\n",
              "  </thead>\n",
              "  <tbody>\n",
              "    <tr>\n",
              "      <th>0</th>\n",
              "      <td>2020-04-30</td>\n",
              "      <td>0</td>\n",
              "      <td>0</td>\n",
              "      <td>0</td>\n",
              "      <td>0</td>\n",
              "      <td>0</td>\n",
              "      <td>negative</td>\n",
              "      <td>female</td>\n",
              "      <td>Other</td>\n",
              "    </tr>\n",
              "    <tr>\n",
              "      <th>1</th>\n",
              "      <td>2020-04-30</td>\n",
              "      <td>1</td>\n",
              "      <td>0</td>\n",
              "      <td>0</td>\n",
              "      <td>0</td>\n",
              "      <td>0</td>\n",
              "      <td>negative</td>\n",
              "      <td>female</td>\n",
              "      <td>Other</td>\n",
              "    </tr>\n",
              "    <tr>\n",
              "      <th>2</th>\n",
              "      <td>2020-04-30</td>\n",
              "      <td>0</td>\n",
              "      <td>1</td>\n",
              "      <td>0</td>\n",
              "      <td>0</td>\n",
              "      <td>0</td>\n",
              "      <td>negative</td>\n",
              "      <td>male</td>\n",
              "      <td>Other</td>\n",
              "    </tr>\n",
              "    <tr>\n",
              "      <th>3</th>\n",
              "      <td>2020-04-30</td>\n",
              "      <td>1</td>\n",
              "      <td>0</td>\n",
              "      <td>0</td>\n",
              "      <td>0</td>\n",
              "      <td>0</td>\n",
              "      <td>negative</td>\n",
              "      <td>female</td>\n",
              "      <td>Other</td>\n",
              "    </tr>\n",
              "    <tr>\n",
              "      <th>4</th>\n",
              "      <td>2020-04-30</td>\n",
              "      <td>1</td>\n",
              "      <td>0</td>\n",
              "      <td>0</td>\n",
              "      <td>0</td>\n",
              "      <td>0</td>\n",
              "      <td>negative</td>\n",
              "      <td>male</td>\n",
              "      <td>Other</td>\n",
              "    </tr>\n",
              "  </tbody>\n",
              "</table>\n",
              "</div>"
            ],
            "text/plain": [
              "    test_date cough fever  ... corona_result  gender test_indication\n",
              "0  2020-04-30     0     0  ...      negative  female           Other\n",
              "1  2020-04-30     1     0  ...      negative  female           Other\n",
              "2  2020-04-30     0     1  ...      negative    male           Other\n",
              "3  2020-04-30     1     0  ...      negative  female           Other\n",
              "4  2020-04-30     1     0  ...      negative    male           Other\n",
              "\n",
              "[5 rows x 9 columns]"
            ]
          },
          "metadata": {},
          "execution_count": 10
        }
      ]
    },
    {
      "cell_type": "code",
      "metadata": {
        "id": "WvTrB-PsMrOv"
      },
      "source": [
        "# max_training_date = cdf[cdf < 0.60].index.max()\n",
        "# training_data = df[df['test_date'] <= max_training_date]\n",
        "\n",
        "# min_test_date = cdf[cdf > 0.80].index.min()\n",
        "# test_data = df[df['test_date'] >= min_test_date]\n",
        "\n",
        "# valid_data = df[(max_training_date < df['test_date']) & (df['test_date'] < min_test_date)]\n",
        "\n",
        "# print(\"# of observations in training dataset\", training_data.shape[0])\n",
        "# print(\"# of observations in validation dataset\", valid_data.shape[0])\n",
        "# print(\"# of observations in test dataset\", test_data.shape[0])\n",
        "\n",
        "# New split\n",
        "df['test_date'] = pd.to_datetime(df['test_date'])\n",
        "df = df[df['corona_result'].isin(['positive', 'negative'])]\n",
        "df = df[df['test_date'] >= '2020-3-22']\n",
        "\n",
        "\n",
        "date_counts = df.groupby(['test_date']).count()['gender'] # take count of any column. They will all be same.\n",
        "date_counts = date_counts.sort_index()\n",
        "n_obs = df.shape[0]\n",
        "cum_counts = date_counts.cumsum()\n",
        "cdf = cum_counts / n_obs\n",
        "\n",
        "max_training_date = cdf[cdf < 0.8*0.8].index.max()\n",
        "training_data = df[df['test_date'] <= max_training_date]\n",
        "\n",
        "min_test_date = cdf[cdf > 0.8].index.min()\n",
        "test_data = df[df['test_date'] >= min_test_date]\n",
        "valid_data = df[(max_training_date < df['test_date']) & (df['test_date'] < min_test_date)]\n",
        "\n"
      ],
      "execution_count": null,
      "outputs": []
    },
    {
      "cell_type": "code",
      "metadata": {
        "id": "nuc1nZ8eQK2q"
      },
      "source": [
        "# # Data Cleaning\n",
        "# def normalise(x):\n",
        "#   if type(x) == str:\n",
        "#     return int(x) if x != \"None\" else 2\n",
        "#   return x\n",
        "\n",
        "# symptoms = [\"cough\",\"fever\",\"sore_throat\",\"shortness_of_breath\",\"head_ache\"]\n",
        "# categorical = [\"age_60_and_above\",\"gender\",\"test_indication\"]\n",
        "\n",
        "# #Clean inconsitent datatypes within symptom columns\n",
        "# for col in symptoms:\n",
        "#   df.loc[:, col] = df[col].apply(normalise)\n",
        "\n",
        "# X = df.drop(\"test_date\",axis=1)\n",
        "# y = X[\"corona_result\"]\n",
        "\n",
        "# #New split off training data and then split the remaining into validation and test\n",
        "# training_data, X_rem, y_train, y_rem = train_test_split(X, y, test_size=0.33, random_state=42, stratify=y)\n",
        "# valid_data, test_data, y_valid, y_test = train_test_split(X_rem, y_rem, test_size=0.5, random_state=42, stratify=y_rem)\n"
      ],
      "execution_count": null,
      "outputs": []
    },
    {
      "cell_type": "markdown",
      "metadata": {
        "id": "J-xJrSsa5_Lz"
      },
      "source": [
        "**NOTE:**\n",
        "It is **extremely important** that you do not use the test dataset in the model building phase. \n",
        "While building models, it is required to tune the hyperparameter, adjust assumptions, modify features, etc. \n",
        "This should be done on the validation dataset. \n",
        "After several such iterations on the validation dataset, you will pick a model with the best performace as your final model. \n",
        "\n",
        "A test dataset is used to measure the final model's performance, which is a proxy for how it will perform (or generalize) in real life. \n",
        "Thus, to have a proper measure of model's genearalization, test dataset should not be part of your model building process. "
      ]
    },
    {
      "cell_type": "markdown",
      "metadata": {
        "id": "W86CzZGp_rOd"
      },
      "source": [
        "# Exploratory Data Analysis\n",
        "\n",
        "In this section, we will see the general statistics of features.\n",
        "In doing so, we will encounter inconsistencies in the data and address them accordingly. \n",
        "\n",
        "\n",
        "\n",
        "\n",
        "\n"
      ]
    },
    {
      "cell_type": "code",
      "metadata": {
        "colab": {
          "base_uri": "https://localhost:8080/"
        },
        "id": "jx1mMFLQEMdS",
        "outputId": "775ba18c-6e79-4893-f553-25eb72eedeb5"
      },
      "source": [
        "# We want to predict 'corona_result'. \n",
        "# We will not use \"test_date\" as a feature. \n",
        "# So we narrow down the input features to this list \n",
        "INPUT_FEATURES = ['cough', 'fever', 'sore_throat', 'shortness_of_breath', 'head_ache', 'gender', 'test_indication']\n",
        "TARGET_COLUMN = 'corona_result'\n",
        "\n",
        "for col in INPUT_FEATURES:\n",
        "  print(\"*\"*25, f\" {col} \", \"*\"*25)\n",
        "  print(training_data[col].value_counts())\n",
        "\n",
        "for col in INPUT_FEATURES:\n",
        "  print(\"*\"*25, f\" {col} \", \"*\"*25)\n",
        "  print(training_data[col].value_counts())"
      ],
      "execution_count": null,
      "outputs": [
        {
          "output_type": "stream",
          "name": "stdout",
          "text": [
            "*************************  cough  *************************\n",
            "0       107926\n",
            "0        25942\n",
            "1        23875\n",
            "1         5776\n",
            "None       241\n",
            "Name: cough, dtype: int64\n",
            "*************************  fever  *************************\n",
            "0       119595\n",
            "0        29084\n",
            "1        12205\n",
            "1         2634\n",
            "None       242\n",
            "Name: fever, dtype: int64\n",
            "*************************  sore_throat  *************************\n",
            "0    159371\n",
            "0      2906\n",
            "1      1440\n",
            "1        43\n",
            "Name: sore_throat, dtype: int64\n",
            "*************************  shortness_of_breath  *************************\n",
            "0    159778\n",
            "0      2915\n",
            "1      1033\n",
            "1        34\n",
            "Name: shortness_of_breath, dtype: int64\n",
            "*************************  head_ache  *************************\n",
            "0    158788\n",
            "0      2881\n",
            "1      2023\n",
            "1        68\n",
            "Name: head_ache, dtype: int64\n",
            "*************************  gender  *************************\n",
            "male      80114\n",
            "female    79677\n",
            "None       3969\n",
            "Name: gender, dtype: int64\n",
            "*************************  test_indication  *************************\n",
            "Other                     138007\n",
            "Abroad                     17657\n",
            "Contact with confirmed      8096\n",
            "Name: test_indication, dtype: int64\n",
            "*************************  cough  *************************\n",
            "0       107926\n",
            "0        25942\n",
            "1        23875\n",
            "1         5776\n",
            "None       241\n",
            "Name: cough, dtype: int64\n",
            "*************************  fever  *************************\n",
            "0       119595\n",
            "0        29084\n",
            "1        12205\n",
            "1         2634\n",
            "None       242\n",
            "Name: fever, dtype: int64\n",
            "*************************  sore_throat  *************************\n",
            "0    159371\n",
            "0      2906\n",
            "1      1440\n",
            "1        43\n",
            "Name: sore_throat, dtype: int64\n",
            "*************************  shortness_of_breath  *************************\n",
            "0    159778\n",
            "0      2915\n",
            "1      1033\n",
            "1        34\n",
            "Name: shortness_of_breath, dtype: int64\n",
            "*************************  head_ache  *************************\n",
            "0    158788\n",
            "0      2881\n",
            "1      2023\n",
            "1        68\n",
            "Name: head_ache, dtype: int64\n",
            "*************************  gender  *************************\n",
            "male      80114\n",
            "female    79677\n",
            "None       3969\n",
            "Name: gender, dtype: int64\n",
            "*************************  test_indication  *************************\n",
            "Other                     138007\n",
            "Abroad                     17657\n",
            "Contact with confirmed      8096\n",
            "Name: test_indication, dtype: int64\n"
          ]
        }
      ]
    },
    {
      "cell_type": "code",
      "metadata": {
        "id": "MIExwVBbQbqR"
      },
      "source": [
        "def normalize(x):\n",
        "  \"\"\"\n",
        "  Normalizes the input to integer type. It maps \"None\" to 2.\n",
        "\n",
        "  Args:\n",
        "    x (int or str): input to be normalized \n",
        "  \n",
        "  Returns:\n",
        "    (int): normalized input\n",
        "  \"\"\"\n",
        "  if type(x) == str:\n",
        "    return int(x) if x != \"None\" else 2\n",
        "  return x"
      ],
      "execution_count": null,
      "outputs": []
    },
    {
      "cell_type": "code",
      "metadata": {
        "colab": {
          "base_uri": "https://localhost:8080/"
        },
        "id": "sPyR1DbpMRhC",
        "outputId": "d60d03d9-21a7-4e54-cff2-dd28aee9a1db"
      },
      "source": [
        "for col in ['cough', 'fever', 'sore_throat', 'shortness_of_breath', 'head_ache']:\n",
        "  training_data.loc[:, col] = training_data[col].apply(normalize)"
      ],
      "execution_count": null,
      "outputs": [
        {
          "output_type": "stream",
          "name": "stderr",
          "text": [
            "/usr/local/lib/python3.7/dist-packages/pandas/core/indexing.py:1743: SettingWithCopyWarning: \n",
            "A value is trying to be set on a copy of a slice from a DataFrame.\n",
            "Try using .loc[row_indexer,col_indexer] = value instead\n",
            "\n",
            "See the caveats in the documentation: https://pandas.pydata.org/pandas-docs/stable/user_guide/indexing.html#returning-a-view-versus-a-copy\n",
            "  isetter(ilocs[0], value)\n"
          ]
        }
      ]
    },
    {
      "cell_type": "code",
      "metadata": {
        "colab": {
          "base_uri": "https://localhost:8080/",
          "height": 846
        },
        "id": "Wupl99CuMXJx",
        "outputId": "1abfb935-da44-4aaa-cf08-d93270ec09dc"
      },
      "source": [
        "nrows = 2\n",
        "ncols = math.ceil(len(INPUT_FEATURES) / nrows)\n",
        "fig, axs = plt.subplots(nrows=nrows, ncols=ncols, figsize=(15, 10), dpi=100, sharey=True)\n",
        "\n",
        "colormap = {\"positive\": \"#BDD9BF\", \"negative\": \"#A997DF\"}\n",
        "\n",
        "for i, col in enumerate(INPUT_FEATURES):\n",
        "  ax = axs[i % 2][i // 2]\n",
        "  counts = training_data[col].value_counts()\n",
        "\n",
        "  # counts for positive results\n",
        "  pos_prob = training_data[training_data[TARGET_COLUMN] == 'positive'][col].value_counts() / sum(counts)\n",
        "\n",
        "  # counts for negative results\n",
        "  neg_prob = training_data[training_data[TARGET_COLUMN] == 'negative'][col].value_counts() / sum(counts)\n",
        "\n",
        "  # plot\n",
        "  pd.concat([pos_prob.rename('positive'), neg_prob.rename('negative')], axis=1).plot(kind=\"bar\", ax=ax, color=colormap)\n",
        "\n",
        "  # basic plot formatting\n",
        "  ax.set_title(col, fontsize=15)\n",
        "\n",
        "  # tick size\n",
        "  for tick in ax.xaxis.get_major_ticks():\n",
        "      tick.label.set_fontsize(15)\n",
        "      tick.label.set_rotation(0)\n",
        "      if tick.label.get_text() == \"Contact with confirmed\":\n",
        "        tick.label.set_rotation(90)\n",
        "\n",
        "  for tick in ax.yaxis.get_major_ticks():\n",
        "      tick.label.set_fontsize(15)\n"
      ],
      "execution_count": null,
      "outputs": [
        {
          "output_type": "display_data",
          "data": {
            "image/png": "[encoded data removed]",
            "text/plain": [
              "<Figure size 1500x1000 with 8 Axes>"
            ]
          },
          "metadata": {
            "needs_background": "light"
          }
        }
      ]
    },
    {
      "cell_type": "markdown",
      "metadata": {
        "id": "GzlrWWnrMdIg"
      },
      "source": [
        "Class imbalance - more negative obs than positive.\n",
        "Also bias in reporting of some symptoms\n"
      ]
    },
    {
      "cell_type": "markdown",
      "metadata": {
        "id": "P-bVRyzjR-dU"
      },
      "source": [
        "Here are the questions to guide you through the process of exploring data \n",
        "\n",
        "1.   Think about possible biases and limitations of this dataset\n",
        "2.   What is the format of feature values? Are there any inconsistencies? If so, how would you make them cosistent?\n",
        "3.   What is the statistics of these feature values? How many symptoms are reported or not?\n",
        "4.   Which symptoms have a reporting bias, i.e., likely to be reported when the patient is COVID positive? \n",
        "5.   How will the symptoms with reporting bias affect the model’s performance?\n",
        "6.   Visualization: Draw the bar graph of features grouped by the target class? \n",
        "7.   How does the bar graph of the symptoms with reporting bias looks like?\n",
        "8.   Determine if we have a class imbalance in the dataset? If so, what do you reckon will be the downstream challenges in evaluating the model? How will you overcome those challenges?\n",
        "9.   What does \"None\" value mean for feature? Should we include these features?"
      ]
    },
    {
      "cell_type": "markdown",
      "metadata": {
        "id": "mjvHg7waARBe"
      },
      "source": [
        "**Format of feature values**<br>\n",
        "Integer columns - some seem to be a mix of character and integer, we should make them all integer (1/0). <br>\n",
        "Character columns - age 60 and above (yes/no) can be transformed as dummy variables. <br>\n",
        "\n"
      ]
    },
    {
      "cell_type": "markdown",
      "metadata": {
        "id": "IQRohLR0R8wd"
      },
      "source": [
        "\n",
        "**GOOD PRACTICE**: To make your plots accessible to everyone, it is always a good idea to use colorblind-friendly palette for your plots. Check out [this](https://medium.com/cafe-pixo/inclusive-color-palettes-for-the-web-bbfe8cf2410e) for such a palette."
      ]
    },
    {
      "cell_type": "markdown",
      "metadata": {
        "id": "GLRMrojV__Se"
      },
      "source": [
        "# Feature Engineering\n",
        "\n",
        "In this section, we will transform the features that models can operate upon. Note that this transformation doesn't have to be unique. \n",
        "It is very much dependent on the type of model you are building. \n",
        "\n",
        "Here is the list of questions to guide your feature engineering task \n",
        "\n",
        "1.   How will you represent the features in numerical format that can be accessible by model? \n",
        "2.   Are there any redundancies in your feature representation?\n",
        "3.   How will you represent targets in a format accessible to the model?\n",
        "\n",
        "Check out [`sklearn`'s preprocessing library](https://scikit-learn.org/stable/modules/preprocessing.html) for easy-to-use functions to do this. "
      ]
    },
    {
      "cell_type": "code",
      "metadata": {
        "colab": {
          "base_uri": "https://localhost:8080/"
        },
        "id": "_uWP0a7lM0H5",
        "outputId": "cffcd829-a377-462b-ac61-0b1cfc8f7c51"
      },
      "source": [
        "encoder = OneHotEncoder()\n",
        "encoder.fit(training_data[INPUT_FEATURES]) \n",
        "\n",
        "# NOTE: encoder will transform features of training_data according to the ** column sequence specified by INPUT_FEATURES **. \n",
        "# ecoder will not know the labels of these features. It only looks at column and transforms them into several columns for each category in that column. The ordering is preserved. \n",
        "print(\"Encoded categories:\\n\")\n",
        "print(encoder.categories_) # what are the categories identified by the encoder\n",
        "\n",
        "print(\"\\nColumn names: \\n\")\n",
        "print(encoder.get_feature_names(input_features=INPUT_FEATURES)) # what are the names of these cateogories\n",
        "\n",
        "print(\"\\nInput data shape: \\n\")\n",
        "print(training_data.shape)\n",
        "\n",
        "print(\"\\nOne-hot encoded data shape: \\n\")\n",
        "print(encoder.transform(training_data[INPUT_FEATURES]).shape)"
      ],
      "execution_count": null,
      "outputs": [
        {
          "output_type": "stream",
          "name": "stdout",
          "text": [
            "Encoded categories:\n",
            "\n",
            "[array([0, 1, 2]), array([0, 1, 2]), array([0, 1]), array([0, 1]), array([0, 1]), array(['None', 'female', 'male'], dtype=object), array(['Abroad', 'Contact with confirmed', 'Other'], dtype=object)]\n",
            "\n",
            "Column names: \n",
            "\n",
            "['cough_0' 'cough_1' 'cough_2' 'fever_0' 'fever_1' 'fever_2'\n",
            " 'sore_throat_0' 'sore_throat_1' 'shortness_of_breath_0'\n",
            " 'shortness_of_breath_1' 'head_ache_0' 'head_ache_1' 'gender_None'\n",
            " 'gender_female' 'gender_male' 'test_indication_Abroad'\n",
            " 'test_indication_Contact with confirmed' 'test_indication_Other']\n",
            "\n",
            "Input data shape: \n",
            "\n",
            "(163760, 10)\n",
            "\n",
            "One-hot encoded data shape: \n",
            "\n",
            "(163760, 18)\n"
          ]
        }
      ]
    },
    {
      "cell_type": "code",
      "metadata": {
        "colab": {
          "base_uri": "https://localhost:8080/"
        },
        "id": "3w5TvrI_M3-q",
        "outputId": "2164b209-4ff1-41f3-e2f6-521652210ee7"
      },
      "source": [
        "encoder = OneHotEncoder(drop='first').fit(training_data[INPUT_FEATURES]) \n",
        "\n",
        "print(\"Encoded categories:\\n\")\n",
        "print(encoder.categories_) \n",
        "\n",
        "print(\"\\nColumn names: \\n\")\n",
        "print(encoder.get_feature_names(input_features=INPUT_FEATURES)) \n",
        "\n",
        "print(\"\\nInput data shape: \\n\")\n",
        "print(training_data.shape)\n",
        "\n",
        "print(\"\\nOne-hot encoded data shape: \\n\")\n",
        "print(encoder.transform(training_data[INPUT_FEATURES]).shape)\n",
        "\n",
        "print(\"\\nOne-hot encoded data (sparse format:  stores indices and values only for cells with non-zero values) : \\n\")\n",
        "print(encoder.transform(training_data[INPUT_FEATURES]))\n",
        "\n",
        "print(\"\\nOne-hot encoded data (dense format): \\n\")\n",
        "print(encoder.transform(training_data[INPUT_FEATURES]).todense())"
      ],
      "execution_count": null,
      "outputs": [
        {
          "output_type": "stream",
          "name": "stdout",
          "text": [
            "Encoded categories:\n",
            "\n",
            "[array([0, 1, 2]), array([0, 1, 2]), array([0, 1]), array([0, 1]), array([0, 1]), array(['None', 'female', 'male'], dtype=object), array(['Abroad', 'Contact with confirmed', 'Other'], dtype=object)]\n",
            "\n",
            "Column names: \n",
            "\n",
            "['cough_1' 'cough_2' 'fever_1' 'fever_2' 'sore_throat_1'\n",
            " 'shortness_of_breath_1' 'head_ache_1' 'gender_female' 'gender_male'\n",
            " 'test_indication_Contact with confirmed' 'test_indication_Other']\n",
            "\n",
            "Input data shape: \n",
            "\n",
            "(163760, 10)\n",
            "\n",
            "One-hot encoded data shape: \n",
            "\n",
            "(163760, 11)\n",
            "\n",
            "One-hot encoded data (sparse format:  stores indices and values only for cells with non-zero values) : \n",
            "\n",
            "  (0, 8)\t1.0\n",
            "  (0, 10)\t1.0\n",
            "  (1, 7)\t1.0\n",
            "  (1, 10)\t1.0\n",
            "  (2, 7)\t1.0\n",
            "  (2, 10)\t1.0\n",
            "  (3, 8)\t1.0\n",
            "  (3, 10)\t1.0\n",
            "  (4, 8)\t1.0\n",
            "  (4, 10)\t1.0\n",
            "  (5, 7)\t1.0\n",
            "  (5, 10)\t1.0\n",
            "  (6, 8)\t1.0\n",
            "  (6, 10)\t1.0\n",
            "  (7, 7)\t1.0\n",
            "  (7, 10)\t1.0\n",
            "  (8, 7)\t1.0\n",
            "  (8, 10)\t1.0\n",
            "  (9, 7)\t1.0\n",
            "  (9, 10)\t1.0\n",
            "  (10, 7)\t1.0\n",
            "  (10, 10)\t1.0\n",
            "  (11, 8)\t1.0\n",
            "  (11, 10)\t1.0\n",
            "  (12, 8)\t1.0\n",
            "  :\t:\n",
            "  (163752, 4)\t1.0\n",
            "  (163752, 5)\t1.0\n",
            "  (163752, 7)\t1.0\n",
            "  (163752, 10)\t1.0\n",
            "  (163753, 5)\t1.0\n",
            "  (163753, 7)\t1.0\n",
            "  (163754, 0)\t1.0\n",
            "  (163754, 4)\t1.0\n",
            "  (163754, 7)\t1.0\n",
            "  (163755, 0)\t1.0\n",
            "  (163755, 2)\t1.0\n",
            "  (163755, 7)\t1.0\n",
            "  (163756, 0)\t1.0\n",
            "  (163756, 2)\t1.0\n",
            "  (163756, 4)\t1.0\n",
            "  (163756, 6)\t1.0\n",
            "  (163756, 7)\t1.0\n",
            "  (163757, 0)\t1.0\n",
            "  (163757, 7)\t1.0\n",
            "  (163758, 0)\t1.0\n",
            "  (163758, 8)\t1.0\n",
            "  (163758, 10)\t1.0\n",
            "  (163759, 0)\t1.0\n",
            "  (163759, 8)\t1.0\n",
            "  (163759, 10)\t1.0\n",
            "\n",
            "One-hot encoded data (dense format): \n",
            "\n",
            "[[0. 0. 0. ... 1. 0. 1.]\n",
            " [0. 0. 0. ... 0. 0. 1.]\n",
            " [0. 0. 0. ... 0. 0. 1.]\n",
            " ...\n",
            " [1. 0. 0. ... 0. 0. 0.]\n",
            " [1. 0. 0. ... 1. 0. 1.]\n",
            " [1. 0. 0. ... 1. 0. 1.]]\n"
          ]
        }
      ]
    },
    {
      "cell_type": "code",
      "metadata": {
        "colab": {
          "base_uri": "https://localhost:8080/"
        },
        "id": "bTbvGp5dM8gp",
        "outputId": "c9d20806-bc09-49ba-87a6-6d9b0b09a208"
      },
      "source": [
        "lb = LabelBinarizer()\n",
        "lb.fit(training_data['corona_result'])\n",
        "\n",
        "print(\"What are the classes identified by LabelBinarizer?\")\n",
        "print(lb.classes_)\n",
        "\n",
        "print(\"\\nHow are these classes represeted?\")\n",
        "print(lb.get_params())\n",
        "\n",
        "print(\"\\nHow will the transformed training targets look like?\")\n",
        "print(\"\\nBefore transformation:\")\n",
        "print(np.array(training_data[TARGET_COLUMN].tolist()))\n",
        "print(\"\\nAfter transformation\")\n",
        "print(lb.transform(training_data[TARGET_COLUMN]).flatten()) # use .flatten() to convert the array into a 1D array because we have binary labels."
      ],
      "execution_count": null,
      "outputs": [
        {
          "output_type": "stream",
          "name": "stdout",
          "text": [
            "What are the classes identified by LabelBinarizer?\n",
            "['negative' 'positive']\n",
            "\n",
            "How are these classes represeted?\n",
            "{'neg_label': 0, 'pos_label': 1, 'sparse_output': False}\n",
            "\n",
            "How will the transformed training targets look like?\n",
            "\n",
            "Before transformation:\n",
            "['negative' 'negative' 'negative' ... 'negative' 'negative' 'negative']\n",
            "\n",
            "After transformation\n",
            "[0 0 0 ... 0 0 0]\n"
          ]
        }
      ]
    },
    {
      "cell_type": "code",
      "metadata": {
        "id": "cGLQMUmWWKch"
      },
      "source": [
        "def preprocess(data, encoder, lb):\n",
        "  \"\"\"\n",
        "  Transforms `data` into format required for model building\n",
        "\n",
        "  Args:\n",
        "    data (pd.DataFrame): dataframe with columns `INPUT_FEAUTURES` and `TARGET_COLUMN`\n",
        "    encoder (sklearn.preprocessing.OneHotEncoder): A fitted OneHotEncoder to be used to transform `INPUT_FEATURES`\n",
        "    lb (sklearn.preprocessing.LabelBinarizer): A fitted LabelBinarizer to be used to transform `TARGET_COLUMN`\n",
        "  \n",
        "  Returns:\n",
        "    model_input (np.array): each row is an observation, columns are one-hot encoded features of `INPUT_FEATURES`\n",
        "    model_target (np.array): 1D array with 1 where `TARGET_COLUMN` is \"positive\" and 0 otherwise.\n",
        "  \"\"\"\n",
        "\n",
        "  x = encoder.transform(data[INPUT_FEATURES]).todense()\n",
        "  y = lb.transform(data[TARGET_COLUMN]).flatten() \n",
        "\n",
        "  return x, y"
      ],
      "execution_count": null,
      "outputs": []
    },
    {
      "cell_type": "code",
      "metadata": {
        "id": "07-cYyXa7Kb1"
      },
      "source": [
        "# def preprocess_hack(data):\n",
        "#   df_features = data.drop('test_date',axis=1).copy()\n",
        "#   symptoms = ['cough','fever','sore_throat','shortness_of_breath','head_ache']\n",
        "#   categorical = ['age_60_and_above','gender','test_indication','corona_result']\n",
        "#   #preprocess symptoms - replace None with 0 and cast column as integer\n",
        "#   for col in symptoms:\n",
        "#       df_features[col].replace('None', 2, inplace=True) # 2\n",
        "#       df_features[col] = df_features[col].astype(np.uint8)\n",
        "#   #preprocess categorical columns - OneHotEncode using get_dummies\n",
        "#   for col in categorical:\n",
        "#       tempdf = pd.get_dummies(df_features[col], prefix=col)\n",
        "#       df_features = pd.merge(\n",
        "#           left=df_features,\n",
        "#           right=tempdf,\n",
        "#           left_index=True,\n",
        "#           right_index=True,\n",
        "#       )\n",
        "#       df_features = df_features.drop(columns=col)\n",
        "#   df_features = df_features.drop(columns=['age_60_and_above_No','age_60_and_above_None',\n",
        "#                                           'gender_None','gender_female',\n",
        "#                                           'corona_result_negative',\n",
        "#                                           'test_indication_Abroad',\n",
        "#                                           'test_indication_Other'])\n",
        "#   return df_features\n",
        "\n",
        "# X = preprocess_hack(df)\n",
        "# y = X['corona_result_positive']\n",
        "# X = X.drop('corona_result_positive',axis=1)\n",
        "\n",
        "\n",
        "#value/uniques in test/valid"
      ],
      "execution_count": null,
      "outputs": []
    },
    {
      "cell_type": "markdown",
      "metadata": {
        "id": "5N6PYvo8NUuE"
      },
      "source": [
        "# Model building\n",
        "\n",
        "In this section, we will build various classifiers using `sklearn`. You do not have to restrict yourself to `sklearn`. Please feel free to use any other library.\n",
        "\n",
        "**TRY:**  Try various classifiers that you have learned so far.\n",
        "Here is the list of models to try :\n",
        "\n",
        "*  Logistic Regssion: [User Guide](https://scikit-learn.org/stable/modules/linear_model.html#logistic-regression). [API](https://scikit-learn.org/stable/modules/generated/sklearn.linear_model.LogisticRegression.html).\n",
        "*   Decision Trees: [User Guide](https://scikit-learn.org/stable/modules/tree.html#classification). [API](https://scikit-learn.org/stable/modules/generated/sklearn.tree.DecisionTreeClassifier.html#sklearn.tree.DecisionTreeClassifier). You can head down in the User Guide to [other Tree algorithms](https://scikit-learn.org/stable/modules/tree.html#tree-algorithms-id3-c4-5-c5-0-and-cart) if you fancy. \n",
        "*   Categorical Naive Bayes.[User Guide](https://scikit-learn.org/stable/modules/naive_bayes.html#categorical-naive-bayes). [API](https://scikit-learn.org/stable/modules/generated/sklearn.naive_bayes.CategoricalNB.html#sklearn.naive_bayes.CategoricalNB)\n",
        "*   Linear Discriminant Analysis. [User Guide](https://scikit-learn.org/stable/modules/lda_qda.html#). [API](https://scikit-learn.org/stable/modules/generated/sklearn.discriminant_analysis.LinearDiscriminantAnalysis.html#sklearn.discriminant_analysis.LinearDiscriminantAnalysis)\n",
        "*   Quadratic Discriminant Analysis. [User Guide](https://scikit-learn.org/stable/modules/lda_qda.html#). [API](https://scikit-learn.org/stable/modules/generated/sklearn.discriminant_analysis.QuadraticDiscriminantAnalysis.html#sklearn.discriminant_analysis.QuadraticDiscriminantAnalysis)\n",
        "*   Support Vector Machines. [User Guide](https://scikit-learn.org/stable/modules/svm.html#classification). [API](https://scikit-learn.org/stable/modules/generated/sklearn.svm.SVC.html#sklearn.svm.SVC)\n",
        "*   Nearest neighbors classification. [User Guide](https://scikit-learn.org/stable/modules/neighbors.html#nearest-neighbors-classification). [API](https://scikit-learn.org/stable/modules/generated/sklearn.neighbors.KNeighborsClassifier.html#sklearn.neighbors.KNeighborsClassifier)\n",
        "*   Neural networks - Multi-layer Perceptron (MLP). [User Guide](https://scikit-learn.org/stable/modules/neural_networks_supervised.html#multi-layer-perceptron). [API](https://scikit-learn.org/stable/modules/generated/sklearn.neural_network.MLPClassifier.html#sklearn.neural_network.MLPClassifier)\n",
        "\n"
      ]
    },
    {
      "cell_type": "code",
      "metadata": {
        "colab": {
          "base_uri": "https://localhost:8080/"
        },
        "id": "NJAtsEfGUXNu",
        "outputId": "625c34db-17f0-44a2-b9aa-e089b86e075f"
      },
      "source": [
        ""
      ],
      "execution_count": null,
      "outputs": [
        {
          "output_type": "execute_result",
          "data": {
            "text/plain": [
              "matrix([[0., 0., 0., ..., 1., 0., 1.],\n",
              "        [0., 0., 0., ..., 1., 0., 1.],\n",
              "        [0., 0., 0., ..., 1., 0., 1.],\n",
              "        ...,\n",
              "        [0., 0., 0., ..., 0., 0., 1.],\n",
              "        [0., 0., 0., ..., 0., 1., 0.],\n",
              "        [0., 0., 0., ..., 0., 0., 1.]])"
            ]
          },
          "metadata": {},
          "execution_count": 82
        }
      ]
    },
    {
      "cell_type": "code",
      "metadata": {
        "id": "G-SrolsD3vLu"
      },
      "source": [
        "# Logistic Regression\n",
        "from sklearn.metrics import classification_report\n",
        "X_train, Y_train = preprocess(training_data, encoder, lb)\n",
        "X_val, Y_val= preprocess(valid_data, encoder, lb)\n",
        "\n",
        "model = LogisticRegression(max_iter=200) # had to increase max iterations as it was failing to converge.\n",
        "model.fit(X_train, Y_train)\n",
        "y_pred = model.predict(X_val)\n"
      ],
      "execution_count": null,
      "outputs": []
    },
    {
      "cell_type": "code",
      "metadata": {
        "colab": {
          "base_uri": "https://localhost:8080/"
        },
        "id": "EDPFpYP3ujCh",
        "outputId": "1178bd19-a849-493b-e7aa-a61593f6ecfc"
      },
      "source": [
        "print(classification_report(Y_val, y_pred)) # really good for predicting 0, not so good for predicting 1"
      ],
      "execution_count": null,
      "outputs": [
        {
          "output_type": "stream",
          "name": "stdout",
          "text": [
            "              precision    recall  f1-score   support\n",
            "\n",
            "           0       0.98      1.00      0.99     35696\n",
            "           1       0.74      0.36      0.48       974\n",
            "\n",
            "    accuracy                           0.98     36670\n",
            "   macro avg       0.86      0.68      0.74     36670\n",
            "weighted avg       0.98      0.98      0.98     36670\n",
            "\n"
          ]
        }
      ]
    },
    {
      "cell_type": "markdown",
      "metadata": {
        "id": "MJqfnwaXsj0H"
      },
      "source": [
        "NAIVE BAYES CLASSIFIERS\n",
        "Generative classifier:\n",
        "Naive Bayes tries to model probability a point belongs to class   if it has value \n",
        "Allows us to sample a value   for class   using the underlying probability distribution -\n",
        "\"generate data\"\n",
        "Strong assumption of independence between features"
      ]
    },
    {
      "cell_type": "code",
      "metadata": {
        "colab": {
          "base_uri": "https://localhost:8080/"
        },
        "id": "pxbsNgnX-7HJ",
        "outputId": "53f0c58f-c052-46ca-91d3-2375f9a01766"
      },
      "source": [
        "# Categorical Naive Bayes\n",
        "from sklearn.naive_bayes import CategoricalNB\n",
        "from sklearn import metrics\n",
        "cnb = CategoricalNB()\n",
        "cnb.fit(X_train, Y_train)\n",
        "y_pred_cnb = cnb.predict(X_val)\n",
        "metrics.accuracy_score(Y_val, y_pred_cnb)"
      ],
      "execution_count": null,
      "outputs": [
        {
          "output_type": "execute_result",
          "data": {
            "text/plain": [
              "0.9332424325061358"
            ]
          },
          "metadata": {},
          "execution_count": 30
        }
      ]
    },
    {
      "cell_type": "code",
      "metadata": {
        "colab": {
          "base_uri": "https://localhost:8080/"
        },
        "id": "yZ5rPpfDraqb",
        "outputId": "2b22431a-5576-4465-9e4e-fce2f79ad3da"
      },
      "source": [
        "# KNN\n",
        "from sklearn.neighbors import KNeighborsClassifier\n",
        "from sklearn.model_selection import GridSearchCV\n",
        "from sklearn.model_selection import RepeatedStratifiedKFold\n",
        "knn = KNeighborsClassifier(n_neighbors=5)\n",
        "knn.fit(X_train, Y_train)\n",
        "y_pred_knn = knn.predict(X_val)\n",
        "metrics.accuracy_score(Y_val, y_pred_knn)"
      ],
      "execution_count": null,
      "outputs": [
        {
          "output_type": "execute_result",
          "data": {
            "text/plain": [
              "0.9830651758931006"
            ]
          },
          "metadata": {},
          "execution_count": 31
        }
      ]
    },
    {
      "cell_type": "code",
      "metadata": {
        "id": "Apa5jpyg01ti"
      },
      "source": [
        ""
      ],
      "execution_count": null,
      "outputs": []
    },
    {
      "cell_type": "code",
      "metadata": {
        "id": "nu6Zw5knjp_2"
      },
      "source": [
        "# Function to evaluate a model and get ROC curve\n",
        "def evaluate(model, X, Y):\n",
        "  \"\"\"\n",
        "  Returns the AUC-ROC for `model` as evaluated on (X, Y)\n",
        "\n",
        "  Args:\n",
        "    model (): Any model that has a function predict_proba and returns probability for each row in `X`.\n",
        "    X (np.array): Input to the model containing feature values\n",
        "    Y (np.array): 1D array containing true class i.e. 0 or 1\n",
        "  \n",
        "  Returns:\n",
        "    (float): AUC ROC for the model\n",
        "  \"\"\"\n",
        "  y_score = model.predict_proba(X) # (n_samples, n_clases) with each value being the probability of being in that class\n",
        "  return roc_auc_score(y_true=Y, y_score=y_score[:, 1])\n",
        "  "
      ],
      "execution_count": null,
      "outputs": []
    },
    {
      "cell_type": "code",
      "metadata": {
        "id": "L1B1lZPklRMu"
      },
      "source": [
        "def roc_plot(model, X, Y):\n",
        "  # plot\n",
        "  fig, ax = plt.subplots(nrows=1, ncols=1, figsize=(5,5), dpi=100)\n",
        "  plot_roc_curve(model, X, Y, ax=ax, color=\"#2E4052\")\n",
        "\n",
        "  # formatting \n",
        "  ax.plot(np.arange(0,1, 0.01), np.arange(0, 1, 0.01), color=\"#2E4052\", linestyle=\"-.\") # reference line\n",
        "  ax.set_xlim(0, 1)\n",
        "  ax.set_ylim(0, 1)\n",
        "  _ = ax.set_title(\"Receiver Operating Characteristics\", fontsize=15)\n",
        "  return plot_roc_curve(model, X, Y, ax=ax, color=\"#2E4052\")"
      ],
      "execution_count": null,
      "outputs": []
    },
    {
      "cell_type": "code",
      "metadata": {
        "colab": {
          "base_uri": "https://localhost:8080/",
          "height": 516
        },
        "id": "H7aHjL3dnRRi",
        "outputId": "8660ec9b-ea2a-4e16-85f7-a06d08199bce"
      },
      "source": [
        "print(\"Logistic Regression:\", evaluate(model, X_val, Y_val))\n",
        "roc_plot(model, X_val, Y_val)"
      ],
      "execution_count": null,
      "outputs": [
        {
          "output_type": "stream",
          "name": "stdout",
          "text": [
            "Logistic Regression: 0.8341999132303173\n"
          ]
        },
        {
          "output_type": "execute_result",
          "data": {
            "text/plain": [
              "<sklearn.metrics._plot.roc_curve.RocCurveDisplay at 0x7fe95466d250>"
            ]
          },
          "metadata": {},
          "execution_count": 34
        },
        {
          "output_type": "display_data",
          "data": {
            "image/png": "[encoded data removed]",
            "text/plain": [
              "<Figure size 500x500 with 1 Axes>"
            ]
          },
          "metadata": {
            "needs_background": "light"
          }
        }
      ]
    },
    {
      "cell_type": "code",
      "metadata": {
        "colab": {
          "base_uri": "https://localhost:8080/",
          "height": 516
        },
        "id": "AdnYAg6ymtoT",
        "outputId": "b5ca3568-bb70-4610-eaa8-706c47c8552e"
      },
      "source": [
        "print(\"Naive Bayes:\", evaluate(cnb, X_val, Y_val))\n",
        "roc_plot(cnb, X_val, Y_val)\n"
      ],
      "execution_count": null,
      "outputs": [
        {
          "output_type": "stream",
          "name": "stdout",
          "text": [
            "Naive Bayes: 0.8222451229731882\n"
          ]
        },
        {
          "output_type": "execute_result",
          "data": {
            "text/plain": [
              "<sklearn.metrics._plot.roc_curve.RocCurveDisplay at 0x7fe954614a10>"
            ]
          },
          "metadata": {},
          "execution_count": 35
        },
        {
          "output_type": "display_data",
          "data": {
            "image/png": "[encoded data removed]",
            "text/plain": [
              "<Figure size 500x500 with 1 Axes>"
            ]
          },
          "metadata": {
            "needs_background": "light"
          }
        }
      ]
    },
    {
      "cell_type": "code",
      "metadata": {
        "colab": {
          "base_uri": "https://localhost:8080/"
        },
        "id": "1asF9wGS08AS",
        "outputId": "0374c1fd-64ae-452d-f97e-895fe8c3d2e4"
      },
      "source": [
        "print(\"KNN:\", evaluate(knn, X_val, Y_val))"
      ],
      "execution_count": null,
      "outputs": [
        {
          "output_type": "stream",
          "name": "stdout",
          "text": [
            "KNN: 0.7960430689178157\n"
          ]
        }
      ]
    },
    {
      "cell_type": "markdown",
      "metadata": {
        "id": "bZSS0TyANfG1"
      },
      "source": [
        "# Evaluate Model\n",
        "\n",
        "In this section, we will evaluate our model's performance on the validation dataset. \n",
        "\n",
        "Here are the list of questions to think about while deciding how to evaluate your model - \n",
        "*   Is accuracy the right metric to evaluate the model? Are inaccuracies correctly penalized in the accuracy metric?\n",
        "*  Would you think that the cost of false negative is more than the false positive? Is it dependent on the application?\n",
        "*  Which metric will minimize false negatives and false positives?\n",
        "*   Which dataset should you chose to evaluate the model? Validation or Test?\n",
        "What other metric is relevant in our context?  \n",
        "\n",
        "For benchmarking everyone’s results we will stick to ROC AUC score as a metric. \n",
        "There are standard functions to compute these scores in `sklearn`, so we will use them. \n",
        "Specifically, we will be using [`roc_auc_score`](https://scikit-learn.org/stable/modules/generated/sklearn.metrics.roc_auc_score.html#sklearn.metrics.roc_auc_score) and [`plot_roc_curve`](https://scikit-learn.org/stable/modules/generated/sklearn.metrics.plot_roc_curve.html).\n"
      ]
    },
    {
      "cell_type": "markdown",
      "metadata": {
        "id": "6n0jr-EekESj"
      },
      "source": [
        "# Hyperparameter Search\n",
        "\n",
        "In this section we will be searching for the best parameters to build our models. \n",
        "This is where we will use our validation dataset. \n",
        "\n",
        "\n"
      ]
    },
    {
      "cell_type": "markdown",
      "metadata": {
        "id": "uqSd5Bo3chPT"
      },
      "source": [
        "Hyperparameter search can become messy if you have lots of paramters. \n",
        "A brute force method to do such a search will be to do a grid search to fit tons of models. \n",
        "Thus, a smarter way to do hyperparameter search has been the subject of research. \n",
        "\n",
        "**TRY:** If interested, read [here](https://scikit-learn.org/stable/modules/grid_search.html) for more details and incorporate some of those ideas in the model building process. "
      ]
    },
    {
      "cell_type": "code",
      "metadata": {
        "colab": {
          "base_uri": "https://localhost:8080/"
        },
        "id": "QwZeCAyEqcAr",
        "outputId": "d610b922-ae63-4404-8693-090bb8d6393f"
      },
      "source": [
        "from sklearn.model_selection import GridSearchCV\n",
        "from sklearn.model_selection import RepeatedStratifiedKFold\n",
        "# Logistic Regression\n",
        "solvers = ['newton-cg']\n",
        "penalty = ['l2']\n",
        "c_values = [1.0, 0.1, 0.01]\n",
        "grid = dict(solver=solvers,penalty=penalty,C=c_values)\n",
        "cv = RepeatedStratifiedKFold(n_splits=5, n_repeats=3, random_state=1)\n",
        "grid_search = GridSearchCV(estimator=model, param_grid=grid, n_jobs=-1, cv=cv, scoring='accuracy',error_score=0)\n",
        "\n",
        "grid_result = grid_search.fit(X_train, Y_train)\n",
        "\n",
        "grid_result.predict(X_val)"
      ],
      "execution_count": null,
      "outputs": [
        {
          "output_type": "execute_result",
          "data": {
            "text/plain": [
              "array([0, 0, 0, ..., 0, 0, 1])"
            ]
          },
          "metadata": {},
          "execution_count": 36
        }
      ]
    },
    {
      "cell_type": "code",
      "metadata": {
        "colab": {
          "base_uri": "https://localhost:8080/"
        },
        "id": "twMKcdUbWApx",
        "outputId": "8e6c1bd3-185e-4c8f-bf4f-bd1b3210f341"
      },
      "source": [
        "print('Best p:', grid_result.best_estimator_.get_params())\n",
        "# Best p: {'C': 0.1, 'class_weight': None, 'dual': False, 'fit_intercept': True, 'intercept_scaling': 1, 'l1_ratio': None, 'max_iter': 200, 'multi_class': 'auto', 'n_jobs': None, 'penalty': 'l2', 'random_state': None, 'solver': 'newton-cg', 'tol': 0.0001, 'verbose': 0, 'warm_start': False}"
      ],
      "execution_count": null,
      "outputs": [
        {
          "output_type": "stream",
          "name": "stdout",
          "text": [
            "Best p: {'C': 1.0, 'class_weight': None, 'dual': False, 'fit_intercept': True, 'intercept_scaling': 1, 'l1_ratio': None, 'max_iter': 200, 'multi_class': 'auto', 'n_jobs': None, 'penalty': 'l2', 'random_state': None, 'solver': 'newton-cg', 'tol': 0.0001, 'verbose': 0, 'warm_start': False}\n"
          ]
        }
      ]
    },
    {
      "cell_type": "code",
      "metadata": {
        "colab": {
          "base_uri": "https://localhost:8080/",
          "height": 516
        },
        "id": "NzztNrfMQmzJ",
        "outputId": "a2fdcc0e-68f6-4001-8fef-7268346fd459"
      },
      "source": [
        "print(\"Tuned Logistic Regression:\", evaluate(grid_result, X_val, Y_val))\n",
        "roc_plot(model, X_val, Y_val)\n",
        "\n",
        "# Tuning Logistic Regression at best gets 0.83"
      ],
      "execution_count": null,
      "outputs": [
        {
          "output_type": "stream",
          "name": "stdout",
          "text": [
            "Tuned Logistic Regression: 0.8263179822340428\n"
          ]
        },
        {
          "output_type": "execute_result",
          "data": {
            "text/plain": [
              "<sklearn.metrics._plot.roc_curve.RocCurveDisplay at 0x7f9fde679f10>"
            ]
          },
          "metadata": {},
          "execution_count": 89
        },
        {
          "output_type": "display_data",
          "data": {
            "image/png": "[encoded data removed]",
            "text/plain": [
              "<Figure size 500x500 with 1 Axes>"
            ]
          },
          "metadata": {
            "needs_background": "light"
          }
        }
      ]
    },
    {
      "cell_type": "code",
      "metadata": {
        "colab": {
          "base_uri": "https://localhost:8080/"
        },
        "id": "E8JT25PNVhI_",
        "outputId": "ce7f0da1-217f-4723-c995-f43770472d1f"
      },
      "source": [
        "# KNN\n",
        "# leaf_size = list(range(1,20))\n",
        "# n_neighbors = list(range(1,20))\n",
        "# p=[1,2]\n",
        "# hyperparameters = dict(leaf_size=leaf_size, n_neighbors=n_neighbors, p=p)\n",
        "from sklearn.neighbors import KNeighborsClassifier\n",
        "from sklearn.model_selection import GridSearchCV\n",
        "from sklearn.model_selection import RepeatedStratifiedKFold\n",
        "grid_params = { 'n_neighbors' : [5,10,15],\n",
        "               'weights' : ['uniform','distance'],\n",
        "               'metric' : ['euclidean','manhattan']}\n",
        "\n",
        "\n",
        "#Create new KNN object\n",
        "knn_2 = KNeighborsClassifier()#Use GridSearch\n",
        "clf = GridSearchCV(knn_2, grid_params, cv=2) #Fit the model\n",
        "best_model = clf.fit(X_train, Y_train)\n",
        "print('Best p:', best_model.best_estimator_.get_params()['p'])\n",
        "print('Best n_neighbors:', best_model.best_estimator_.get_params()['n_neighbors'])\n",
        "best_model.predict(X_val)"
      ],
      "execution_count": null,
      "outputs": [
        {
          "output_type": "stream",
          "name": "stdout",
          "text": [
            "Best p: 2\n",
            "Best n_neighbors: 15\n"
          ]
        },
        {
          "output_type": "execute_result",
          "data": {
            "text/plain": [
              "array([0, 0, 0, ..., 0, 0, 1])"
            ]
          },
          "metadata": {},
          "execution_count": 19
        }
      ]
    },
    {
      "cell_type": "code",
      "metadata": {
        "colab": {
          "base_uri": "https://localhost:8080/"
        },
        "id": "UopZS_JA-V6p",
        "outputId": "04b60184-75b5-4242-d618-7a71bf80558c"
      },
      "source": [
        "best_model.best_estimator_.get_params()"
      ],
      "execution_count": null,
      "outputs": [
        {
          "output_type": "execute_result",
          "data": {
            "text/plain": [
              "{'algorithm': 'auto',\n",
              " 'leaf_size': 30,\n",
              " 'metric': 'euclidean',\n",
              " 'metric_params': None,\n",
              " 'n_jobs': None,\n",
              " 'n_neighbors': 15,\n",
              " 'p': 2,\n",
              " 'weights': 'distance'}"
            ]
          },
          "metadata": {},
          "execution_count": 20
        }
      ]
    },
    {
      "cell_type": "markdown",
      "metadata": {
        "id": "UkB6mMuSkkmN"
      },
      "source": [
        "# Report your results\n",
        "\n",
        "**NOTE:** You should use the test dataset only when you are done with hyperparameter search on your model. \n",
        "This is because the test dataset is not involved in the model building process, thereby making sure that the performance evaluation on the test dataset measures how well the proposed model is able to generalize."
      ]
    },
    {
      "cell_type": "code",
      "metadata": {
        "id": "pxqeBPIMko9Z",
        "colab": {
          "base_uri": "https://localhost:8080/"
        },
        "outputId": "558fe0b0-c272-4c18-b685-3d697ea3b89f"
      },
      "source": [
        "X_test, Y_test = preprocess(test_data, encoder, lb)\n",
        "best_logreg = LogisticRegression(C=1.0, max_iter=200, penalty='l2', solver='newton-cg') # had to increase max iterations as it was failing to converge.\n",
        "best_logreg.fit(X_train, Y_train)\n",
        "y_pred = best_logreg.predict(X_test)\n",
        "auc_score = evaluate(best_logreg, X_test, Y_test)\n",
        "print(f\"AUC-ROC on the test dataset:{auc_score}\")\n"
      ],
      "execution_count": null,
      "outputs": [
        {
          "output_type": "stream",
          "name": "stdout",
          "text": [
            "AUC-ROC on the test dataset:0.802307682827764\n"
          ]
        }
      ]
    },
    {
      "cell_type": "code",
      "metadata": {
        "colab": {
          "base_uri": "https://localhost:8080/"
        },
        "id": "sce7ds-usDCR",
        "outputId": "076c3e7b-bd91-40ac-e876-7bbbb8f095f9"
      },
      "source": [
        "X_test, Y_test = preprocess(test_data, encoder, lb)\n",
        "cnb = CategoricalNB()\n",
        "cnb.fit(X_train, Y_train)\n",
        "y_pred_cnb = cnb.predict(X_test)\n",
        "metrics.accuracy_score(Y_test, y_pred_cnb)\n",
        "auc_score = evaluate(cnb, X_test, Y_test)\n",
        "print(f\"AUC-ROC on the test dataset:{auc_score}\")"
      ],
      "execution_count": null,
      "outputs": [
        {
          "output_type": "stream",
          "name": "stdout",
          "text": [
            "AUC-ROC on the test dataset:0.7930602191425135\n"
          ]
        }
      ]
    },
    {
      "cell_type": "code",
      "metadata": {
        "id": "9oX6FXBD-bq6"
      },
      "source": [
        "knn = KNeighborsClassifier(algorithm='auto',\n",
        " leaf_size=30,\n",
        " metric='euclidean',\n",
        " metric_params= None,\n",
        " n_jobs= None,\n",
        " n_neighbors= 15,\n",
        " p= 2,\n",
        " weights= 'distance')\n",
        "best_model = knn.fit(X_train, Y_train)\n"
      ],
      "execution_count": null,
      "outputs": []
    },
    {
      "cell_type": "code",
      "metadata": {
        "colab": {
          "base_uri": "https://localhost:8080/",
          "height": 198
        },
        "id": "K1VVpXVn-_8i",
        "outputId": "17413fe5-2b15-47d1-f886-a2f1bcd8c46e"
      },
      "source": [
        "X_test, Y_test = preprocess(test_data, encoder, lb)\n",
        "best_model.predict(X_test)\n"
      ],
      "execution_count": null,
      "outputs": [
        {
          "output_type": "error",
          "ename": "NameError",
          "evalue": "ignored",
          "traceback": [
            "\u001b[0;31m---------------------------------------------------------------------------\u001b[0m",
            "\u001b[0;31mNameError\u001b[0m                                 Traceback (most recent call last)",
            "\u001b[0;32m<ipython-input-23-da0dcd176c96>\u001b[0m in \u001b[0;36m<module>\u001b[0;34m()\u001b[0m\n\u001b[1;32m      1\u001b[0m \u001b[0mX_test\u001b[0m\u001b[0;34m,\u001b[0m \u001b[0mY_test\u001b[0m \u001b[0;34m=\u001b[0m \u001b[0mpreprocess\u001b[0m\u001b[0;34m(\u001b[0m\u001b[0mtest_data\u001b[0m\u001b[0;34m,\u001b[0m \u001b[0mencoder\u001b[0m\u001b[0;34m,\u001b[0m \u001b[0mlb\u001b[0m\u001b[0;34m)\u001b[0m\u001b[0;34m\u001b[0m\u001b[0;34m\u001b[0m\u001b[0m\n\u001b[1;32m      2\u001b[0m \u001b[0mbest_model\u001b[0m\u001b[0;34m.\u001b[0m\u001b[0mpredict\u001b[0m\u001b[0;34m(\u001b[0m\u001b[0mX_test\u001b[0m\u001b[0;34m)\u001b[0m\u001b[0;34m\u001b[0m\u001b[0;34m\u001b[0m\u001b[0m\n\u001b[0;32m----> 3\u001b[0;31m \u001b[0mauc_score\u001b[0m \u001b[0;34m=\u001b[0m \u001b[0mevaluate\u001b[0m\u001b[0;34m(\u001b[0m\u001b[0mbest_model\u001b[0m\u001b[0;34m,\u001b[0m \u001b[0mX_test\u001b[0m\u001b[0;34m,\u001b[0m \u001b[0mY_test\u001b[0m\u001b[0;34m)\u001b[0m\u001b[0;34m\u001b[0m\u001b[0;34m\u001b[0m\u001b[0m\n\u001b[0m",
            "\u001b[0;31mNameError\u001b[0m: name 'evaluate' is not defined"
          ]
        }
      ]
    },
    {
      "cell_type": "code",
      "metadata": {
        "id": "8tUxSv98AGY7"
      },
      "source": [
        "auc_score = evaluate(best_model, X_test, Y_test)"
      ],
      "execution_count": null,
      "outputs": []
    },
    {
      "cell_type": "code",
      "metadata": {
        "colab": {
          "base_uri": "https://localhost:8080/"
        },
        "id": "11U4dgBsAKSk",
        "outputId": "a5a0232f-c348-4af2-9251-28259a3a105d"
      },
      "source": [
        "auc_score"
      ],
      "execution_count": null,
      "outputs": [
        {
          "output_type": "execute_result",
          "data": {
            "text/plain": [
              "0.794513560805036"
            ]
          },
          "metadata": {},
          "execution_count": 26
        }
      ]
    },
    {
      "cell_type": "markdown",
      "metadata": {
        "id": "CmnEnKthyBGz"
      },
      "source": [
        "Is this the end?\n",
        "\n",
        "What do you need to do to make the model practically applicable? How would you use this model in the real life?"
      ]
    },
    {
      "cell_type": "markdown",
      "metadata": {
        "id": "f5sO-B1-BnFz"
      },
      "source": [
        "# Collaborate with Ensemble \n",
        "\n",
        "You can combine various models to form an ensemble model. \n",
        "There are various ways to combine these models. \n",
        "All of them serve a particular purpose (e.g. reducing variance, increasing accuracy. etc.). \n",
        "\n",
        "The simplest example of an ensemble is to combine the constituent models via voting. This can be done in two ways:\n",
        "*  soft voting - likelihood of the input belonging to a class is the mean of the likelihood predicted by the constituent models, \n",
        "*  hard-voting - likelihood of the input belonging to a class is determined by frequency of the constutuent models predicting that class for the input.\n",
        "\n",
        "Thus, if you are working in a team, let each member try out different models. At the end, combine your models and make an ensemble model. \n",
        "\n",
        "Here is the [User Guide](https://scikit-learn.org/stable/modules/ensemble.html#voting-classifier) and [API](https://scikit-learn.org/stable/modules/generated/sklearn.ensemble.VotingClassifier.html#sklearn.ensemble.VotingClassifier) for making such an ensemble model."
      ]
    },
    {
      "cell_type": "markdown",
      "metadata": {
        "id": "awguX_CZs17n"
      },
      "source": [
        "# Extras: Class imbalance\n",
        "\n",
        "**TRY:** \n",
        " Why not try resampling techniques to optimize for ROC AUC?\n",
        "\n",
        "\n",
        "\n"
      ]
    },
    {
      "cell_type": "markdown",
      "metadata": {
        "id": "jRQOtp3sNoKq"
      },
      "source": [
        "# Extras: Dimensionality Reduction\n",
        "\n",
        "**TRY:** You can try dimensionality reduction from 16 dimensions to just 2 dimensions and visualize 2D plot with just two categories - \"positive\" and \"negative\". \n",
        "To do this, try various dimension reduction techniques, for example, [LDA](https://scikit-learn.org/stable/modules/lda_qda.html#mathematical-formulation-of-lda-dimensionality-reduction), [PCA](https://scikit-learn.org/stable/modules/generated/sklearn.decomposition.PCA.html#sklearn.decomposition.PCA), [t-SNE](https://scikit-learn.org/stable/modules/generated/sklearn.manifold.TSNE.html). \n"
      ]
    },
    {
      "cell_type": "markdown",
      "metadata": {
        "id": "o-B7PKHpewgz"
      },
      "source": [
        "# Poster template \n",
        "\n",
        "It is often the most difficult task to communicate the project's finding concisely in 1 minute or in a 1 slide. \n",
        "Therefore, our suggestion will be to touch upon the following points in your poster -  \n",
        "\n",
        "1. Briefly define the problem\n",
        "2. Briefly describe the dataset \n",
        "3. What did you learn about various models/techniques/etc.? e.g. \n",
        "4. What's the auc score of your final model did you get?\n",
        "\n",
        "If you want to learn what matters in building such posters, check out this great [YouTube video](https://www.youtube.com/watch?v=1RwJbhkCA58).\n",
        "Specifically, we should try and avoid posters with a lot of stuff to avoid cognitive overload. \n",
        "The templates suggested in the video can be found [here](https://osf.io/ef53g/). \n",
        "Note these are for academic papers, however, you can follow a similar ideology to concizsely display your work. "
      ]
    }
  ]
}